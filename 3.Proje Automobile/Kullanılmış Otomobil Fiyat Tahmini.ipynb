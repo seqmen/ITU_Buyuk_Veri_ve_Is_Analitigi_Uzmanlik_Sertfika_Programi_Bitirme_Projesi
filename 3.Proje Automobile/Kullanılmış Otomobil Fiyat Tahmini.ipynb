{
 "cells": [
  {
   "cell_type": "markdown",
   "id": "72064fe2",
   "metadata": {},
   "source": [
    "# Otomobil Fiyat Tahminleme Projesi"
   ]
  },
  {
   "cell_type": "markdown",
   "id": "84ee23a8",
   "metadata": {},
   "source": [
    "Bu proje, aşağıda tanımlanan değişkenlerden yararlanılarak, çeşitli özellikleri verilen ikinci el bir otomobilin satış fiyatını hesaplayabilmeyi hedeflemektedir."
   ]
  },
  {
   "cell_type": "markdown",
   "id": "82869a48",
   "metadata": {},
   "source": [
    "## Değişkenlerin Tanımlanması\n",
    "\n",
    "* symboling: sigorta risk değeri. (-3) en risksiz, (+3) en riskli değerdir\n",
    "* normalised-losses: tanımlanan her araç grubu için, araç grubundaki diğer araçlara göre sigorta kayıp ödemesi ortalaması\n",
    "* make: marka\n",
    "* fuel-type: kullandığı yakıt tipi\n",
    "* aspiration: emisyon\n",
    "* num-of-doors: kapı sayısı\n",
    "* body-style: gövde\n",
    "* drive-wheels: motor dişlisi\n",
    "* engine-location: motor yeri\n",
    "* wheel-base: tekerlekler arası mesafe\n",
    "* length: uzunluk\n",
    "* width: genişlik\n",
    "* height: yükseklik\n",
    "* curb-weight: yüksüz ağırlık\n",
    "* engine-type: motor tipi\n",
    "* num-of-cylinders: silindir sayısı\n",
    "* engine-size: motor hacmi\n",
    "* fuel-system: yakın sistemi\n",
    "* bore: silindir çapı\n",
    "* stroke: strok\n",
    "* compression-ratio: sıkıştırma oranı\n",
    "* horsepower: beygir gücü\n",
    "* peak-rpm: en yüksek motor devri\n",
    "* city-mpg: şehir içinde harcadığı galon yakıt başına mil\n",
    "* highway-mpg: otoyolda  harcadığı galon yakıt başına mil\n",
    "* price: fiyat"
   ]
  },
  {
   "cell_type": "markdown",
   "id": "de52f3ac",
   "metadata": {},
   "source": [
    "## Kullanılan Kütüphanelerin ve Verilerin Yüklenmesi"
   ]
  },
  {
   "cell_type": "code",
   "execution_count": 1,
   "id": "4ca51706",
   "metadata": {},
   "outputs": [],
   "source": [
    "## Kütüphaneler\n",
    "import pandas as pd\n",
    "import numpy as np\n",
    "import matplotlib.pyplot as plt\n",
    "from sklearn.model_selection import cross_val_score\n",
    "from sklearn.metrics import r2_score ,mean_absolute_error ,mean_squared_error\n",
    "import statsmodels.api as sm\n",
    "from sklearn.model_selection import train_test_split\n",
    "from sklearn import preprocessing\n",
    "from sklearn.preprocessing import StandardScaler\n",
    "from warnings import filterwarnings\n",
    "import seaborn as sns\n",
    "\n",
    "filterwarnings('ignore')"
   ]
  },
  {
   "cell_type": "markdown",
   "id": "9dc8725a",
   "metadata": {},
   "source": [
    "## Verilerin Yüklenmesi\n"
   ]
  },
  {
   "cell_type": "code",
   "execution_count": 2,
   "id": "d8f724ab",
   "metadata": {},
   "outputs": [
    {
     "data": {
      "text/html": [
       "<div>\n",
       "<style scoped>\n",
       "    .dataframe tbody tr th:only-of-type {\n",
       "        vertical-align: middle;\n",
       "    }\n",
       "\n",
       "    .dataframe tbody tr th {\n",
       "        vertical-align: top;\n",
       "    }\n",
       "\n",
       "    .dataframe thead th {\n",
       "        text-align: right;\n",
       "    }\n",
       "</style>\n",
       "<table border=\"1\" class=\"dataframe\">\n",
       "  <thead>\n",
       "    <tr style=\"text-align: right;\">\n",
       "      <th></th>\n",
       "      <th>symboling</th>\n",
       "      <th>normalized-losses</th>\n",
       "      <th>make</th>\n",
       "      <th>fuel-type</th>\n",
       "      <th>aspiration</th>\n",
       "      <th>num-of-doors</th>\n",
       "      <th>body-style</th>\n",
       "      <th>drive-wheels</th>\n",
       "      <th>engine-location</th>\n",
       "      <th>wheel-base</th>\n",
       "      <th>...</th>\n",
       "      <th>engine-size</th>\n",
       "      <th>fuel-system</th>\n",
       "      <th>bore</th>\n",
       "      <th>stroke</th>\n",
       "      <th>compression-ratio</th>\n",
       "      <th>horsepower</th>\n",
       "      <th>peak-rpm</th>\n",
       "      <th>city-mpg</th>\n",
       "      <th>highway-mpg</th>\n",
       "      <th>price</th>\n",
       "    </tr>\n",
       "  </thead>\n",
       "  <tbody>\n",
       "    <tr>\n",
       "      <th>0</th>\n",
       "      <td>3</td>\n",
       "      <td>NaN</td>\n",
       "      <td>alfa-romero</td>\n",
       "      <td>gas</td>\n",
       "      <td>std</td>\n",
       "      <td>two</td>\n",
       "      <td>convertible</td>\n",
       "      <td>rwd</td>\n",
       "      <td>front</td>\n",
       "      <td>88.6</td>\n",
       "      <td>...</td>\n",
       "      <td>130</td>\n",
       "      <td>mpfi</td>\n",
       "      <td>3.47</td>\n",
       "      <td>2.68</td>\n",
       "      <td>9.0</td>\n",
       "      <td>111</td>\n",
       "      <td>5000</td>\n",
       "      <td>21</td>\n",
       "      <td>27</td>\n",
       "      <td>13495</td>\n",
       "    </tr>\n",
       "    <tr>\n",
       "      <th>1</th>\n",
       "      <td>3</td>\n",
       "      <td>NaN</td>\n",
       "      <td>alfa-romero</td>\n",
       "      <td>gas</td>\n",
       "      <td>std</td>\n",
       "      <td>two</td>\n",
       "      <td>convertible</td>\n",
       "      <td>rwd</td>\n",
       "      <td>front</td>\n",
       "      <td>88.6</td>\n",
       "      <td>...</td>\n",
       "      <td>130</td>\n",
       "      <td>mpfi</td>\n",
       "      <td>3.47</td>\n",
       "      <td>2.68</td>\n",
       "      <td>9.0</td>\n",
       "      <td>111</td>\n",
       "      <td>5000</td>\n",
       "      <td>21</td>\n",
       "      <td>27</td>\n",
       "      <td>16500</td>\n",
       "    </tr>\n",
       "    <tr>\n",
       "      <th>2</th>\n",
       "      <td>1</td>\n",
       "      <td>NaN</td>\n",
       "      <td>alfa-romero</td>\n",
       "      <td>gas</td>\n",
       "      <td>std</td>\n",
       "      <td>two</td>\n",
       "      <td>hatchback</td>\n",
       "      <td>rwd</td>\n",
       "      <td>front</td>\n",
       "      <td>94.5</td>\n",
       "      <td>...</td>\n",
       "      <td>152</td>\n",
       "      <td>mpfi</td>\n",
       "      <td>2.68</td>\n",
       "      <td>3.47</td>\n",
       "      <td>9.0</td>\n",
       "      <td>154</td>\n",
       "      <td>5000</td>\n",
       "      <td>19</td>\n",
       "      <td>26</td>\n",
       "      <td>16500</td>\n",
       "    </tr>\n",
       "    <tr>\n",
       "      <th>3</th>\n",
       "      <td>2</td>\n",
       "      <td>164.0</td>\n",
       "      <td>audi</td>\n",
       "      <td>gas</td>\n",
       "      <td>std</td>\n",
       "      <td>four</td>\n",
       "      <td>sedan</td>\n",
       "      <td>fwd</td>\n",
       "      <td>front</td>\n",
       "      <td>99.8</td>\n",
       "      <td>...</td>\n",
       "      <td>109</td>\n",
       "      <td>mpfi</td>\n",
       "      <td>3.19</td>\n",
       "      <td>3.4</td>\n",
       "      <td>10.0</td>\n",
       "      <td>102</td>\n",
       "      <td>5500</td>\n",
       "      <td>24</td>\n",
       "      <td>30</td>\n",
       "      <td>13950</td>\n",
       "    </tr>\n",
       "    <tr>\n",
       "      <th>4</th>\n",
       "      <td>2</td>\n",
       "      <td>164.0</td>\n",
       "      <td>audi</td>\n",
       "      <td>gas</td>\n",
       "      <td>std</td>\n",
       "      <td>four</td>\n",
       "      <td>sedan</td>\n",
       "      <td>4wd</td>\n",
       "      <td>front</td>\n",
       "      <td>99.4</td>\n",
       "      <td>...</td>\n",
       "      <td>136</td>\n",
       "      <td>mpfi</td>\n",
       "      <td>3.19</td>\n",
       "      <td>3.4</td>\n",
       "      <td>8.0</td>\n",
       "      <td>115</td>\n",
       "      <td>5500</td>\n",
       "      <td>18</td>\n",
       "      <td>22</td>\n",
       "      <td>17450</td>\n",
       "    </tr>\n",
       "  </tbody>\n",
       "</table>\n",
       "<p>5 rows × 26 columns</p>\n",
       "</div>"
      ],
      "text/plain": [
       "   symboling  normalized-losses         make fuel-type aspiration  \\\n",
       "0          3                NaN  alfa-romero       gas        std   \n",
       "1          3                NaN  alfa-romero       gas        std   \n",
       "2          1                NaN  alfa-romero       gas        std   \n",
       "3          2              164.0         audi       gas        std   \n",
       "4          2              164.0         audi       gas        std   \n",
       "\n",
       "  num-of-doors   body-style drive-wheels engine-location  wheel-base  ...  \\\n",
       "0          two  convertible          rwd           front        88.6  ...   \n",
       "1          two  convertible          rwd           front        88.6  ...   \n",
       "2          two    hatchback          rwd           front        94.5  ...   \n",
       "3         four        sedan          fwd           front        99.8  ...   \n",
       "4         four        sedan          4wd           front        99.4  ...   \n",
       "\n",
       "   engine-size  fuel-system  bore  stroke compression-ratio horsepower  \\\n",
       "0          130         mpfi  3.47    2.68               9.0        111   \n",
       "1          130         mpfi  3.47    2.68               9.0        111   \n",
       "2          152         mpfi  2.68    3.47               9.0        154   \n",
       "3          109         mpfi  3.19     3.4              10.0        102   \n",
       "4          136         mpfi  3.19     3.4               8.0        115   \n",
       "\n",
       "   peak-rpm city-mpg highway-mpg  price  \n",
       "0      5000       21          27  13495  \n",
       "1      5000       21          27  16500  \n",
       "2      5000       19          26  16500  \n",
       "3      5500       24          30  13950  \n",
       "4      5500       18          22  17450  \n",
       "\n",
       "[5 rows x 26 columns]"
      ]
     },
     "execution_count": 2,
     "metadata": {},
     "output_type": "execute_result"
    }
   ],
   "source": [
    "df = pd.read_csv(\"automobile.csv\",sep=\",\")\n",
    "df.head()"
   ]
  },
  {
   "cell_type": "markdown",
   "id": "b530f00c",
   "metadata": {},
   "source": [
    "Veriyi daha iyi tanıyabilmek adına, değişkenlerin istatistiksel ve benzersiz değerleri incelendi."
   ]
  },
  {
   "cell_type": "code",
   "execution_count": 3,
   "id": "f029bb6d",
   "metadata": {},
   "outputs": [
    {
     "data": {
      "text/html": [
       "<div>\n",
       "<style scoped>\n",
       "    .dataframe tbody tr th:only-of-type {\n",
       "        vertical-align: middle;\n",
       "    }\n",
       "\n",
       "    .dataframe tbody tr th {\n",
       "        vertical-align: top;\n",
       "    }\n",
       "\n",
       "    .dataframe thead th {\n",
       "        text-align: right;\n",
       "    }\n",
       "</style>\n",
       "<table border=\"1\" class=\"dataframe\">\n",
       "  <thead>\n",
       "    <tr style=\"text-align: right;\">\n",
       "      <th></th>\n",
       "      <th>count</th>\n",
       "      <th>mean</th>\n",
       "      <th>std</th>\n",
       "      <th>min</th>\n",
       "      <th>25%</th>\n",
       "      <th>50%</th>\n",
       "      <th>75%</th>\n",
       "      <th>max</th>\n",
       "    </tr>\n",
       "  </thead>\n",
       "  <tbody>\n",
       "    <tr>\n",
       "      <th>symboling</th>\n",
       "      <td>202.0</td>\n",
       "      <td>0.831683</td>\n",
       "      <td>1.258360</td>\n",
       "      <td>-2.0</td>\n",
       "      <td>0.000</td>\n",
       "      <td>1.0</td>\n",
       "      <td>2.000</td>\n",
       "      <td>3.0</td>\n",
       "    </tr>\n",
       "    <tr>\n",
       "      <th>normalized-losses</th>\n",
       "      <td>165.0</td>\n",
       "      <td>121.836364</td>\n",
       "      <td>35.396412</td>\n",
       "      <td>65.0</td>\n",
       "      <td>94.000</td>\n",
       "      <td>115.0</td>\n",
       "      <td>150.000</td>\n",
       "      <td>256.0</td>\n",
       "    </tr>\n",
       "    <tr>\n",
       "      <th>wheel-base</th>\n",
       "      <td>202.0</td>\n",
       "      <td>98.848020</td>\n",
       "      <td>6.094523</td>\n",
       "      <td>86.6</td>\n",
       "      <td>94.500</td>\n",
       "      <td>97.0</td>\n",
       "      <td>102.400</td>\n",
       "      <td>120.9</td>\n",
       "    </tr>\n",
       "    <tr>\n",
       "      <th>length</th>\n",
       "      <td>202.0</td>\n",
       "      <td>174.273267</td>\n",
       "      <td>12.334330</td>\n",
       "      <td>141.1</td>\n",
       "      <td>166.800</td>\n",
       "      <td>173.2</td>\n",
       "      <td>183.500</td>\n",
       "      <td>208.1</td>\n",
       "    </tr>\n",
       "    <tr>\n",
       "      <th>width</th>\n",
       "      <td>202.0</td>\n",
       "      <td>65.903960</td>\n",
       "      <td>2.106915</td>\n",
       "      <td>60.3</td>\n",
       "      <td>64.125</td>\n",
       "      <td>65.5</td>\n",
       "      <td>66.825</td>\n",
       "      <td>72.0</td>\n",
       "    </tr>\n",
       "    <tr>\n",
       "      <th>height</th>\n",
       "      <td>202.0</td>\n",
       "      <td>53.775248</td>\n",
       "      <td>2.444769</td>\n",
       "      <td>47.8</td>\n",
       "      <td>52.000</td>\n",
       "      <td>54.1</td>\n",
       "      <td>55.500</td>\n",
       "      <td>59.8</td>\n",
       "    </tr>\n",
       "    <tr>\n",
       "      <th>curb-weight</th>\n",
       "      <td>202.0</td>\n",
       "      <td>2558.173267</td>\n",
       "      <td>517.236654</td>\n",
       "      <td>1488.0</td>\n",
       "      <td>2174.250</td>\n",
       "      <td>2417.0</td>\n",
       "      <td>2932.750</td>\n",
       "      <td>4066.0</td>\n",
       "    </tr>\n",
       "    <tr>\n",
       "      <th>engine-size</th>\n",
       "      <td>202.0</td>\n",
       "      <td>126.945545</td>\n",
       "      <td>41.455269</td>\n",
       "      <td>61.0</td>\n",
       "      <td>98.000</td>\n",
       "      <td>120.0</td>\n",
       "      <td>141.000</td>\n",
       "      <td>326.0</td>\n",
       "    </tr>\n",
       "    <tr>\n",
       "      <th>compression-ratio</th>\n",
       "      <td>202.0</td>\n",
       "      <td>10.160990</td>\n",
       "      <td>3.995264</td>\n",
       "      <td>7.0</td>\n",
       "      <td>8.600</td>\n",
       "      <td>9.0</td>\n",
       "      <td>9.400</td>\n",
       "      <td>23.0</td>\n",
       "    </tr>\n",
       "    <tr>\n",
       "      <th>city-mpg</th>\n",
       "      <td>202.0</td>\n",
       "      <td>25.148515</td>\n",
       "      <td>6.421956</td>\n",
       "      <td>13.0</td>\n",
       "      <td>19.000</td>\n",
       "      <td>24.0</td>\n",
       "      <td>30.000</td>\n",
       "      <td>49.0</td>\n",
       "    </tr>\n",
       "    <tr>\n",
       "      <th>highway-mpg</th>\n",
       "      <td>202.0</td>\n",
       "      <td>30.658416</td>\n",
       "      <td>6.809940</td>\n",
       "      <td>16.0</td>\n",
       "      <td>25.000</td>\n",
       "      <td>30.0</td>\n",
       "      <td>34.000</td>\n",
       "      <td>54.0</td>\n",
       "    </tr>\n",
       "    <tr>\n",
       "      <th>price</th>\n",
       "      <td>202.0</td>\n",
       "      <td>13253.752475</td>\n",
       "      <td>7954.919591</td>\n",
       "      <td>5118.0</td>\n",
       "      <td>7778.250</td>\n",
       "      <td>10320.0</td>\n",
       "      <td>16502.250</td>\n",
       "      <td>45400.0</td>\n",
       "    </tr>\n",
       "  </tbody>\n",
       "</table>\n",
       "</div>"
      ],
      "text/plain": [
       "                   count          mean          std     min       25%  \\\n",
       "symboling          202.0      0.831683     1.258360    -2.0     0.000   \n",
       "normalized-losses  165.0    121.836364    35.396412    65.0    94.000   \n",
       "wheel-base         202.0     98.848020     6.094523    86.6    94.500   \n",
       "length             202.0    174.273267    12.334330   141.1   166.800   \n",
       "width              202.0     65.903960     2.106915    60.3    64.125   \n",
       "height             202.0     53.775248     2.444769    47.8    52.000   \n",
       "curb-weight        202.0   2558.173267   517.236654  1488.0  2174.250   \n",
       "engine-size        202.0    126.945545    41.455269    61.0    98.000   \n",
       "compression-ratio  202.0     10.160990     3.995264     7.0     8.600   \n",
       "city-mpg           202.0     25.148515     6.421956    13.0    19.000   \n",
       "highway-mpg        202.0     30.658416     6.809940    16.0    25.000   \n",
       "price              202.0  13253.752475  7954.919591  5118.0  7778.250   \n",
       "\n",
       "                       50%        75%      max  \n",
       "symboling              1.0      2.000      3.0  \n",
       "normalized-losses    115.0    150.000    256.0  \n",
       "wheel-base            97.0    102.400    120.9  \n",
       "length               173.2    183.500    208.1  \n",
       "width                 65.5     66.825     72.0  \n",
       "height                54.1     55.500     59.8  \n",
       "curb-weight         2417.0   2932.750   4066.0  \n",
       "engine-size          120.0    141.000    326.0  \n",
       "compression-ratio      9.0      9.400     23.0  \n",
       "city-mpg              24.0     30.000     49.0  \n",
       "highway-mpg           30.0     34.000     54.0  \n",
       "price              10320.0  16502.250  45400.0  "
      ]
     },
     "execution_count": 3,
     "metadata": {},
     "output_type": "execute_result"
    }
   ],
   "source": [
    "df.describe().T"
   ]
  },
  {
   "cell_type": "markdown",
   "id": "e81f4663",
   "metadata": {},
   "source": [
    "Kategorik değişkenlerin istatistiki bilgileri nelerdir?"
   ]
  },
  {
   "cell_type": "code",
   "execution_count": 4,
   "id": "2ed8324f",
   "metadata": {},
   "outputs": [
    {
     "data": {
      "text/html": [
       "<div>\n",
       "<style scoped>\n",
       "    .dataframe tbody tr th:only-of-type {\n",
       "        vertical-align: middle;\n",
       "    }\n",
       "\n",
       "    .dataframe tbody tr th {\n",
       "        vertical-align: top;\n",
       "    }\n",
       "\n",
       "    .dataframe thead th {\n",
       "        text-align: right;\n",
       "    }\n",
       "</style>\n",
       "<table border=\"1\" class=\"dataframe\">\n",
       "  <thead>\n",
       "    <tr style=\"text-align: right;\">\n",
       "      <th></th>\n",
       "      <th>count</th>\n",
       "      <th>unique</th>\n",
       "      <th>top</th>\n",
       "      <th>freq</th>\n",
       "    </tr>\n",
       "  </thead>\n",
       "  <tbody>\n",
       "    <tr>\n",
       "      <th>make</th>\n",
       "      <td>202</td>\n",
       "      <td>22</td>\n",
       "      <td>toyota</td>\n",
       "      <td>32</td>\n",
       "    </tr>\n",
       "    <tr>\n",
       "      <th>fuel-type</th>\n",
       "      <td>202</td>\n",
       "      <td>2</td>\n",
       "      <td>gas</td>\n",
       "      <td>182</td>\n",
       "    </tr>\n",
       "    <tr>\n",
       "      <th>aspiration</th>\n",
       "      <td>202</td>\n",
       "      <td>2</td>\n",
       "      <td>std</td>\n",
       "      <td>165</td>\n",
       "    </tr>\n",
       "    <tr>\n",
       "      <th>num-of-doors</th>\n",
       "      <td>200</td>\n",
       "      <td>2</td>\n",
       "      <td>four</td>\n",
       "      <td>114</td>\n",
       "    </tr>\n",
       "    <tr>\n",
       "      <th>body-style</th>\n",
       "      <td>202</td>\n",
       "      <td>5</td>\n",
       "      <td>sedan</td>\n",
       "      <td>95</td>\n",
       "    </tr>\n",
       "    <tr>\n",
       "      <th>drive-wheels</th>\n",
       "      <td>202</td>\n",
       "      <td>3</td>\n",
       "      <td>fwd</td>\n",
       "      <td>118</td>\n",
       "    </tr>\n",
       "    <tr>\n",
       "      <th>engine-location</th>\n",
       "      <td>202</td>\n",
       "      <td>2</td>\n",
       "      <td>front</td>\n",
       "      <td>199</td>\n",
       "    </tr>\n",
       "    <tr>\n",
       "      <th>engine-type</th>\n",
       "      <td>202</td>\n",
       "      <td>6</td>\n",
       "      <td>ohc</td>\n",
       "      <td>146</td>\n",
       "    </tr>\n",
       "    <tr>\n",
       "      <th>num-of-cylinders</th>\n",
       "      <td>202</td>\n",
       "      <td>7</td>\n",
       "      <td>four</td>\n",
       "      <td>158</td>\n",
       "    </tr>\n",
       "    <tr>\n",
       "      <th>fuel-system</th>\n",
       "      <td>202</td>\n",
       "      <td>8</td>\n",
       "      <td>mpfi</td>\n",
       "      <td>93</td>\n",
       "    </tr>\n",
       "    <tr>\n",
       "      <th>bore</th>\n",
       "      <td>202</td>\n",
       "      <td>39</td>\n",
       "      <td>3.62</td>\n",
       "      <td>23</td>\n",
       "    </tr>\n",
       "    <tr>\n",
       "      <th>stroke</th>\n",
       "      <td>202</td>\n",
       "      <td>37</td>\n",
       "      <td>3.4</td>\n",
       "      <td>19</td>\n",
       "    </tr>\n",
       "    <tr>\n",
       "      <th>horsepower</th>\n",
       "      <td>202</td>\n",
       "      <td>59</td>\n",
       "      <td>68</td>\n",
       "      <td>19</td>\n",
       "    </tr>\n",
       "    <tr>\n",
       "      <th>peak-rpm</th>\n",
       "      <td>202</td>\n",
       "      <td>23</td>\n",
       "      <td>5500</td>\n",
       "      <td>36</td>\n",
       "    </tr>\n",
       "  </tbody>\n",
       "</table>\n",
       "</div>"
      ],
      "text/plain": [
       "                 count unique     top freq\n",
       "make               202     22  toyota   32\n",
       "fuel-type          202      2     gas  182\n",
       "aspiration         202      2     std  165\n",
       "num-of-doors       200      2    four  114\n",
       "body-style         202      5   sedan   95\n",
       "drive-wheels       202      3     fwd  118\n",
       "engine-location    202      2   front  199\n",
       "engine-type        202      6     ohc  146\n",
       "num-of-cylinders   202      7    four  158\n",
       "fuel-system        202      8    mpfi   93\n",
       "bore               202     39    3.62   23\n",
       "stroke             202     37     3.4   19\n",
       "horsepower         202     59      68   19\n",
       "peak-rpm           202     23    5500   36"
      ]
     },
     "execution_count": 4,
     "metadata": {},
     "output_type": "execute_result"
    }
   ],
   "source": [
    "df.describe(include=\"O\").T"
   ]
  },
  {
   "cell_type": "markdown",
   "id": "57693e33",
   "metadata": {},
   "source": [
    "Verideki boş değerler incelendi ve silindi. "
   ]
  },
  {
   "cell_type": "code",
   "execution_count": 5,
   "id": "4a25f0c1",
   "metadata": {
    "scrolled": false
   },
   "outputs": [
    {
     "data": {
      "text/plain": [
       "normalized-losses    37\n",
       "num-of-doors          2\n",
       "symboling             0\n",
       "engine-type           0\n",
       "highway-mpg           0\n",
       "city-mpg              0\n",
       "peak-rpm              0\n",
       "horsepower            0\n",
       "compression-ratio     0\n",
       "stroke                0\n",
       "bore                  0\n",
       "fuel-system           0\n",
       "engine-size           0\n",
       "num-of-cylinders      0\n",
       "curb-weight           0\n",
       "height                0\n",
       "width                 0\n",
       "length                0\n",
       "wheel-base            0\n",
       "engine-location       0\n",
       "drive-wheels          0\n",
       "body-style            0\n",
       "aspiration            0\n",
       "fuel-type             0\n",
       "make                  0\n",
       "price                 0\n",
       "dtype: int64"
      ]
     },
     "execution_count": 5,
     "metadata": {},
     "output_type": "execute_result"
    }
   ],
   "source": [
    "df.isnull().sum().sort_values(ascending=False)"
   ]
  },
  {
   "cell_type": "code",
   "execution_count": 6,
   "id": "486ce2b9",
   "metadata": {},
   "outputs": [],
   "source": [
    "df.dropna(inplace=True)"
   ]
  },
  {
   "cell_type": "markdown",
   "id": "1def437d",
   "metadata": {},
   "source": [
    "Bore, stroke, horsepower ve peak-rpm değişkenlerinde bulunan \"?\" değerleri \"0\" değeri ile değiştirildi. Bore ve stroke değişkenleri ondalıklı, horsepower ve peak-rpm değişkenleri tamsayı yapılarına dönüştürüldü."
   ]
  },
  {
   "cell_type": "code",
   "execution_count": 7,
   "id": "01d5757b",
   "metadata": {},
   "outputs": [],
   "source": [
    "df.bore.replace(\"?\",0,inplace=True)\n",
    "df.bore = df.bore.values.astype(float)"
   ]
  },
  {
   "cell_type": "code",
   "execution_count": 8,
   "id": "9e445f10",
   "metadata": {},
   "outputs": [],
   "source": [
    "df.stroke.replace(\"?\",0,inplace=True)\n",
    "df.stroke = df.stroke.values.astype(float)"
   ]
  },
  {
   "cell_type": "code",
   "execution_count": 9,
   "id": "07cade4f",
   "metadata": {},
   "outputs": [],
   "source": [
    "df.horsepower.replace(\"?\",0,inplace=True)\n",
    "df.horsepower = df.horsepower.values.astype(int)"
   ]
  },
  {
   "cell_type": "code",
   "execution_count": 10,
   "id": "41a6ca66",
   "metadata": {},
   "outputs": [],
   "source": [
    "df[\"peak-rpm\"].replace(\"?\",0,inplace=True)\n",
    "df[\"peak-rpm\"] = df[\"peak-rpm\"].values.astype(int)"
   ]
  },
  {
   "cell_type": "markdown",
   "id": "53bbca56",
   "metadata": {},
   "source": [
    "Temizleme işlemi sonrasında veriler yeniden incelendi."
   ]
  },
  {
   "cell_type": "code",
   "execution_count": 11,
   "id": "88ea712d",
   "metadata": {},
   "outputs": [
    {
     "data": {
      "text/html": [
       "<div>\n",
       "<style scoped>\n",
       "    .dataframe tbody tr th:only-of-type {\n",
       "        vertical-align: middle;\n",
       "    }\n",
       "\n",
       "    .dataframe tbody tr th {\n",
       "        vertical-align: top;\n",
       "    }\n",
       "\n",
       "    .dataframe thead th {\n",
       "        text-align: right;\n",
       "    }\n",
       "</style>\n",
       "<table border=\"1\" class=\"dataframe\">\n",
       "  <thead>\n",
       "    <tr style=\"text-align: right;\">\n",
       "      <th></th>\n",
       "      <th>count</th>\n",
       "      <th>unique</th>\n",
       "      <th>top</th>\n",
       "      <th>freq</th>\n",
       "    </tr>\n",
       "  </thead>\n",
       "  <tbody>\n",
       "    <tr>\n",
       "      <th>make</th>\n",
       "      <td>164</td>\n",
       "      <td>18</td>\n",
       "      <td>toyota</td>\n",
       "      <td>31</td>\n",
       "    </tr>\n",
       "    <tr>\n",
       "      <th>fuel-type</th>\n",
       "      <td>164</td>\n",
       "      <td>2</td>\n",
       "      <td>gas</td>\n",
       "      <td>149</td>\n",
       "    </tr>\n",
       "    <tr>\n",
       "      <th>aspiration</th>\n",
       "      <td>164</td>\n",
       "      <td>2</td>\n",
       "      <td>std</td>\n",
       "      <td>136</td>\n",
       "    </tr>\n",
       "    <tr>\n",
       "      <th>num-of-doors</th>\n",
       "      <td>164</td>\n",
       "      <td>2</td>\n",
       "      <td>four</td>\n",
       "      <td>96</td>\n",
       "    </tr>\n",
       "    <tr>\n",
       "      <th>body-style</th>\n",
       "      <td>164</td>\n",
       "      <td>5</td>\n",
       "      <td>sedan</td>\n",
       "      <td>80</td>\n",
       "    </tr>\n",
       "    <tr>\n",
       "      <th>drive-wheels</th>\n",
       "      <td>164</td>\n",
       "      <td>3</td>\n",
       "      <td>fwd</td>\n",
       "      <td>105</td>\n",
       "    </tr>\n",
       "    <tr>\n",
       "      <th>engine-location</th>\n",
       "      <td>164</td>\n",
       "      <td>1</td>\n",
       "      <td>front</td>\n",
       "      <td>164</td>\n",
       "    </tr>\n",
       "    <tr>\n",
       "      <th>engine-type</th>\n",
       "      <td>164</td>\n",
       "      <td>6</td>\n",
       "      <td>ohc</td>\n",
       "      <td>124</td>\n",
       "    </tr>\n",
       "    <tr>\n",
       "      <th>num-of-cylinders</th>\n",
       "      <td>164</td>\n",
       "      <td>6</td>\n",
       "      <td>four</td>\n",
       "      <td>137</td>\n",
       "    </tr>\n",
       "    <tr>\n",
       "      <th>fuel-system</th>\n",
       "      <td>164</td>\n",
       "      <td>7</td>\n",
       "      <td>mpfi</td>\n",
       "      <td>66</td>\n",
       "    </tr>\n",
       "  </tbody>\n",
       "</table>\n",
       "</div>"
      ],
      "text/plain": [
       "                 count unique     top freq\n",
       "make               164     18  toyota   31\n",
       "fuel-type          164      2     gas  149\n",
       "aspiration         164      2     std  136\n",
       "num-of-doors       164      2    four   96\n",
       "body-style         164      5   sedan   80\n",
       "drive-wheels       164      3     fwd  105\n",
       "engine-location    164      1   front  164\n",
       "engine-type        164      6     ohc  124\n",
       "num-of-cylinders   164      6    four  137\n",
       "fuel-system        164      7    mpfi   66"
      ]
     },
     "execution_count": 11,
     "metadata": {},
     "output_type": "execute_result"
    }
   ],
   "source": [
    "df.describe(include=\"O\").T"
   ]
  },
  {
   "cell_type": "code",
   "execution_count": 12,
   "id": "e88ad421",
   "metadata": {},
   "outputs": [
    {
     "data": {
      "text/html": [
       "<div>\n",
       "<style scoped>\n",
       "    .dataframe tbody tr th:only-of-type {\n",
       "        vertical-align: middle;\n",
       "    }\n",
       "\n",
       "    .dataframe tbody tr th {\n",
       "        vertical-align: top;\n",
       "    }\n",
       "\n",
       "    .dataframe thead th {\n",
       "        text-align: right;\n",
       "    }\n",
       "</style>\n",
       "<table border=\"1\" class=\"dataframe\">\n",
       "  <thead>\n",
       "    <tr style=\"text-align: right;\">\n",
       "      <th></th>\n",
       "      <th>count</th>\n",
       "      <th>mean</th>\n",
       "      <th>std</th>\n",
       "      <th>min</th>\n",
       "      <th>25%</th>\n",
       "      <th>50%</th>\n",
       "      <th>75%</th>\n",
       "      <th>max</th>\n",
       "    </tr>\n",
       "  </thead>\n",
       "  <tbody>\n",
       "    <tr>\n",
       "      <th>symboling</th>\n",
       "      <td>164.0</td>\n",
       "      <td>0.780488</td>\n",
       "      <td>1.233722</td>\n",
       "      <td>-2.0</td>\n",
       "      <td>0.0000</td>\n",
       "      <td>1.000</td>\n",
       "      <td>2.00</td>\n",
       "      <td>3.00</td>\n",
       "    </tr>\n",
       "    <tr>\n",
       "      <th>normalized-losses</th>\n",
       "      <td>164.0</td>\n",
       "      <td>121.676829</td>\n",
       "      <td>35.445272</td>\n",
       "      <td>65.0</td>\n",
       "      <td>94.0000</td>\n",
       "      <td>115.000</td>\n",
       "      <td>150.00</td>\n",
       "      <td>256.00</td>\n",
       "    </tr>\n",
       "    <tr>\n",
       "      <th>wheel-base</th>\n",
       "      <td>164.0</td>\n",
       "      <td>98.257927</td>\n",
       "      <td>5.178708</td>\n",
       "      <td>86.6</td>\n",
       "      <td>94.5000</td>\n",
       "      <td>96.750</td>\n",
       "      <td>100.60</td>\n",
       "      <td>115.60</td>\n",
       "    </tr>\n",
       "    <tr>\n",
       "      <th>length</th>\n",
       "      <td>164.0</td>\n",
       "      <td>172.430488</td>\n",
       "      <td>11.429938</td>\n",
       "      <td>141.1</td>\n",
       "      <td>166.1500</td>\n",
       "      <td>172.000</td>\n",
       "      <td>177.80</td>\n",
       "      <td>202.60</td>\n",
       "    </tr>\n",
       "    <tr>\n",
       "      <th>width</th>\n",
       "      <td>164.0</td>\n",
       "      <td>65.629878</td>\n",
       "      <td>1.934960</td>\n",
       "      <td>60.3</td>\n",
       "      <td>64.0000</td>\n",
       "      <td>65.400</td>\n",
       "      <td>66.50</td>\n",
       "      <td>71.70</td>\n",
       "    </tr>\n",
       "    <tr>\n",
       "      <th>height</th>\n",
       "      <td>164.0</td>\n",
       "      <td>53.804268</td>\n",
       "      <td>2.334441</td>\n",
       "      <td>49.4</td>\n",
       "      <td>52.0000</td>\n",
       "      <td>54.100</td>\n",
       "      <td>55.50</td>\n",
       "      <td>59.80</td>\n",
       "    </tr>\n",
       "    <tr>\n",
       "      <th>curb-weight</th>\n",
       "      <td>164.0</td>\n",
       "      <td>2463.585366</td>\n",
       "      <td>476.945688</td>\n",
       "      <td>1488.0</td>\n",
       "      <td>2090.7500</td>\n",
       "      <td>2371.000</td>\n",
       "      <td>2808.75</td>\n",
       "      <td>4066.00</td>\n",
       "    </tr>\n",
       "    <tr>\n",
       "      <th>engine-size</th>\n",
       "      <td>164.0</td>\n",
       "      <td>118.219512</td>\n",
       "      <td>30.908344</td>\n",
       "      <td>61.0</td>\n",
       "      <td>97.0000</td>\n",
       "      <td>109.500</td>\n",
       "      <td>134.50</td>\n",
       "      <td>258.00</td>\n",
       "    </tr>\n",
       "    <tr>\n",
       "      <th>bore</th>\n",
       "      <td>164.0</td>\n",
       "      <td>3.222561</td>\n",
       "      <td>0.576103</td>\n",
       "      <td>0.0</td>\n",
       "      <td>3.0500</td>\n",
       "      <td>3.255</td>\n",
       "      <td>3.55</td>\n",
       "      <td>3.94</td>\n",
       "    </tr>\n",
       "    <tr>\n",
       "      <th>stroke</th>\n",
       "      <td>164.0</td>\n",
       "      <td>3.156890</td>\n",
       "      <td>0.578804</td>\n",
       "      <td>0.0</td>\n",
       "      <td>3.0775</td>\n",
       "      <td>3.270</td>\n",
       "      <td>3.41</td>\n",
       "      <td>4.17</td>\n",
       "    </tr>\n",
       "    <tr>\n",
       "      <th>compression-ratio</th>\n",
       "      <td>164.0</td>\n",
       "      <td>10.138537</td>\n",
       "      <td>3.831494</td>\n",
       "      <td>7.0</td>\n",
       "      <td>8.7000</td>\n",
       "      <td>9.000</td>\n",
       "      <td>9.40</td>\n",
       "      <td>23.00</td>\n",
       "    </tr>\n",
       "    <tr>\n",
       "      <th>horsepower</th>\n",
       "      <td>164.0</td>\n",
       "      <td>96.280488</td>\n",
       "      <td>30.437011</td>\n",
       "      <td>48.0</td>\n",
       "      <td>69.0000</td>\n",
       "      <td>91.000</td>\n",
       "      <td>114.00</td>\n",
       "      <td>200.00</td>\n",
       "    </tr>\n",
       "    <tr>\n",
       "      <th>peak-rpm</th>\n",
       "      <td>164.0</td>\n",
       "      <td>5137.195122</td>\n",
       "      <td>479.059084</td>\n",
       "      <td>4150.0</td>\n",
       "      <td>4800.0000</td>\n",
       "      <td>5200.000</td>\n",
       "      <td>5500.00</td>\n",
       "      <td>6600.00</td>\n",
       "    </tr>\n",
       "    <tr>\n",
       "      <th>city-mpg</th>\n",
       "      <td>164.0</td>\n",
       "      <td>26.237805</td>\n",
       "      <td>6.216802</td>\n",
       "      <td>15.0</td>\n",
       "      <td>22.0000</td>\n",
       "      <td>26.000</td>\n",
       "      <td>31.00</td>\n",
       "      <td>49.00</td>\n",
       "    </tr>\n",
       "    <tr>\n",
       "      <th>highway-mpg</th>\n",
       "      <td>164.0</td>\n",
       "      <td>31.817073</td>\n",
       "      <td>6.534717</td>\n",
       "      <td>18.0</td>\n",
       "      <td>28.0000</td>\n",
       "      <td>32.000</td>\n",
       "      <td>37.00</td>\n",
       "      <td>54.00</td>\n",
       "    </tr>\n",
       "    <tr>\n",
       "      <th>price</th>\n",
       "      <td>164.0</td>\n",
       "      <td>11552.292683</td>\n",
       "      <td>5863.878785</td>\n",
       "      <td>5118.0</td>\n",
       "      <td>7446.0000</td>\n",
       "      <td>9279.000</td>\n",
       "      <td>15157.50</td>\n",
       "      <td>35056.00</td>\n",
       "    </tr>\n",
       "  </tbody>\n",
       "</table>\n",
       "</div>"
      ],
      "text/plain": [
       "                   count          mean          std     min        25%  \\\n",
       "symboling          164.0      0.780488     1.233722    -2.0     0.0000   \n",
       "normalized-losses  164.0    121.676829    35.445272    65.0    94.0000   \n",
       "wheel-base         164.0     98.257927     5.178708    86.6    94.5000   \n",
       "length             164.0    172.430488    11.429938   141.1   166.1500   \n",
       "width              164.0     65.629878     1.934960    60.3    64.0000   \n",
       "height             164.0     53.804268     2.334441    49.4    52.0000   \n",
       "curb-weight        164.0   2463.585366   476.945688  1488.0  2090.7500   \n",
       "engine-size        164.0    118.219512    30.908344    61.0    97.0000   \n",
       "bore               164.0      3.222561     0.576103     0.0     3.0500   \n",
       "stroke             164.0      3.156890     0.578804     0.0     3.0775   \n",
       "compression-ratio  164.0     10.138537     3.831494     7.0     8.7000   \n",
       "horsepower         164.0     96.280488    30.437011    48.0    69.0000   \n",
       "peak-rpm           164.0   5137.195122   479.059084  4150.0  4800.0000   \n",
       "city-mpg           164.0     26.237805     6.216802    15.0    22.0000   \n",
       "highway-mpg        164.0     31.817073     6.534717    18.0    28.0000   \n",
       "price              164.0  11552.292683  5863.878785  5118.0  7446.0000   \n",
       "\n",
       "                        50%       75%       max  \n",
       "symboling             1.000      2.00      3.00  \n",
       "normalized-losses   115.000    150.00    256.00  \n",
       "wheel-base           96.750    100.60    115.60  \n",
       "length              172.000    177.80    202.60  \n",
       "width                65.400     66.50     71.70  \n",
       "height               54.100     55.50     59.80  \n",
       "curb-weight        2371.000   2808.75   4066.00  \n",
       "engine-size         109.500    134.50    258.00  \n",
       "bore                  3.255      3.55      3.94  \n",
       "stroke                3.270      3.41      4.17  \n",
       "compression-ratio     9.000      9.40     23.00  \n",
       "horsepower           91.000    114.00    200.00  \n",
       "peak-rpm           5200.000   5500.00   6600.00  \n",
       "city-mpg             26.000     31.00     49.00  \n",
       "highway-mpg          32.000     37.00     54.00  \n",
       "price              9279.000  15157.50  35056.00  "
      ]
     },
     "execution_count": 12,
     "metadata": {},
     "output_type": "execute_result"
    }
   ],
   "source": [
    "df.describe().T"
   ]
  },
  {
   "cell_type": "markdown",
   "id": "8099f4a2",
   "metadata": {},
   "source": [
    "Korelasyon derecesi, bağımlı ve bağımsız değişken arasındaki ilişkinin gücünü açıklamaktadır. İncelediğimiz değişken olan fiyat (price) değişkeninin diğer değişkenler ile arasındaki korelasyon incelendi. En yüksek aynı yönlü ilişkinin ağırlık (curb-weight), genişlik (width), uzunluk (length) gibi aracın fiziksel özellikleri ile birlikte motor hacmi (engine-size), beygir gücü (horsepower) gibi gücü etkileyen değişkenler ile olduğu görüldü. En yüksek negatif yönlü ilişki ise fiyat ile aracın şehir içi ve otoyoldaki galon başı mil yakıt harcaması (city-mpg, highway-mpg) değişkenleri arasındadır."
   ]
  },
  {
   "cell_type": "code",
   "execution_count": 13,
   "id": "94fe22c7",
   "metadata": {},
   "outputs": [
    {
     "data": {
      "text/plain": [
       "price                1.000000\n",
       "curb-weight          0.892036\n",
       "width                0.844927\n",
       "engine-size          0.805552\n",
       "length               0.760173\n",
       "horsepower           0.757889\n",
       "wheel-base           0.732755\n",
       "height               0.227829\n",
       "bore                 0.215184\n",
       "compression-ratio    0.203282\n",
       "normalized-losses    0.194617\n",
       "stroke               0.043461\n",
       "peak-rpm            -0.144119\n",
       "symboling           -0.157994\n",
       "city-mpg            -0.683804\n",
       "highway-mpg         -0.712669\n",
       "Name: price, dtype: float64"
      ]
     },
     "execution_count": 13,
     "metadata": {},
     "output_type": "execute_result"
    }
   ],
   "source": [
    "df.corr()[\"price\"].sort_values(ascending=False)"
   ]
  },
  {
   "cell_type": "markdown",
   "id": "02e4a0d8",
   "metadata": {},
   "source": [
    "Fiyat ile en yüksek aynı yönlü korelasyon değerine sahip yüksüz ağırlık (curb-weight) değişkeni arasındaki dağılım grafiği çizildi."
   ]
  },
  {
   "cell_type": "code",
   "execution_count": 14,
   "id": "353a5786",
   "metadata": {},
   "outputs": [
    {
     "data": {
      "text/plain": [
       "<AxesSubplot:xlabel='price', ylabel='curb-weight'>"
      ]
     },
     "execution_count": 14,
     "metadata": {},
     "output_type": "execute_result"
    },
    {
     "data": {
      "image/png": "[encoded data removed]",
      "text/plain": [
       "<Figure size 432x288 with 1 Axes>"
      ]
     },
     "metadata": {
      "needs_background": "light"
     },
     "output_type": "display_data"
    }
   ],
   "source": [
    "sns.scatterplot(data=df,x=\"price\",y=\"curb-weight\")\n",
    "sns.regplot(data=df,x=\"price\",y=\"curb-weight\")"
   ]
  },
  {
   "cell_type": "markdown",
   "id": "d7107cba",
   "metadata": {},
   "source": [
    "Kategorik değişkenlerin histogramları çizildi."
   ]
  },
  {
   "cell_type": "code",
   "execution_count": 15,
   "id": "40305b9a",
   "metadata": {},
   "outputs": [
    {
     "data": {
      "image/png": "[encoded data removed]",
      "text/plain": [
       "<Figure size 1080x720 with 5 Axes>"
      ]
     },
     "metadata": {
      "needs_background": "light"
     },
     "output_type": "display_data"
    }
   ],
   "source": [
    "plt.figure(figsize=(15, 10))\n",
    "plt.subplot(2,3,1)\n",
    "sns.histplot(df[\"fuel-type\"],bins=2)\n",
    "plt.subplot(2,3,2)\n",
    "sns.histplot(df[\"aspiration\"],bins=2)\n",
    "plt.subplot(2,3,4)\n",
    "sns.histplot(df[\"body-style\"],bins=5)\n",
    "plt.subplot(2,3,5)\n",
    "sns.histplot(df[\"drive-wheels\"],bins=3)\n",
    "plt.subplot(2,3,6)\n",
    "sns.histplot(df[\"engine-type\"],bins=6)\n",
    "plt.show()"
   ]
  },
  {
   "cell_type": "markdown",
   "id": "b472ff59",
   "metadata": {},
   "source": [
    "En pahalı 5 araba markası nedir?"
   ]
  },
  {
   "cell_type": "code",
   "execution_count": 16,
   "id": "7d6f2db0",
   "metadata": {},
   "outputs": [
    {
     "data": {
      "text/plain": [
       "make\n",
       "jaguar           32250.000000\n",
       "mercedes-benz    29726.400000\n",
       "porsche          22018.000000\n",
       "bmw              18857.500000\n",
       "volvo            18443.333333\n",
       "Name: price, dtype: float64"
      ]
     },
     "execution_count": 16,
     "metadata": {},
     "output_type": "execute_result"
    }
   ],
   "source": [
    "df.groupby(by=\"make\").price.mean().sort_values(ascending=False).head(5)"
   ]
  },
  {
   "cell_type": "markdown",
   "id": "eab2bc8c",
   "metadata": {},
   "source": [
    "Veri setindeki en fazla satılan 5 araç nedir?"
   ]
  },
  {
   "cell_type": "code",
   "execution_count": 17,
   "id": "f1e356da",
   "metadata": {},
   "outputs": [
    {
     "data": {
      "text/plain": [
       "toyota    31\n",
       "nissan    18\n",
       "mazda     15\n",
       "honda     13\n",
       "subaru    12\n",
       "Name: make, dtype: int64"
      ]
     },
     "execution_count": 17,
     "metadata": {},
     "output_type": "execute_result"
    }
   ],
   "source": [
    "df.make.value_counts().head()"
   ]
  },
  {
   "cell_type": "code",
   "execution_count": 18,
   "id": "ee1156ad",
   "metadata": {},
   "outputs": [
    {
     "data": {
      "image/png": "[encoded data removed]",
      "text/plain": [
       "<Figure size 720x504 with 1 Axes>"
      ]
     },
     "metadata": {
      "needs_background": "light"
     },
     "output_type": "display_data"
    }
   ],
   "source": [
    "plt.figure(figsize=(10,7))\n",
    "sns.countplot(y=df[\"make\"])\n",
    "plt.show()"
   ]
  },
  {
   "cell_type": "markdown",
   "id": "597af25a",
   "metadata": {},
   "source": [
    "En fazla satılan araç stili nedir?"
   ]
  },
  {
   "cell_type": "code",
   "execution_count": 19,
   "id": "b9d1594a",
   "metadata": {},
   "outputs": [
    {
     "data": {
      "text/plain": [
       "sedan          80\n",
       "hatchback      60\n",
       "wagon          17\n",
       "hardtop         5\n",
       "convertible     2\n",
       "Name: body-style, dtype: int64"
      ]
     },
     "execution_count": 19,
     "metadata": {},
     "output_type": "execute_result"
    }
   ],
   "source": [
    "df[\"body-style\"].value_counts().sort_values(ascending=False)"
   ]
  },
  {
   "cell_type": "markdown",
   "id": "0c90b67c",
   "metadata": {},
   "source": [
    "Hangi marka araçtan kaçar adet satılmış?"
   ]
  },
  {
   "cell_type": "code",
   "execution_count": 20,
   "id": "0a2aeebb",
   "metadata": {},
   "outputs": [
    {
     "data": {
      "image/png": "[encoded data removed]",
      "text/plain": [
       "<Figure size 720x504 with 1 Axes>"
      ]
     },
     "metadata": {
      "needs_background": "light"
     },
     "output_type": "display_data"
    }
   ],
   "source": [
    "plt.figure(figsize=(10,7))\n",
    "sns.countplot(df['body-style'])\n",
    "plt.show()"
   ]
  },
  {
   "cell_type": "markdown",
   "id": "454fb0ec",
   "metadata": {},
   "source": [
    "### Aykırı Değişkenlerin Box Plot Yöntemi ile Belirlenmesi"
   ]
  },
  {
   "cell_type": "markdown",
   "id": "211920ad",
   "metadata": {},
   "source": [
    "Aykırı değerler (outlier), diğer değerlerle karşılaştırıldığında veri setine uygun olmayan değerlerdir. Bu değerlerin fazla olması, veri setinin normal dağılımdan sapmasına, bu nedenle elde edilen istatistiksel sonuçlarda farklılıklara neden olabilmektedir.\n",
    "\n",
    "Q1 (1. kartil): Değerlerin %25'inin başladığı sınır \n",
    "Q3 (3. kartil): Değerlerin %75'inin başladığı sınır \n",
    "IQR: kartiller arası genişlik değeri\n",
    "\n",
    "IQR değeri kullanılarak alt ve üst sınırlar belirlenir. Bu sınırların dışında kalan değerler, aykırı değerlerdir."
   ]
  },
  {
   "cell_type": "code",
   "execution_count": 21,
   "id": "de5807d2",
   "metadata": {},
   "outputs": [
    {
     "data": {
      "image/png": "[encoded data removed]",
      "text/plain": [
       "<Figure size 432x288 with 1 Axes>"
      ]
     },
     "metadata": {
      "needs_background": "light"
     },
     "output_type": "display_data"
    }
   ],
   "source": [
    "sns.boxplot(df[\"price\"], orient = 'v',palette=\"Set2\")\n",
    "plt.show()"
   ]
  },
  {
   "cell_type": "code",
   "execution_count": 22,
   "id": "f15fd641",
   "metadata": {},
   "outputs": [
    {
     "name": "stdout",
     "output_type": "stream",
     "text": [
      "Q1 = 7446.0\n",
      "Q3 = 15157.5\n",
      "Alt Sınır = -4121.25\n",
      "Üst Sınır = 26724.75\n"
     ]
    }
   ],
   "source": [
    "Q1 = df.price.quantile(0.25)\n",
    "Q3 = df.price.quantile(0.75)\n",
    "IQR = Q3-Q1\n",
    "alt_sinir = Q1 -1.5*IQR\n",
    "üst_sinir = Q3 +1.5*IQR\n",
    "\n",
    "print(f\"Q1 = {Q1}\")\n",
    "print(f\"Q3 = {Q3}\")\n",
    "print(f\"Alt Sınır = {alt_sinir}\")\n",
    "print(f\"Üst Sınır = {üst_sinir}\")"
   ]
  },
  {
   "cell_type": "raw",
   "id": "43576c39",
   "metadata": {},
   "source": [
    "Box-plot çizilerek üst sınırın altında kalan veriler tespit edildi. Bu verilerin gerçek hayatta da pahalı araç kategorisine girecek araçlara ait olduğu görüldü."
   ]
  },
  {
   "cell_type": "code",
   "execution_count": 23,
   "id": "f67a5aed",
   "metadata": {},
   "outputs": [
    {
     "data": {
      "text/html": [
       "<div>\n",
       "<style scoped>\n",
       "    .dataframe tbody tr th:only-of-type {\n",
       "        vertical-align: middle;\n",
       "    }\n",
       "\n",
       "    .dataframe tbody tr th {\n",
       "        vertical-align: top;\n",
       "    }\n",
       "\n",
       "    .dataframe thead th {\n",
       "        text-align: right;\n",
       "    }\n",
       "</style>\n",
       "<table border=\"1\" class=\"dataframe\">\n",
       "  <thead>\n",
       "    <tr style=\"text-align: right;\">\n",
       "      <th></th>\n",
       "      <th>symboling</th>\n",
       "      <th>normalized-losses</th>\n",
       "      <th>make</th>\n",
       "      <th>fuel-type</th>\n",
       "      <th>aspiration</th>\n",
       "      <th>num-of-doors</th>\n",
       "      <th>body-style</th>\n",
       "      <th>drive-wheels</th>\n",
       "      <th>engine-location</th>\n",
       "      <th>wheel-base</th>\n",
       "      <th>...</th>\n",
       "      <th>engine-size</th>\n",
       "      <th>fuel-system</th>\n",
       "      <th>bore</th>\n",
       "      <th>stroke</th>\n",
       "      <th>compression-ratio</th>\n",
       "      <th>horsepower</th>\n",
       "      <th>peak-rpm</th>\n",
       "      <th>city-mpg</th>\n",
       "      <th>highway-mpg</th>\n",
       "      <th>price</th>\n",
       "    </tr>\n",
       "  </thead>\n",
       "  <tbody>\n",
       "    <tr>\n",
       "      <th>44</th>\n",
       "      <td>0</td>\n",
       "      <td>145.0</td>\n",
       "      <td>jaguar</td>\n",
       "      <td>gas</td>\n",
       "      <td>std</td>\n",
       "      <td>four</td>\n",
       "      <td>sedan</td>\n",
       "      <td>rwd</td>\n",
       "      <td>front</td>\n",
       "      <td>113.0</td>\n",
       "      <td>...</td>\n",
       "      <td>258</td>\n",
       "      <td>mpfi</td>\n",
       "      <td>3.63</td>\n",
       "      <td>4.17</td>\n",
       "      <td>8.1</td>\n",
       "      <td>176</td>\n",
       "      <td>4750</td>\n",
       "      <td>15</td>\n",
       "      <td>19</td>\n",
       "      <td>32250</td>\n",
       "    </tr>\n",
       "    <tr>\n",
       "      <th>65</th>\n",
       "      <td>-1</td>\n",
       "      <td>93.0</td>\n",
       "      <td>mercedes-benz</td>\n",
       "      <td>diesel</td>\n",
       "      <td>turbo</td>\n",
       "      <td>four</td>\n",
       "      <td>wagon</td>\n",
       "      <td>rwd</td>\n",
       "      <td>front</td>\n",
       "      <td>110.0</td>\n",
       "      <td>...</td>\n",
       "      <td>183</td>\n",
       "      <td>idi</td>\n",
       "      <td>3.58</td>\n",
       "      <td>3.64</td>\n",
       "      <td>21.5</td>\n",
       "      <td>123</td>\n",
       "      <td>4350</td>\n",
       "      <td>22</td>\n",
       "      <td>25</td>\n",
       "      <td>28248</td>\n",
       "    </tr>\n",
       "    <tr>\n",
       "      <th>66</th>\n",
       "      <td>0</td>\n",
       "      <td>93.0</td>\n",
       "      <td>mercedes-benz</td>\n",
       "      <td>diesel</td>\n",
       "      <td>turbo</td>\n",
       "      <td>two</td>\n",
       "      <td>hardtop</td>\n",
       "      <td>rwd</td>\n",
       "      <td>front</td>\n",
       "      <td>106.7</td>\n",
       "      <td>...</td>\n",
       "      <td>183</td>\n",
       "      <td>idi</td>\n",
       "      <td>3.58</td>\n",
       "      <td>3.64</td>\n",
       "      <td>21.5</td>\n",
       "      <td>123</td>\n",
       "      <td>4350</td>\n",
       "      <td>22</td>\n",
       "      <td>25</td>\n",
       "      <td>28176</td>\n",
       "    </tr>\n",
       "    <tr>\n",
       "      <th>67</th>\n",
       "      <td>-1</td>\n",
       "      <td>93.0</td>\n",
       "      <td>mercedes-benz</td>\n",
       "      <td>diesel</td>\n",
       "      <td>turbo</td>\n",
       "      <td>four</td>\n",
       "      <td>sedan</td>\n",
       "      <td>rwd</td>\n",
       "      <td>front</td>\n",
       "      <td>115.6</td>\n",
       "      <td>...</td>\n",
       "      <td>183</td>\n",
       "      <td>idi</td>\n",
       "      <td>3.58</td>\n",
       "      <td>3.64</td>\n",
       "      <td>21.5</td>\n",
       "      <td>123</td>\n",
       "      <td>4350</td>\n",
       "      <td>22</td>\n",
       "      <td>25</td>\n",
       "      <td>31600</td>\n",
       "    </tr>\n",
       "    <tr>\n",
       "      <th>69</th>\n",
       "      <td>3</td>\n",
       "      <td>142.0</td>\n",
       "      <td>mercedes-benz</td>\n",
       "      <td>gas</td>\n",
       "      <td>std</td>\n",
       "      <td>two</td>\n",
       "      <td>convertible</td>\n",
       "      <td>rwd</td>\n",
       "      <td>front</td>\n",
       "      <td>96.6</td>\n",
       "      <td>...</td>\n",
       "      <td>234</td>\n",
       "      <td>mpfi</td>\n",
       "      <td>3.46</td>\n",
       "      <td>3.10</td>\n",
       "      <td>8.3</td>\n",
       "      <td>155</td>\n",
       "      <td>4750</td>\n",
       "      <td>16</td>\n",
       "      <td>18</td>\n",
       "      <td>35056</td>\n",
       "    </tr>\n",
       "  </tbody>\n",
       "</table>\n",
       "<p>5 rows × 26 columns</p>\n",
       "</div>"
      ],
      "text/plain": [
       "    symboling  normalized-losses           make fuel-type aspiration  \\\n",
       "44          0              145.0         jaguar       gas        std   \n",
       "65         -1               93.0  mercedes-benz    diesel      turbo   \n",
       "66          0               93.0  mercedes-benz    diesel      turbo   \n",
       "67         -1               93.0  mercedes-benz    diesel      turbo   \n",
       "69          3              142.0  mercedes-benz       gas        std   \n",
       "\n",
       "   num-of-doors   body-style drive-wheels engine-location  wheel-base  ...  \\\n",
       "44         four        sedan          rwd           front       113.0  ...   \n",
       "65         four        wagon          rwd           front       110.0  ...   \n",
       "66          two      hardtop          rwd           front       106.7  ...   \n",
       "67         four        sedan          rwd           front       115.6  ...   \n",
       "69          two  convertible          rwd           front        96.6  ...   \n",
       "\n",
       "    engine-size  fuel-system  bore  stroke compression-ratio horsepower  \\\n",
       "44          258         mpfi  3.63    4.17               8.1        176   \n",
       "65          183          idi  3.58    3.64              21.5        123   \n",
       "66          183          idi  3.58    3.64              21.5        123   \n",
       "67          183          idi  3.58    3.64              21.5        123   \n",
       "69          234         mpfi  3.46    3.10               8.3        155   \n",
       "\n",
       "    peak-rpm city-mpg  highway-mpg  price  \n",
       "44      4750       15           19  32250  \n",
       "65      4350       22           25  28248  \n",
       "66      4350       22           25  28176  \n",
       "67      4350       22           25  31600  \n",
       "69      4750       16           18  35056  \n",
       "\n",
       "[5 rows x 26 columns]"
      ]
     },
     "execution_count": 23,
     "metadata": {},
     "output_type": "execute_result"
    }
   ],
   "source": [
    "df[df.price > üst_sinir]"
   ]
  },
  {
   "cell_type": "markdown",
   "id": "c2b0f881",
   "metadata": {},
   "source": [
    "Daha kolay inceleyebilmek adına, object (string) formatındaki veriler ile sayısal formattaki veriler ayrı ayrı tablolar haline getirildi."
   ]
  },
  {
   "cell_type": "markdown",
   "id": "da00f0b7",
   "metadata": {},
   "source": [
    "### Kategorik değişkenlerin bir grupta toplanılması"
   ]
  },
  {
   "cell_type": "code",
   "execution_count": 24,
   "id": "909909ba",
   "metadata": {},
   "outputs": [
    {
     "data": {
      "text/html": [
       "<div>\n",
       "<style scoped>\n",
       "    .dataframe tbody tr th:only-of-type {\n",
       "        vertical-align: middle;\n",
       "    }\n",
       "\n",
       "    .dataframe tbody tr th {\n",
       "        vertical-align: top;\n",
       "    }\n",
       "\n",
       "    .dataframe thead th {\n",
       "        text-align: right;\n",
       "    }\n",
       "</style>\n",
       "<table border=\"1\" class=\"dataframe\">\n",
       "  <thead>\n",
       "    <tr style=\"text-align: right;\">\n",
       "      <th></th>\n",
       "      <th>make</th>\n",
       "      <th>fuel-type</th>\n",
       "      <th>aspiration</th>\n",
       "      <th>num-of-doors</th>\n",
       "      <th>body-style</th>\n",
       "      <th>drive-wheels</th>\n",
       "      <th>engine-location</th>\n",
       "      <th>engine-type</th>\n",
       "      <th>num-of-cylinders</th>\n",
       "      <th>fuel-system</th>\n",
       "    </tr>\n",
       "  </thead>\n",
       "  <tbody>\n",
       "    <tr>\n",
       "      <th>3</th>\n",
       "      <td>audi</td>\n",
       "      <td>gas</td>\n",
       "      <td>std</td>\n",
       "      <td>four</td>\n",
       "      <td>sedan</td>\n",
       "      <td>fwd</td>\n",
       "      <td>front</td>\n",
       "      <td>ohc</td>\n",
       "      <td>four</td>\n",
       "      <td>mpfi</td>\n",
       "    </tr>\n",
       "    <tr>\n",
       "      <th>4</th>\n",
       "      <td>audi</td>\n",
       "      <td>gas</td>\n",
       "      <td>std</td>\n",
       "      <td>four</td>\n",
       "      <td>sedan</td>\n",
       "      <td>4wd</td>\n",
       "      <td>front</td>\n",
       "      <td>ohc</td>\n",
       "      <td>five</td>\n",
       "      <td>mpfi</td>\n",
       "    </tr>\n",
       "    <tr>\n",
       "      <th>6</th>\n",
       "      <td>audi</td>\n",
       "      <td>gas</td>\n",
       "      <td>std</td>\n",
       "      <td>four</td>\n",
       "      <td>sedan</td>\n",
       "      <td>fwd</td>\n",
       "      <td>front</td>\n",
       "      <td>ohc</td>\n",
       "      <td>five</td>\n",
       "      <td>mpfi</td>\n",
       "    </tr>\n",
       "    <tr>\n",
       "      <th>8</th>\n",
       "      <td>audi</td>\n",
       "      <td>gas</td>\n",
       "      <td>turbo</td>\n",
       "      <td>four</td>\n",
       "      <td>sedan</td>\n",
       "      <td>fwd</td>\n",
       "      <td>front</td>\n",
       "      <td>ohc</td>\n",
       "      <td>five</td>\n",
       "      <td>mpfi</td>\n",
       "    </tr>\n",
       "    <tr>\n",
       "      <th>9</th>\n",
       "      <td>bmw</td>\n",
       "      <td>gas</td>\n",
       "      <td>std</td>\n",
       "      <td>two</td>\n",
       "      <td>sedan</td>\n",
       "      <td>rwd</td>\n",
       "      <td>front</td>\n",
       "      <td>ohc</td>\n",
       "      <td>four</td>\n",
       "      <td>mpfi</td>\n",
       "    </tr>\n",
       "  </tbody>\n",
       "</table>\n",
       "</div>"
      ],
      "text/plain": [
       "   make fuel-type aspiration num-of-doors body-style drive-wheels  \\\n",
       "3  audi       gas        std         four      sedan          fwd   \n",
       "4  audi       gas        std         four      sedan          4wd   \n",
       "6  audi       gas        std         four      sedan          fwd   \n",
       "8  audi       gas      turbo         four      sedan          fwd   \n",
       "9   bmw       gas        std          two      sedan          rwd   \n",
       "\n",
       "  engine-location engine-type num-of-cylinders fuel-system  \n",
       "3           front         ohc             four        mpfi  \n",
       "4           front         ohc             five        mpfi  \n",
       "6           front         ohc             five        mpfi  \n",
       "8           front         ohc             five        mpfi  \n",
       "9           front         ohc             four        mpfi  "
      ]
     },
     "execution_count": 24,
     "metadata": {},
     "output_type": "execute_result"
    }
   ],
   "source": [
    "dfobject = df.drop([\"symboling\",\"normalized-losses\",\"wheel-base\",\"length\",\"width\",\"height\",\"curb-weight\",\"engine-size\",\"bore\",\"stroke\",\"compression-ratio\",\"horsepower\",\"peak-rpm\",\"city-mpg\",\"highway-mpg\",\"price\"],axis=1)\n",
    "dfobject.head()"
   ]
  },
  {
   "cell_type": "markdown",
   "id": "37a2fb85",
   "metadata": {},
   "source": [
    "### Nümerik değişkenlerin bir grupta toplanılması"
   ]
  },
  {
   "cell_type": "code",
   "execution_count": 25,
   "id": "e8665e5f",
   "metadata": {},
   "outputs": [
    {
     "data": {
      "text/html": [
       "<div>\n",
       "<style scoped>\n",
       "    .dataframe tbody tr th:only-of-type {\n",
       "        vertical-align: middle;\n",
       "    }\n",
       "\n",
       "    .dataframe tbody tr th {\n",
       "        vertical-align: top;\n",
       "    }\n",
       "\n",
       "    .dataframe thead th {\n",
       "        text-align: right;\n",
       "    }\n",
       "</style>\n",
       "<table border=\"1\" class=\"dataframe\">\n",
       "  <thead>\n",
       "    <tr style=\"text-align: right;\">\n",
       "      <th></th>\n",
       "      <th>symboling</th>\n",
       "      <th>normalized-losses</th>\n",
       "      <th>wheel-base</th>\n",
       "      <th>length</th>\n",
       "      <th>width</th>\n",
       "      <th>height</th>\n",
       "      <th>curb-weight</th>\n",
       "      <th>engine-size</th>\n",
       "      <th>bore</th>\n",
       "      <th>stroke</th>\n",
       "      <th>compression-ratio</th>\n",
       "      <th>horsepower</th>\n",
       "      <th>peak-rpm</th>\n",
       "      <th>city-mpg</th>\n",
       "      <th>highway-mpg</th>\n",
       "      <th>price</th>\n",
       "    </tr>\n",
       "  </thead>\n",
       "  <tbody>\n",
       "    <tr>\n",
       "      <th>3</th>\n",
       "      <td>2</td>\n",
       "      <td>164.0</td>\n",
       "      <td>99.8</td>\n",
       "      <td>176.6</td>\n",
       "      <td>66.2</td>\n",
       "      <td>54.3</td>\n",
       "      <td>2337</td>\n",
       "      <td>109</td>\n",
       "      <td>3.19</td>\n",
       "      <td>3.4</td>\n",
       "      <td>10.0</td>\n",
       "      <td>102</td>\n",
       "      <td>5500</td>\n",
       "      <td>24</td>\n",
       "      <td>30</td>\n",
       "      <td>13950</td>\n",
       "    </tr>\n",
       "    <tr>\n",
       "      <th>4</th>\n",
       "      <td>2</td>\n",
       "      <td>164.0</td>\n",
       "      <td>99.4</td>\n",
       "      <td>176.6</td>\n",
       "      <td>66.4</td>\n",
       "      <td>54.3</td>\n",
       "      <td>2824</td>\n",
       "      <td>136</td>\n",
       "      <td>3.19</td>\n",
       "      <td>3.4</td>\n",
       "      <td>8.0</td>\n",
       "      <td>115</td>\n",
       "      <td>5500</td>\n",
       "      <td>18</td>\n",
       "      <td>22</td>\n",
       "      <td>17450</td>\n",
       "    </tr>\n",
       "    <tr>\n",
       "      <th>6</th>\n",
       "      <td>1</td>\n",
       "      <td>158.0</td>\n",
       "      <td>105.8</td>\n",
       "      <td>192.7</td>\n",
       "      <td>71.4</td>\n",
       "      <td>55.7</td>\n",
       "      <td>2844</td>\n",
       "      <td>136</td>\n",
       "      <td>3.19</td>\n",
       "      <td>3.4</td>\n",
       "      <td>8.5</td>\n",
       "      <td>110</td>\n",
       "      <td>5500</td>\n",
       "      <td>19</td>\n",
       "      <td>25</td>\n",
       "      <td>17710</td>\n",
       "    </tr>\n",
       "    <tr>\n",
       "      <th>8</th>\n",
       "      <td>1</td>\n",
       "      <td>158.0</td>\n",
       "      <td>105.8</td>\n",
       "      <td>192.7</td>\n",
       "      <td>71.4</td>\n",
       "      <td>55.9</td>\n",
       "      <td>3086</td>\n",
       "      <td>131</td>\n",
       "      <td>3.13</td>\n",
       "      <td>3.4</td>\n",
       "      <td>8.3</td>\n",
       "      <td>140</td>\n",
       "      <td>5500</td>\n",
       "      <td>17</td>\n",
       "      <td>20</td>\n",
       "      <td>23875</td>\n",
       "    </tr>\n",
       "    <tr>\n",
       "      <th>9</th>\n",
       "      <td>2</td>\n",
       "      <td>192.0</td>\n",
       "      <td>101.2</td>\n",
       "      <td>176.8</td>\n",
       "      <td>64.8</td>\n",
       "      <td>54.3</td>\n",
       "      <td>2395</td>\n",
       "      <td>108</td>\n",
       "      <td>3.50</td>\n",
       "      <td>2.8</td>\n",
       "      <td>8.8</td>\n",
       "      <td>101</td>\n",
       "      <td>5800</td>\n",
       "      <td>23</td>\n",
       "      <td>29</td>\n",
       "      <td>16430</td>\n",
       "    </tr>\n",
       "  </tbody>\n",
       "</table>\n",
       "</div>"
      ],
      "text/plain": [
       "   symboling  normalized-losses  wheel-base  length  width  height  \\\n",
       "3          2              164.0        99.8   176.6   66.2    54.3   \n",
       "4          2              164.0        99.4   176.6   66.4    54.3   \n",
       "6          1              158.0       105.8   192.7   71.4    55.7   \n",
       "8          1              158.0       105.8   192.7   71.4    55.9   \n",
       "9          2              192.0       101.2   176.8   64.8    54.3   \n",
       "\n",
       "   curb-weight  engine-size  bore  stroke  compression-ratio  horsepower  \\\n",
       "3         2337          109  3.19     3.4               10.0         102   \n",
       "4         2824          136  3.19     3.4                8.0         115   \n",
       "6         2844          136  3.19     3.4                8.5         110   \n",
       "8         3086          131  3.13     3.4                8.3         140   \n",
       "9         2395          108  3.50     2.8                8.8         101   \n",
       "\n",
       "   peak-rpm  city-mpg  highway-mpg  price  \n",
       "3      5500        24           30  13950  \n",
       "4      5500        18           22  17450  \n",
       "6      5500        19           25  17710  \n",
       "8      5500        17           20  23875  \n",
       "9      5800        23           29  16430  "
      ]
     },
     "execution_count": 25,
     "metadata": {},
     "output_type": "execute_result"
    }
   ],
   "source": [
    "dfint = df[[\"symboling\",\"normalized-losses\",\"wheel-base\",\"length\",\"width\",\"height\",\"curb-weight\",\"engine-size\",\"bore\",\"stroke\",\"compression-ratio\",\"horsepower\",\"peak-rpm\",\"city-mpg\",\"highway-mpg\",\"price\"]]\n",
    "dfint.head()"
   ]
  },
  {
   "cell_type": "markdown",
   "id": "d778fdb2",
   "metadata": {},
   "source": [
    "### Label Encoder"
   ]
  },
  {
   "cell_type": "markdown",
   "id": "4dfeafe6",
   "metadata": {},
   "source": [
    "Kategorik değişkenlere sayısal değerler atandı."
   ]
  },
  {
   "cell_type": "code",
   "execution_count": 26,
   "id": "105d5d74",
   "metadata": {},
   "outputs": [
    {
     "name": "stdout",
     "output_type": "stream",
     "text": [
      "Kolon adı make olan değişken için\n",
      "'audi' sınıfına verilen numerik değer '0' olarak belirlenmiştir\n",
      "'bmw' sınıfına verilen numerik değer '1' olarak belirlenmiştir\n",
      "'chevrolet' sınıfına verilen numerik değer '2' olarak belirlenmiştir\n",
      "'dodge' sınıfına verilen numerik değer '3' olarak belirlenmiştir\n",
      "'honda' sınıfına verilen numerik değer '4' olarak belirlenmiştir\n",
      "'jaguar' sınıfına verilen numerik değer '5' olarak belirlenmiştir\n",
      "'mazda' sınıfına verilen numerik değer '6' olarak belirlenmiştir\n",
      "'mercedes-benz' sınıfına verilen numerik değer '7' olarak belirlenmiştir\n",
      "'mitsubishi' sınıfına verilen numerik değer '8' olarak belirlenmiştir\n",
      "'nissan' sınıfına verilen numerik değer '9' olarak belirlenmiştir\n",
      "'peugot' sınıfına verilen numerik değer '10' olarak belirlenmiştir\n",
      "'plymouth' sınıfına verilen numerik değer '11' olarak belirlenmiştir\n",
      "'porsche' sınıfına verilen numerik değer '12' olarak belirlenmiştir\n",
      "'saab' sınıfına verilen numerik değer '13' olarak belirlenmiştir\n",
      "'subaru' sınıfına verilen numerik değer '14' olarak belirlenmiştir\n",
      "'toyota' sınıfına verilen numerik değer '15' olarak belirlenmiştir\n",
      "'volkswagen' sınıfına verilen numerik değer '16' olarak belirlenmiştir\n",
      "'volvo' sınıfına verilen numerik değer '17' olarak belirlenmiştir\n",
      " \n",
      "Kolon adı fuel-type olan değişken için\n",
      "'diesel' sınıfına verilen numerik değer '0' olarak belirlenmiştir\n",
      "'gas' sınıfına verilen numerik değer '1' olarak belirlenmiştir\n",
      " \n",
      "Kolon adı aspiration olan değişken için\n",
      "'std' sınıfına verilen numerik değer '0' olarak belirlenmiştir\n",
      "'turbo' sınıfına verilen numerik değer '1' olarak belirlenmiştir\n",
      " \n",
      "Kolon adı num-of-doors olan değişken için\n",
      "'four' sınıfına verilen numerik değer '0' olarak belirlenmiştir\n",
      "'two' sınıfına verilen numerik değer '1' olarak belirlenmiştir\n",
      " \n",
      "Kolon adı body-style olan değişken için\n",
      "'convertible' sınıfına verilen numerik değer '0' olarak belirlenmiştir\n",
      "'hardtop' sınıfına verilen numerik değer '1' olarak belirlenmiştir\n",
      "'hatchback' sınıfına verilen numerik değer '2' olarak belirlenmiştir\n",
      "'sedan' sınıfına verilen numerik değer '3' olarak belirlenmiştir\n",
      "'wagon' sınıfına verilen numerik değer '4' olarak belirlenmiştir\n",
      " \n",
      "Kolon adı drive-wheels olan değişken için\n",
      "'4wd' sınıfına verilen numerik değer '0' olarak belirlenmiştir\n",
      "'fwd' sınıfına verilen numerik değer '1' olarak belirlenmiştir\n",
      "'rwd' sınıfına verilen numerik değer '2' olarak belirlenmiştir\n",
      " \n",
      "Kolon adı engine-location olan değişken için\n",
      "'front' sınıfına verilen numerik değer '0' olarak belirlenmiştir\n",
      " \n",
      "Kolon adı engine-type olan değişken için\n",
      "'dohc' sınıfına verilen numerik değer '0' olarak belirlenmiştir\n",
      "'l' sınıfına verilen numerik değer '1' olarak belirlenmiştir\n",
      "'ohc' sınıfına verilen numerik değer '2' olarak belirlenmiştir\n",
      "'ohcf' sınıfına verilen numerik değer '3' olarak belirlenmiştir\n",
      "'ohcv' sınıfına verilen numerik değer '4' olarak belirlenmiştir\n",
      "'rotor' sınıfına verilen numerik değer '5' olarak belirlenmiştir\n",
      " \n",
      "Kolon adı num-of-cylinders olan değişken için\n",
      "'eight' sınıfına verilen numerik değer '0' olarak belirlenmiştir\n",
      "'five' sınıfına verilen numerik değer '1' olarak belirlenmiştir\n",
      "'four' sınıfına verilen numerik değer '2' olarak belirlenmiştir\n",
      "'six' sınıfına verilen numerik değer '3' olarak belirlenmiştir\n",
      "'three' sınıfına verilen numerik değer '4' olarak belirlenmiştir\n",
      "'two' sınıfına verilen numerik değer '5' olarak belirlenmiştir\n",
      " \n",
      "Kolon adı fuel-system olan değişken için\n",
      "'1bbl' sınıfına verilen numerik değer '0' olarak belirlenmiştir\n",
      "'2bbl' sınıfına verilen numerik değer '1' olarak belirlenmiştir\n",
      "'4bbl' sınıfına verilen numerik değer '2' olarak belirlenmiştir\n",
      "'idi' sınıfına verilen numerik değer '3' olarak belirlenmiştir\n",
      "'mfi' sınıfına verilen numerik değer '4' olarak belirlenmiştir\n",
      "'mpfi' sınıfına verilen numerik değer '5' olarak belirlenmiştir\n",
      "'spdi' sınıfına verilen numerik değer '6' olarak belirlenmiştir\n",
      " \n",
      "10\n"
     ]
    }
   ],
   "source": [
    "import xlsxwriter\n",
    "import math\n",
    "from xlsxwriter.utility import xl_range\n",
    "\n",
    "labelsMatrix = list()\n",
    "\n",
    "\n",
    "from sklearn.preprocessing import LabelEncoder\n",
    "encoder = LabelEncoder()\n",
    "\n",
    "categoryFieldsList = ['make','fuel-type','aspiration','num-of-doors','body-style','drive-wheels','engine-location','engine-type','num-of-cylinders','fuel-system']\n",
    "for item in categoryFieldsList:\n",
    "    dfobject[item] = encoder.fit_transform(dfobject[item])\n",
    "    print(f\"Kolon adı {item} olan değişken için\")\n",
    "    label_value_matrix = []\n",
    "    for id_, class_ in enumerate(encoder.classes_):\n",
    "        if isinstance(class_, float) and math.isnan(class_):\n",
    "            class_ = \"NONE\"\n",
    "        print(f\"'{class_}' sınıfına verilen numerik değer '{id_}' olarak belirlenmiştir\")\n",
    "        label_value_matrix.append([class_,id_])\n",
    "    labelsMatrix.append(pd.DataFrame(label_value_matrix, columns=['label','value']))\n",
    "    print(\" \")\n",
    "    \n",
    "writer = pd.ExcelWriter('ITU_Project_Mappings.xlsx', engine='xlsxwriter')\n",
    "print(len(categoryFieldsList))\n",
    "for i in range(0,len(categoryFieldsList)-1):\n",
    "    workbook = writer.book\n",
    "    labelsMatrix[i].to_excel(\n",
    "        writer, \n",
    "        categoryFieldsList[i],\n",
    "        startcol=0,\n",
    "        startrow=0\n",
    "    )\n",
    "writer.close()"
   ]
  },
  {
   "cell_type": "markdown",
   "id": "f7d9db4e",
   "metadata": {},
   "source": [
    "Tablolar yeniden birleştirilerek tek veri seti haline getirildi."
   ]
  },
  {
   "cell_type": "code",
   "execution_count": 27,
   "id": "925fbcb2",
   "metadata": {},
   "outputs": [
    {
     "data": {
      "text/html": [
       "<div>\n",
       "<style scoped>\n",
       "    .dataframe tbody tr th:only-of-type {\n",
       "        vertical-align: middle;\n",
       "    }\n",
       "\n",
       "    .dataframe tbody tr th {\n",
       "        vertical-align: top;\n",
       "    }\n",
       "\n",
       "    .dataframe thead th {\n",
       "        text-align: right;\n",
       "    }\n",
       "</style>\n",
       "<table border=\"1\" class=\"dataframe\">\n",
       "  <thead>\n",
       "    <tr style=\"text-align: right;\">\n",
       "      <th></th>\n",
       "      <th>make</th>\n",
       "      <th>fuel-type</th>\n",
       "      <th>aspiration</th>\n",
       "      <th>num-of-doors</th>\n",
       "      <th>body-style</th>\n",
       "      <th>drive-wheels</th>\n",
       "      <th>engine-location</th>\n",
       "      <th>engine-type</th>\n",
       "      <th>num-of-cylinders</th>\n",
       "      <th>fuel-system</th>\n",
       "      <th>...</th>\n",
       "      <th>curb-weight</th>\n",
       "      <th>engine-size</th>\n",
       "      <th>bore</th>\n",
       "      <th>stroke</th>\n",
       "      <th>compression-ratio</th>\n",
       "      <th>horsepower</th>\n",
       "      <th>peak-rpm</th>\n",
       "      <th>city-mpg</th>\n",
       "      <th>highway-mpg</th>\n",
       "      <th>price</th>\n",
       "    </tr>\n",
       "  </thead>\n",
       "  <tbody>\n",
       "    <tr>\n",
       "      <th>3</th>\n",
       "      <td>0</td>\n",
       "      <td>1</td>\n",
       "      <td>0</td>\n",
       "      <td>0</td>\n",
       "      <td>3</td>\n",
       "      <td>1</td>\n",
       "      <td>0</td>\n",
       "      <td>2</td>\n",
       "      <td>2</td>\n",
       "      <td>5</td>\n",
       "      <td>...</td>\n",
       "      <td>2337</td>\n",
       "      <td>109</td>\n",
       "      <td>3.19</td>\n",
       "      <td>3.4</td>\n",
       "      <td>10.0</td>\n",
       "      <td>102</td>\n",
       "      <td>5500</td>\n",
       "      <td>24</td>\n",
       "      <td>30</td>\n",
       "      <td>13950</td>\n",
       "    </tr>\n",
       "    <tr>\n",
       "      <th>4</th>\n",
       "      <td>0</td>\n",
       "      <td>1</td>\n",
       "      <td>0</td>\n",
       "      <td>0</td>\n",
       "      <td>3</td>\n",
       "      <td>0</td>\n",
       "      <td>0</td>\n",
       "      <td>2</td>\n",
       "      <td>1</td>\n",
       "      <td>5</td>\n",
       "      <td>...</td>\n",
       "      <td>2824</td>\n",
       "      <td>136</td>\n",
       "      <td>3.19</td>\n",
       "      <td>3.4</td>\n",
       "      <td>8.0</td>\n",
       "      <td>115</td>\n",
       "      <td>5500</td>\n",
       "      <td>18</td>\n",
       "      <td>22</td>\n",
       "      <td>17450</td>\n",
       "    </tr>\n",
       "    <tr>\n",
       "      <th>6</th>\n",
       "      <td>0</td>\n",
       "      <td>1</td>\n",
       "      <td>0</td>\n",
       "      <td>0</td>\n",
       "      <td>3</td>\n",
       "      <td>1</td>\n",
       "      <td>0</td>\n",
       "      <td>2</td>\n",
       "      <td>1</td>\n",
       "      <td>5</td>\n",
       "      <td>...</td>\n",
       "      <td>2844</td>\n",
       "      <td>136</td>\n",
       "      <td>3.19</td>\n",
       "      <td>3.4</td>\n",
       "      <td>8.5</td>\n",
       "      <td>110</td>\n",
       "      <td>5500</td>\n",
       "      <td>19</td>\n",
       "      <td>25</td>\n",
       "      <td>17710</td>\n",
       "    </tr>\n",
       "    <tr>\n",
       "      <th>8</th>\n",
       "      <td>0</td>\n",
       "      <td>1</td>\n",
       "      <td>1</td>\n",
       "      <td>0</td>\n",
       "      <td>3</td>\n",
       "      <td>1</td>\n",
       "      <td>0</td>\n",
       "      <td>2</td>\n",
       "      <td>1</td>\n",
       "      <td>5</td>\n",
       "      <td>...</td>\n",
       "      <td>3086</td>\n",
       "      <td>131</td>\n",
       "      <td>3.13</td>\n",
       "      <td>3.4</td>\n",
       "      <td>8.3</td>\n",
       "      <td>140</td>\n",
       "      <td>5500</td>\n",
       "      <td>17</td>\n",
       "      <td>20</td>\n",
       "      <td>23875</td>\n",
       "    </tr>\n",
       "    <tr>\n",
       "      <th>9</th>\n",
       "      <td>1</td>\n",
       "      <td>1</td>\n",
       "      <td>0</td>\n",
       "      <td>1</td>\n",
       "      <td>3</td>\n",
       "      <td>2</td>\n",
       "      <td>0</td>\n",
       "      <td>2</td>\n",
       "      <td>2</td>\n",
       "      <td>5</td>\n",
       "      <td>...</td>\n",
       "      <td>2395</td>\n",
       "      <td>108</td>\n",
       "      <td>3.50</td>\n",
       "      <td>2.8</td>\n",
       "      <td>8.8</td>\n",
       "      <td>101</td>\n",
       "      <td>5800</td>\n",
       "      <td>23</td>\n",
       "      <td>29</td>\n",
       "      <td>16430</td>\n",
       "    </tr>\n",
       "  </tbody>\n",
       "</table>\n",
       "<p>5 rows × 26 columns</p>\n",
       "</div>"
      ],
      "text/plain": [
       "   make  fuel-type  aspiration  num-of-doors  body-style  drive-wheels  \\\n",
       "3     0          1           0             0           3             1   \n",
       "4     0          1           0             0           3             0   \n",
       "6     0          1           0             0           3             1   \n",
       "8     0          1           1             0           3             1   \n",
       "9     1          1           0             1           3             2   \n",
       "\n",
       "   engine-location  engine-type  num-of-cylinders  fuel-system  ...  \\\n",
       "3                0            2                 2            5  ...   \n",
       "4                0            2                 1            5  ...   \n",
       "6                0            2                 1            5  ...   \n",
       "8                0            2                 1            5  ...   \n",
       "9                0            2                 2            5  ...   \n",
       "\n",
       "   curb-weight  engine-size  bore  stroke  compression-ratio  horsepower  \\\n",
       "3         2337          109  3.19     3.4               10.0         102   \n",
       "4         2824          136  3.19     3.4                8.0         115   \n",
       "6         2844          136  3.19     3.4                8.5         110   \n",
       "8         3086          131  3.13     3.4                8.3         140   \n",
       "9         2395          108  3.50     2.8                8.8         101   \n",
       "\n",
       "   peak-rpm  city-mpg  highway-mpg  price  \n",
       "3      5500        24           30  13950  \n",
       "4      5500        18           22  17450  \n",
       "6      5500        19           25  17710  \n",
       "8      5500        17           20  23875  \n",
       "9      5800        23           29  16430  \n",
       "\n",
       "[5 rows x 26 columns]"
      ]
     },
     "execution_count": 27,
     "metadata": {},
     "output_type": "execute_result"
    }
   ],
   "source": [
    "df_new = pd.concat([dfobject,dfint],axis=1)\n",
    "df_new.head()"
   ]
  },
  {
   "cell_type": "code",
   "execution_count": 28,
   "id": "efa092e5",
   "metadata": {
    "scrolled": false
   },
   "outputs": [
    {
     "name": "stdout",
     "output_type": "stream",
     "text": [
      "<class 'pandas.core.frame.DataFrame'>\n",
      "Int64Index: 164 entries, 3 to 201\n",
      "Data columns (total 26 columns):\n",
      " #   Column             Non-Null Count  Dtype  \n",
      "---  ------             --------------  -----  \n",
      " 0   make               164 non-null    int32  \n",
      " 1   fuel-type          164 non-null    int32  \n",
      " 2   aspiration         164 non-null    int32  \n",
      " 3   num-of-doors       164 non-null    int32  \n",
      " 4   body-style         164 non-null    int32  \n",
      " 5   drive-wheels       164 non-null    int32  \n",
      " 6   engine-location    164 non-null    int32  \n",
      " 7   engine-type        164 non-null    int32  \n",
      " 8   num-of-cylinders   164 non-null    int32  \n",
      " 9   fuel-system        164 non-null    int32  \n",
      " 10  symboling          164 non-null    int64  \n",
      " 11  normalized-losses  164 non-null    float64\n",
      " 12  wheel-base         164 non-null    float64\n",
      " 13  length             164 non-null    float64\n",
      " 14  width              164 non-null    float64\n",
      " 15  height             164 non-null    float64\n",
      " 16  curb-weight        164 non-null    int64  \n",
      " 17  engine-size        164 non-null    int64  \n",
      " 18  bore               164 non-null    float64\n",
      " 19  stroke             164 non-null    float64\n",
      " 20  compression-ratio  164 non-null    float64\n",
      " 21  horsepower         164 non-null    int32  \n",
      " 22  peak-rpm           164 non-null    int32  \n",
      " 23  city-mpg           164 non-null    int64  \n",
      " 24  highway-mpg        164 non-null    int64  \n",
      " 25  price              164 non-null    int64  \n",
      "dtypes: float64(8), int32(12), int64(6)\n",
      "memory usage: 31.0 KB\n"
     ]
    }
   ],
   "source": [
    "df_new.info()"
   ]
  },
  {
   "cell_type": "markdown",
   "id": "a857f485",
   "metadata": {},
   "source": [
    "## Bağımlı ve Bağımsız Değişkenlerin Ayrılması"
   ]
  },
  {
   "cell_type": "code",
   "execution_count": 29,
   "id": "84c1a708",
   "metadata": {},
   "outputs": [],
   "source": [
    "x = df_new.iloc[:,0:25]\n",
    "y = df_new[\"price\"]\n",
    "x = sm.add_constant(x)"
   ]
  },
  {
   "cell_type": "markdown",
   "id": "5d39b5e9",
   "metadata": {},
   "source": [
    "## İstatistiksel Model - 1"
   ]
  },
  {
   "cell_type": "markdown",
   "id": "c8224a24",
   "metadata": {},
   "source": [
    "Modelimizi son haline getirirken \"price\" değerine etki etmeyen veya etkisi az olan parametrelerin çıkartılması gerekmektedir. \n",
    "Bütün parametrelerin olduğu bir model oluşturup, bu modelden  \"p\" değeri \"0,05\"in üstünde olanları çıkartacağız.\n",
    "\"p\" değeri \"0,05\"in üstünde herhangi bir değer kalmadığında bu bizim öğrenme modellerimizi için kullanacağımız veri seti olacaktır."
   ]
  },
  {
   "cell_type": "code",
   "execution_count": 30,
   "id": "63974d85",
   "metadata": {},
   "outputs": [
    {
     "data": {
      "text/html": [
       "<table class=\"simpletable\">\n",
       "<caption>OLS Regression Results</caption>\n",
       "<tr>\n",
       "  <th>Dep. Variable:</th>          <td>price</td>      <th>  R-squared:         </th> <td>   0.901</td>\n",
       "</tr>\n",
       "<tr>\n",
       "  <th>Model:</th>                   <td>OLS</td>       <th>  Adj. R-squared:    </th> <td>   0.884</td>\n",
       "</tr>\n",
       "<tr>\n",
       "  <th>Method:</th>             <td>Least Squares</td>  <th>  F-statistic:       </th> <td>   52.52</td>\n",
       "</tr>\n",
       "<tr>\n",
       "  <th>Date:</th>             <td>Sun, 31 Oct 2021</td> <th>  Prob (F-statistic):</th> <td>7.16e-58</td>\n",
       "</tr>\n",
       "<tr>\n",
       "  <th>Time:</th>                 <td>21:31:14</td>     <th>  Log-Likelihood:    </th> <td> -1465.8</td>\n",
       "</tr>\n",
       "<tr>\n",
       "  <th>No. Observations:</th>      <td>   164</td>      <th>  AIC:               </th> <td>   2982.</td>\n",
       "</tr>\n",
       "<tr>\n",
       "  <th>Df Residuals:</th>          <td>   139</td>      <th>  BIC:               </th> <td>   3059.</td>\n",
       "</tr>\n",
       "<tr>\n",
       "  <th>Df Model:</th>              <td>    24</td>      <th>                     </th>     <td> </td>   \n",
       "</tr>\n",
       "<tr>\n",
       "  <th>Covariance Type:</th>      <td>nonrobust</td>    <th>                     </th>     <td> </td>   \n",
       "</tr>\n",
       "</table>\n",
       "<table class=\"simpletable\">\n",
       "<tr>\n",
       "          <td></td>             <th>coef</th>     <th>std err</th>      <th>t</th>      <th>P>|t|</th>  <th>[0.025</th>    <th>0.975]</th>  \n",
       "</tr>\n",
       "<tr>\n",
       "  <th>const</th>             <td>-4.868e+04</td> <td> 1.54e+04</td> <td>   -3.166</td> <td> 0.002</td> <td>-7.91e+04</td> <td>-1.83e+04</td>\n",
       "</tr>\n",
       "<tr>\n",
       "  <th>make</th>              <td> -217.2096</td> <td>   45.518</td> <td>   -4.772</td> <td> 0.000</td> <td> -307.207</td> <td> -127.213</td>\n",
       "</tr>\n",
       "<tr>\n",
       "  <th>fuel-type</th>         <td> 2.314e+04</td> <td> 5673.477</td> <td>    4.079</td> <td> 0.000</td> <td> 1.19e+04</td> <td> 3.44e+04</td>\n",
       "</tr>\n",
       "<tr>\n",
       "  <th>aspiration</th>        <td> 3178.8377</td> <td>  811.356</td> <td>    3.918</td> <td> 0.000</td> <td> 1574.643</td> <td> 4783.032</td>\n",
       "</tr>\n",
       "<tr>\n",
       "  <th>num-of-doors</th>      <td> -428.9646</td> <td>  556.143</td> <td>   -0.771</td> <td> 0.442</td> <td>-1528.558</td> <td>  670.628</td>\n",
       "</tr>\n",
       "<tr>\n",
       "  <th>body-style</th>        <td> -118.2769</td> <td>  347.910</td> <td>   -0.340</td> <td> 0.734</td> <td> -806.157</td> <td>  569.604</td>\n",
       "</tr>\n",
       "<tr>\n",
       "  <th>drive-wheels</th>      <td>  955.2269</td> <td>  512.422</td> <td>    1.864</td> <td> 0.064</td> <td>  -57.922</td> <td> 1968.376</td>\n",
       "</tr>\n",
       "<tr>\n",
       "  <th>engine-location</th>   <td>-6.237e-10</td> <td> 2.08e-10</td> <td>   -2.993</td> <td> 0.003</td> <td>-1.04e-09</td> <td>-2.12e-10</td>\n",
       "</tr>\n",
       "<tr>\n",
       "  <th>engine-type</th>       <td> -502.7004</td> <td>  319.055</td> <td>   -1.576</td> <td> 0.117</td> <td>-1133.529</td> <td>  128.129</td>\n",
       "</tr>\n",
       "<tr>\n",
       "  <th>num-of-cylinders</th>  <td>-2325.6717</td> <td>  528.715</td> <td>   -4.399</td> <td> 0.000</td> <td>-3371.035</td> <td>-1280.308</td>\n",
       "</tr>\n",
       "<tr>\n",
       "  <th>fuel-system</th>       <td>  253.4348</td> <td>  134.405</td> <td>    1.886</td> <td> 0.061</td> <td>  -12.307</td> <td>  519.177</td>\n",
       "</tr>\n",
       "<tr>\n",
       "  <th>symboling</th>         <td> -168.9680</td> <td>  265.194</td> <td>   -0.637</td> <td> 0.525</td> <td> -693.304</td> <td>  355.368</td>\n",
       "</tr>\n",
       "<tr>\n",
       "  <th>normalized-losses</th> <td>    3.9537</td> <td>    7.346</td> <td>    0.538</td> <td> 0.591</td> <td>  -10.570</td> <td>   18.478</td>\n",
       "</tr>\n",
       "<tr>\n",
       "  <th>wheel-base</th>        <td>   66.6298</td> <td>  110.926</td> <td>    0.601</td> <td> 0.549</td> <td> -152.690</td> <td>  285.950</td>\n",
       "</tr>\n",
       "<tr>\n",
       "  <th>length</th>            <td>  -65.2765</td> <td>   44.636</td> <td>   -1.462</td> <td> 0.146</td> <td> -153.531</td> <td>   22.978</td>\n",
       "</tr>\n",
       "<tr>\n",
       "  <th>width</th>             <td>  251.3767</td> <td>  240.992</td> <td>    1.043</td> <td> 0.299</td> <td> -225.108</td> <td>  727.861</td>\n",
       "</tr>\n",
       "<tr>\n",
       "  <th>height</th>            <td>  120.1043</td> <td>  123.662</td> <td>    0.971</td> <td> 0.333</td> <td> -124.397</td> <td>  364.605</td>\n",
       "</tr>\n",
       "<tr>\n",
       "  <th>curb-weight</th>       <td>    4.4754</td> <td>    1.461</td> <td>    3.063</td> <td> 0.003</td> <td>    1.586</td> <td>    7.364</td>\n",
       "</tr>\n",
       "<tr>\n",
       "  <th>engine-size</th>       <td>   90.0103</td> <td>   24.200</td> <td>    3.719</td> <td> 0.000</td> <td>   42.163</td> <td>  137.857</td>\n",
       "</tr>\n",
       "<tr>\n",
       "  <th>bore</th>              <td>-1127.6287</td> <td>  658.905</td> <td>   -1.711</td> <td> 0.089</td> <td>-2430.402</td> <td>  175.144</td>\n",
       "</tr>\n",
       "<tr>\n",
       "  <th>stroke</th>            <td>-2985.0521</td> <td>  688.974</td> <td>   -4.333</td> <td> 0.000</td> <td>-4347.277</td> <td>-1622.828</td>\n",
       "</tr>\n",
       "<tr>\n",
       "  <th>compression-ratio</th> <td> 1709.5533</td> <td>  417.632</td> <td>    4.093</td> <td> 0.000</td> <td>  883.820</td> <td> 2535.287</td>\n",
       "</tr>\n",
       "<tr>\n",
       "  <th>horsepower</th>        <td>   10.2005</td> <td>   21.887</td> <td>    0.466</td> <td> 0.642</td> <td>  -33.074</td> <td>   53.475</td>\n",
       "</tr>\n",
       "<tr>\n",
       "  <th>peak-rpm</th>          <td>   -0.1092</td> <td>    0.586</td> <td>   -0.186</td> <td> 0.852</td> <td>   -1.268</td> <td>    1.049</td>\n",
       "</tr>\n",
       "<tr>\n",
       "  <th>city-mpg</th>          <td> -107.9522</td> <td>  140.651</td> <td>   -0.768</td> <td> 0.444</td> <td> -386.044</td> <td>  170.140</td>\n",
       "</tr>\n",
       "<tr>\n",
       "  <th>highway-mpg</th>       <td>  101.8166</td> <td>  126.252</td> <td>    0.806</td> <td> 0.421</td> <td> -147.805</td> <td>  351.438</td>\n",
       "</tr>\n",
       "</table>\n",
       "<table class=\"simpletable\">\n",
       "<tr>\n",
       "  <th>Omnibus:</th>       <td> 3.597</td> <th>  Durbin-Watson:     </th> <td>   1.151</td>\n",
       "</tr>\n",
       "<tr>\n",
       "  <th>Prob(Omnibus):</th> <td> 0.166</td> <th>  Jarque-Bera (JB):  </th> <td>   4.266</td>\n",
       "</tr>\n",
       "<tr>\n",
       "  <th>Skew:</th>          <td> 0.012</td> <th>  Prob(JB):          </th> <td>   0.118</td>\n",
       "</tr>\n",
       "<tr>\n",
       "  <th>Kurtosis:</th>      <td> 3.790</td> <th>  Cond. No.          </th> <td>1.00e+16</td>\n",
       "</tr>\n",
       "</table><br/><br/>Notes:<br/>[1] Standard Errors assume that the covariance matrix of the errors is correctly specified.<br/>[2] The smallest eigenvalue is 5.33e-23. This might indicate that there are<br/>strong multicollinearity problems or that the design matrix is singular."
      ],
      "text/plain": [
       "<class 'statsmodels.iolib.summary.Summary'>\n",
       "\"\"\"\n",
       "                            OLS Regression Results                            \n",
       "==============================================================================\n",
       "Dep. Variable:                  price   R-squared:                       0.901\n",
       "Model:                            OLS   Adj. R-squared:                  0.884\n",
       "Method:                 Least Squares   F-statistic:                     52.52\n",
       "Date:                Sun, 31 Oct 2021   Prob (F-statistic):           7.16e-58\n",
       "Time:                        21:31:14   Log-Likelihood:                -1465.8\n",
       "No. Observations:                 164   AIC:                             2982.\n",
       "Df Residuals:                     139   BIC:                             3059.\n",
       "Df Model:                          24                                         \n",
       "Covariance Type:            nonrobust                                         \n",
       "=====================================================================================\n",
       "                        coef    std err          t      P>|t|      [0.025      0.975]\n",
       "-------------------------------------------------------------------------------------\n",
       "const             -4.868e+04   1.54e+04     -3.166      0.002   -7.91e+04   -1.83e+04\n",
       "make               -217.2096     45.518     -4.772      0.000    -307.207    -127.213\n",
       "fuel-type          2.314e+04   5673.477      4.079      0.000    1.19e+04    3.44e+04\n",
       "aspiration         3178.8377    811.356      3.918      0.000    1574.643    4783.032\n",
       "num-of-doors       -428.9646    556.143     -0.771      0.442   -1528.558     670.628\n",
       "body-style         -118.2769    347.910     -0.340      0.734    -806.157     569.604\n",
       "drive-wheels        955.2269    512.422      1.864      0.064     -57.922    1968.376\n",
       "engine-location   -6.237e-10   2.08e-10     -2.993      0.003   -1.04e-09   -2.12e-10\n",
       "engine-type        -502.7004    319.055     -1.576      0.117   -1133.529     128.129\n",
       "num-of-cylinders  -2325.6717    528.715     -4.399      0.000   -3371.035   -1280.308\n",
       "fuel-system         253.4348    134.405      1.886      0.061     -12.307     519.177\n",
       "symboling          -168.9680    265.194     -0.637      0.525    -693.304     355.368\n",
       "normalized-losses     3.9537      7.346      0.538      0.591     -10.570      18.478\n",
       "wheel-base           66.6298    110.926      0.601      0.549    -152.690     285.950\n",
       "length              -65.2765     44.636     -1.462      0.146    -153.531      22.978\n",
       "width               251.3767    240.992      1.043      0.299    -225.108     727.861\n",
       "height              120.1043    123.662      0.971      0.333    -124.397     364.605\n",
       "curb-weight           4.4754      1.461      3.063      0.003       1.586       7.364\n",
       "engine-size          90.0103     24.200      3.719      0.000      42.163     137.857\n",
       "bore              -1127.6287    658.905     -1.711      0.089   -2430.402     175.144\n",
       "stroke            -2985.0521    688.974     -4.333      0.000   -4347.277   -1622.828\n",
       "compression-ratio  1709.5533    417.632      4.093      0.000     883.820    2535.287\n",
       "horsepower           10.2005     21.887      0.466      0.642     -33.074      53.475\n",
       "peak-rpm             -0.1092      0.586     -0.186      0.852      -1.268       1.049\n",
       "city-mpg           -107.9522    140.651     -0.768      0.444    -386.044     170.140\n",
       "highway-mpg         101.8166    126.252      0.806      0.421    -147.805     351.438\n",
       "==============================================================================\n",
       "Omnibus:                        3.597   Durbin-Watson:                   1.151\n",
       "Prob(Omnibus):                  0.166   Jarque-Bera (JB):                4.266\n",
       "Skew:                           0.012   Prob(JB):                        0.118\n",
       "Kurtosis:                       3.790   Cond. No.                     1.00e+16\n",
       "==============================================================================\n",
       "\n",
       "Notes:\n",
       "[1] Standard Errors assume that the covariance matrix of the errors is correctly specified.\n",
       "[2] The smallest eigenvalue is 5.33e-23. This might indicate that there are\n",
       "strong multicollinearity problems or that the design matrix is singular.\n",
       "\"\"\""
      ]
     },
     "execution_count": 30,
     "metadata": {},
     "output_type": "execute_result"
    }
   ],
   "source": [
    "lm = sm.OLS(y,x)\n",
    "model = lm.fit()\n",
    "model.summary()"
   ]
  },
  {
   "cell_type": "markdown",
   "id": "c582f267",
   "metadata": {},
   "source": [
    "Least Squares (en küçük kareler) yöntemi kullanılarak, değişkenlerin kovaryans dereceleri ölçüldü. Anlamlılık düzeyi 0.05'in üzerinde olan değerler veri setinden çıkarıldı."
   ]
  },
  {
   "cell_type": "code",
   "execution_count": 31,
   "id": "5fdf5ffd",
   "metadata": {},
   "outputs": [],
   "source": [
    "x = df_new.iloc[:,0:25]\n",
    "x = x.drop([\"peak-rpm\",\"horsepower\",\"body-style\",\"symboling\",\"normalized-losses\",\"wheel-base\",\"num-of-doors\",\"city-mpg\",\"highway-mpg\",\"length\",\"width\",\"height\",\"bore\",\"engine-type\"],axis=1)\n",
    "y = df_new[\"price\"]\n",
    "x = sm.add_constant(x)"
   ]
  },
  {
   "cell_type": "markdown",
   "id": "648945a0",
   "metadata": {},
   "source": [
    "## İstatistiksel Model - 2"
   ]
  },
  {
   "cell_type": "code",
   "execution_count": 32,
   "id": "b4d27c4d",
   "metadata": {},
   "outputs": [
    {
     "data": {
      "text/html": [
       "<table class=\"simpletable\">\n",
       "<caption>OLS Regression Results</caption>\n",
       "<tr>\n",
       "  <th>Dep. Variable:</th>          <td>price</td>      <th>  R-squared:         </th> <td>   0.892</td>\n",
       "</tr>\n",
       "<tr>\n",
       "  <th>Model:</th>                   <td>OLS</td>       <th>  Adj. R-squared:    </th> <td>   0.885</td>\n",
       "</tr>\n",
       "<tr>\n",
       "  <th>Method:</th>             <td>Least Squares</td>  <th>  F-statistic:       </th> <td>   126.6</td>\n",
       "</tr>\n",
       "<tr>\n",
       "  <th>Date:</th>             <td>Sun, 31 Oct 2021</td> <th>  Prob (F-statistic):</th> <td>1.04e-68</td>\n",
       "</tr>\n",
       "<tr>\n",
       "  <th>Time:</th>                 <td>21:31:14</td>     <th>  Log-Likelihood:    </th> <td> -1472.5</td>\n",
       "</tr>\n",
       "<tr>\n",
       "  <th>No. Observations:</th>      <td>   164</td>      <th>  AIC:               </th> <td>   2967.</td>\n",
       "</tr>\n",
       "<tr>\n",
       "  <th>Df Residuals:</th>          <td>   153</td>      <th>  BIC:               </th> <td>   3001.</td>\n",
       "</tr>\n",
       "<tr>\n",
       "  <th>Df Model:</th>              <td>    10</td>      <th>                     </th>     <td> </td>   \n",
       "</tr>\n",
       "<tr>\n",
       "  <th>Covariance Type:</th>      <td>nonrobust</td>    <th>                     </th>     <td> </td>   \n",
       "</tr>\n",
       "</table>\n",
       "<table class=\"simpletable\">\n",
       "<tr>\n",
       "          <td></td>             <th>coef</th>     <th>std err</th>      <th>t</th>      <th>P>|t|</th>  <th>[0.025</th>    <th>0.975]</th>  \n",
       "</tr>\n",
       "<tr>\n",
       "  <th>const</th>             <td>-3.644e+04</td> <td> 8397.177</td> <td>   -4.340</td> <td> 0.000</td> <td> -5.3e+04</td> <td>-1.99e+04</td>\n",
       "</tr>\n",
       "<tr>\n",
       "  <th>make</th>              <td> -256.6695</td> <td>   34.456</td> <td>   -7.449</td> <td> 0.000</td> <td> -324.740</td> <td> -188.599</td>\n",
       "</tr>\n",
       "<tr>\n",
       "  <th>fuel-type</th>         <td> 2.211e+04</td> <td> 4817.307</td> <td>    4.590</td> <td> 0.000</td> <td> 1.26e+04</td> <td> 3.16e+04</td>\n",
       "</tr>\n",
       "<tr>\n",
       "  <th>aspiration</th>        <td> 3135.2139</td> <td>  609.403</td> <td>    5.145</td> <td> 0.000</td> <td> 1931.283</td> <td> 4339.145</td>\n",
       "</tr>\n",
       "<tr>\n",
       "  <th>drive-wheels</th>      <td> 1370.7277</td> <td>  379.642</td> <td>    3.611</td> <td> 0.000</td> <td>  620.711</td> <td> 2120.744</td>\n",
       "</tr>\n",
       "<tr>\n",
       "  <th>engine-location</th>   <td>-2.242e-11</td> <td> 4.44e-12</td> <td>   -5.054</td> <td> 0.000</td> <td>-3.12e-11</td> <td>-1.37e-11</td>\n",
       "</tr>\n",
       "<tr>\n",
       "  <th>num-of-cylinders</th>  <td>-1987.5014</td> <td>  358.120</td> <td>   -5.550</td> <td> 0.000</td> <td>-2695.001</td> <td>-1280.002</td>\n",
       "</tr>\n",
       "<tr>\n",
       "  <th>fuel-system</th>       <td>  252.4968</td> <td>  107.234</td> <td>    2.355</td> <td> 0.020</td> <td>   40.646</td> <td>  464.348</td>\n",
       "</tr>\n",
       "<tr>\n",
       "  <th>curb-weight</th>       <td>    6.2675</td> <td>    0.921</td> <td>    6.807</td> <td> 0.000</td> <td>    4.448</td> <td>    8.087</td>\n",
       "</tr>\n",
       "<tr>\n",
       "  <th>engine-size</th>       <td>   65.1643</td> <td>   13.763</td> <td>    4.735</td> <td> 0.000</td> <td>   37.975</td> <td>   92.354</td>\n",
       "</tr>\n",
       "<tr>\n",
       "  <th>stroke</th>            <td>-2571.4935</td> <td>  450.320</td> <td>   -5.710</td> <td> 0.000</td> <td>-3461.141</td> <td>-1681.846</td>\n",
       "</tr>\n",
       "<tr>\n",
       "  <th>compression-ratio</th> <td> 1643.4006</td> <td>  350.499</td> <td>    4.689</td> <td> 0.000</td> <td>  950.959</td> <td> 2335.842</td>\n",
       "</tr>\n",
       "</table>\n",
       "<table class=\"simpletable\">\n",
       "<tr>\n",
       "  <th>Omnibus:</th>       <td> 2.808</td> <th>  Durbin-Watson:     </th> <td>   1.086</td>\n",
       "</tr>\n",
       "<tr>\n",
       "  <th>Prob(Omnibus):</th> <td> 0.246</td> <th>  Jarque-Bera (JB):  </th> <td>   2.768</td>\n",
       "</tr>\n",
       "<tr>\n",
       "  <th>Skew:</th>          <td>-0.098</td> <th>  Prob(JB):          </th> <td>   0.251</td>\n",
       "</tr>\n",
       "<tr>\n",
       "  <th>Kurtosis:</th>      <td> 3.605</td> <th>  Cond. No.          </th> <td>2.31e+19</td>\n",
       "</tr>\n",
       "</table><br/><br/>Notes:<br/>[1] Standard Errors assume that the covariance matrix of the errors is correctly specified.<br/>[2] The smallest eigenvalue is 1.94e-30. This might indicate that there are<br/>strong multicollinearity problems or that the design matrix is singular."
      ],
      "text/plain": [
       "<class 'statsmodels.iolib.summary.Summary'>\n",
       "\"\"\"\n",
       "                            OLS Regression Results                            \n",
       "==============================================================================\n",
       "Dep. Variable:                  price   R-squared:                       0.892\n",
       "Model:                            OLS   Adj. R-squared:                  0.885\n",
       "Method:                 Least Squares   F-statistic:                     126.6\n",
       "Date:                Sun, 31 Oct 2021   Prob (F-statistic):           1.04e-68\n",
       "Time:                        21:31:14   Log-Likelihood:                -1472.5\n",
       "No. Observations:                 164   AIC:                             2967.\n",
       "Df Residuals:                     153   BIC:                             3001.\n",
       "Df Model:                          10                                         \n",
       "Covariance Type:            nonrobust                                         \n",
       "=====================================================================================\n",
       "                        coef    std err          t      P>|t|      [0.025      0.975]\n",
       "-------------------------------------------------------------------------------------\n",
       "const             -3.644e+04   8397.177     -4.340      0.000    -5.3e+04   -1.99e+04\n",
       "make               -256.6695     34.456     -7.449      0.000    -324.740    -188.599\n",
       "fuel-type          2.211e+04   4817.307      4.590      0.000    1.26e+04    3.16e+04\n",
       "aspiration         3135.2139    609.403      5.145      0.000    1931.283    4339.145\n",
       "drive-wheels       1370.7277    379.642      3.611      0.000     620.711    2120.744\n",
       "engine-location   -2.242e-11   4.44e-12     -5.054      0.000   -3.12e-11   -1.37e-11\n",
       "num-of-cylinders  -1987.5014    358.120     -5.550      0.000   -2695.001   -1280.002\n",
       "fuel-system         252.4968    107.234      2.355      0.020      40.646     464.348\n",
       "curb-weight           6.2675      0.921      6.807      0.000       4.448       8.087\n",
       "engine-size          65.1643     13.763      4.735      0.000      37.975      92.354\n",
       "stroke            -2571.4935    450.320     -5.710      0.000   -3461.141   -1681.846\n",
       "compression-ratio  1643.4006    350.499      4.689      0.000     950.959    2335.842\n",
       "==============================================================================\n",
       "Omnibus:                        2.808   Durbin-Watson:                   1.086\n",
       "Prob(Omnibus):                  0.246   Jarque-Bera (JB):                2.768\n",
       "Skew:                          -0.098   Prob(JB):                        0.251\n",
       "Kurtosis:                       3.605   Cond. No.                     2.31e+19\n",
       "==============================================================================\n",
       "\n",
       "Notes:\n",
       "[1] Standard Errors assume that the covariance matrix of the errors is correctly specified.\n",
       "[2] The smallest eigenvalue is 1.94e-30. This might indicate that there are\n",
       "strong multicollinearity problems or that the design matrix is singular.\n",
       "\"\"\""
      ]
     },
     "execution_count": 32,
     "metadata": {},
     "output_type": "execute_result"
    }
   ],
   "source": [
    "lm = sm.OLS(y,x)\n",
    "model = lm.fit()\n",
    "model.summary()"
   ]
  },
  {
   "cell_type": "markdown",
   "id": "3931cfb2",
   "metadata": {},
   "source": [
    "Veri setinin kovaryansı, yine en küçük kareler yöntemi ile incelendi. Regresyon derecesinin değişkenler çıkarıldıktan sonra anlamlı düzeyde değişmediği, böylece kalan değişkenlerin veri setini kayıpsız tanımlayabildiği görüldü."
   ]
  },
  {
   "cell_type": "raw",
   "id": "99c0ea7a",
   "metadata": {},
   "source": [
    "Bağımlı Değişkenler = \"make\",\"fuel-type\",\"aspiration\",\"drive-wheels\",\"engine-location\",\"num-of-cylinders\",\"fuel-system\",\"curb-weight\",\"engine-size\",\"stroke\",\"compression-ratio\"\n",
    "Bağımsız Değişkneler = \"price\""
   ]
  },
  {
   "cell_type": "code",
   "execution_count": 33,
   "id": "548d085a",
   "metadata": {},
   "outputs": [],
   "source": [
    "x = df_new.iloc[:,0:25]\n",
    "x = x.drop([\"peak-rpm\",\"horsepower\",\"body-style\",\"symboling\",\"normalized-losses\",\"wheel-base\",\"num-of-doors\",\"city-mpg\",\"highway-mpg\",\"length\",\"width\",\"height\",\"bore\"],axis=1)\n",
    "y = df_new[\"price\"]"
   ]
  },
  {
   "cell_type": "markdown",
   "id": "cd4959e2",
   "metadata": {},
   "source": [
    "## Test ve Train Veri Setlerinin Oluşturulması"
   ]
  },
  {
   "cell_type": "markdown",
   "id": "89daa23d",
   "metadata": {},
   "source": [
    "Tahminleme aşamasına geçerken, veri setinin %80'i modelin training verisi olarak, %20'si test verisi olarak kullanılmak üzere, veri seti iki gruba ayrıldı."
   ]
  },
  {
   "cell_type": "code",
   "execution_count": 34,
   "id": "554f5f46",
   "metadata": {},
   "outputs": [],
   "source": [
    "x_train, x_test, y_train, y_test= train_test_split(x,y,test_size=0.20,random_state=0)"
   ]
  },
  {
   "cell_type": "markdown",
   "id": "d87a4122",
   "metadata": {},
   "source": [
    "## StandarScaler"
   ]
  },
  {
   "cell_type": "markdown",
   "id": "667e7517",
   "metadata": {},
   "source": [
    "Veriler standardize edildi."
   ]
  },
  {
   "cell_type": "code",
   "execution_count": 35,
   "id": "cfcefcb6",
   "metadata": {},
   "outputs": [],
   "source": [
    "sc = StandardScaler()\n",
    "X_train = sc.fit_transform(x_train)\n",
    "X_test = sc.fit_transform(x_test)\n",
    "#sc.inverse_transform()"
   ]
  },
  {
   "cell_type": "markdown",
   "id": "3f5e6191",
   "metadata": {},
   "source": [
    "## Çoklu Doğrusal Regresyon"
   ]
  },
  {
   "cell_type": "markdown",
   "id": "482cc2a6",
   "metadata": {},
   "source": [
    "Amaç bağımsız değişkenler kullanılarak bağımlı fiyat değişkenini tahminlemek olduğundan, öncelikle çoklu doğrusal regresyon modeli kuruldu.\n",
    "\n",
    "R-kare değeri, bir değişkenin varyansının ikinci değişkenin varyansını ne ölçüde açıkladığını belirtir. Daha yüksek bir R-kare değeri, girdi değişkenlerinin daha fazla varyasyonu açıklayabildiği anlamına gelmektedir."
   ]
  },
  {
   "cell_type": "code",
   "execution_count": 36,
   "id": "e7f2cab7",
   "metadata": {
    "scrolled": true
   },
   "outputs": [
    {
     "name": "stdout",
     "output_type": "stream",
     "text": [
      "Training R^2=0.897\n",
      "Test R^2=0.762\n",
      "Test MAE=2100.807\n",
      "Test MSE=7850790.057\n"
     ]
    }
   ],
   "source": [
    "from sklearn.linear_model import LinearRegression\n",
    "regressor = LinearRegression()\n",
    "regressor.fit(X_train,y_train)\n",
    "\n",
    "print(f\"Training R^2={regressor.score(X_train,y_train).round(3)}\")\n",
    "print(f\"Test R^2={r2_score(y_test,regressor.predict(X_test)).round(3)}\")\n",
    "print(f\"Test MAE={mean_absolute_error(y_test,regressor.predict(X_test)).round(3)}\")\n",
    "print(f\"Test MSE={mean_squared_error(y_test,regressor.predict(X_test)).round(3)}\")"
   ]
  },
  {
   "cell_type": "code",
   "execution_count": 37,
   "id": "3f01bc29",
   "metadata": {},
   "outputs": [
    {
     "data": {
      "image/png": "[encoded data removed]",
      "text/plain": [
       "<Figure size 360x360 with 1 Axes>"
      ]
     },
     "metadata": {
      "needs_background": "light"
     },
     "output_type": "display_data"
    }
   ],
   "source": [
    "plt.figure(figsize=(5,5))\n",
    "sns.scatterplot(y_test,regressor.predict(X_test))\n",
    "sns.regplot(y_test,regressor.predict(X_test))\n",
    "plt.show()"
   ]
  },
  {
   "cell_type": "markdown",
   "id": "631e3e0c",
   "metadata": {},
   "source": [
    "Cross-validation veya “k-fold cross validation”, veri kümesinin rastgele 'k' tane gruba ayrılması ve yeniden test edilmesi işlemidir. Bu işlemin amacı, makine öğrenmesi modelinin görmediği verileri de yeniden test ederek, modelin performansını mümkün olduğunca objektif ve doğru bir şekilde değerlendirmektir.\n",
    "\n",
    "Cross-validation aşaması için, veri seti %10'luk dilimlere bölündü. Her aşamada bu gruplardan biri test seti olarak kullanılırken, diğer gruplar training seti olarak kullanıldı. Bu işlem her bir grup için tekrarlanarak model eğitildi ve diğer gruplar kullanılarak test edildi. "
   ]
  },
  {
   "cell_type": "code",
   "execution_count": 38,
   "id": "f52af331",
   "metadata": {},
   "outputs": [
    {
     "name": "stdout",
     "output_type": "stream",
     "text": [
      "R^2 = 0.79\n",
      "MAE = 1680.155\n",
      "MSE = 4913490.397\n"
     ]
    }
   ],
   "source": [
    "print(\"R^2 = \"+str(cross_val_score(regressor, X_train, y_train, cv=10, scoring=\"r2\").mean().round(3)))\n",
    "print(\"MAE = \"+str(-cross_val_score(regressor, X_train, y_train, cv=10, scoring=\"neg_mean_absolute_error\").mean().round(3)))\n",
    "print(\"MSE = \"+str(-cross_val_score(regressor, X_train, y_train, cv=10, scoring=\"neg_mean_squared_error\").mean().round(3)))"
   ]
  },
  {
   "cell_type": "markdown",
   "id": "55aeac45",
   "metadata": {},
   "source": [
    "## GradientBoostingRegressor"
   ]
  },
  {
   "cell_type": "markdown",
   "id": "1b663dca",
   "metadata": {},
   "source": [
    "Gradient boosting regressor, zayıf tahmin modelleri bir araya getirilerek güçlü bir tahmin modelinin ortaya çıkarılmasını, böylelikle hedef değişkenini daha iyi tahminlemeyi amaçlayan bir makine öğrenimi tekniğidir. "
   ]
  },
  {
   "cell_type": "code",
   "execution_count": 39,
   "id": "277603a7",
   "metadata": {},
   "outputs": [
    {
     "name": "stdout",
     "output_type": "stream",
     "text": [
      "Training R^2=0.993\n",
      "Test R^2=0.856\n",
      "Test MAE=1646.012\n",
      "Test MSE=4752514.529\n"
     ]
    }
   ],
   "source": [
    "from sklearn.ensemble import GradientBoostingRegressor\n",
    "gbr = GradientBoostingRegressor()\n",
    "gbr.fit(X_train,y_train)\n",
    "\n",
    "print(f\"Training R^2={gbr.score(X_train,y_train).round(3)}\")\n",
    "print(f\"Test R^2={r2_score(y_test,gbr.predict(X_test)).round(3)}\")\n",
    "print(f\"Test MAE={mean_absolute_error(y_test,gbr.predict(X_test)).round(3)}\")\n",
    "print(f\"Test MSE={mean_squared_error(y_test,gbr.predict(X_test)).round(3)}\")"
   ]
  },
  {
   "cell_type": "code",
   "execution_count": 40,
   "id": "57890097",
   "metadata": {},
   "outputs": [
    {
     "data": {
      "image/png": "[encoded data removed]",
      "text/plain": [
       "<Figure size 360x360 with 1 Axes>"
      ]
     },
     "metadata": {
      "needs_background": "light"
     },
     "output_type": "display_data"
    }
   ],
   "source": [
    "plt.figure(figsize=(5,5))\n",
    "sns.scatterplot(y_test,gbr.predict(X_test))\n",
    "sns.regplot(y_test,gbr.predict(X_test))\n",
    "plt.show()"
   ]
  },
  {
   "cell_type": "code",
   "execution_count": 41,
   "id": "c3699103",
   "metadata": {},
   "outputs": [
    {
     "name": "stdout",
     "output_type": "stream",
     "text": [
      "R^2 = 0.834\n",
      "MAE = 1415.495\n",
      "MSE = 4391687.861\n"
     ]
    }
   ],
   "source": [
    "print(\"R^2 = \"+str(cross_val_score(gbr, X_train, y_train, cv=10, scoring=\"r2\").mean().round(3)))\n",
    "print(\"MAE = \"+str(-cross_val_score(gbr, X_train, y_train, cv=10, scoring=\"neg_mean_absolute_error\").mean().round(3)))\n",
    "print(\"MSE = \"+str(-cross_val_score(gbr, X_train, y_train, cv=10, scoring=\"neg_mean_squared_error\").mean().round(3)))"
   ]
  },
  {
   "cell_type": "markdown",
   "id": "ca482fa9",
   "metadata": {},
   "source": [
    "## Rassal Ağaçlar"
   ]
  },
  {
   "cell_type": "markdown",
   "id": "781337d1",
   "metadata": {},
   "source": [
    "Rassal ağaçlar yöntemi, veri kümesinin çeşitli alt örneklerinde, bir dizi sınıflandırma karar ağacına uyan bir tahmin edicidir. Tahmin doğruluğunu iyileştirmek ve aşırı uydurmayı (overfitting) kontrol etmek için ortalamayı kullanır. Aksi belirtilmedikçe, alt örnek boyutundaki her bir ağacı oluşturmak için tüm veri seti kullanılır."
   ]
  },
  {
   "cell_type": "code",
   "execution_count": 42,
   "id": "01330d0b",
   "metadata": {},
   "outputs": [
    {
     "name": "stdout",
     "output_type": "stream",
     "text": [
      "Training R^2=0.98\n",
      "Test R^2=0.86\n",
      "Test MAE=1703.181\n",
      "Test MSE=4621726.626\n"
     ]
    }
   ],
   "source": [
    "from sklearn.ensemble import RandomForestRegressor\n",
    "rf_reg = RandomForestRegressor(random_state=0)\n",
    "rf_reg.fit(X_train,y_train)\n",
    "\n",
    "print(f\"Training R^2={rf_reg.score(X_train,y_train).round(3)}\")\n",
    "print(f\"Test R^2={r2_score(y_test,rf_reg.predict(X_test)).round(3)}\")\n",
    "print(f\"Test MAE={mean_absolute_error(y_test,rf_reg.predict(X_test)).round(3)}\")\n",
    "print(f\"Test MSE={mean_squared_error(y_test,rf_reg.predict(X_test)).round(3)}\")"
   ]
  },
  {
   "cell_type": "code",
   "execution_count": 43,
   "id": "f57c803f",
   "metadata": {},
   "outputs": [
    {
     "data": {
      "image/png": "[encoded data removed]",
      "text/plain": [
       "<Figure size 360x360 with 1 Axes>"
      ]
     },
     "metadata": {
      "needs_background": "light"
     },
     "output_type": "display_data"
    }
   ],
   "source": [
    "plt.figure(figsize=(5,5))\n",
    "sns.scatterplot(y_test,rf_reg.predict(X_test))\n",
    "sns.regplot(y_test,rf_reg.predict(X_test))\n",
    "plt.show()"
   ]
  },
  {
   "cell_type": "code",
   "execution_count": 44,
   "id": "e8d0c01b",
   "metadata": {},
   "outputs": [
    {
     "name": "stdout",
     "output_type": "stream",
     "text": [
      "R^2 = 0.812\n",
      "MAE = 1519.932\n",
      "MSE = 5321711.991\n"
     ]
    }
   ],
   "source": [
    "print(\"R^2 = \"+str(cross_val_score(rf_reg, X_train, y_train, cv=10, scoring=\"r2\").mean().round(3)))\n",
    "print(\"MAE = \"+str(-cross_val_score(rf_reg, X_train, y_train, cv=10, scoring=\"neg_mean_absolute_error\").mean().round(3)))\n",
    "print(\"MSE = \"+str(-cross_val_score(rf_reg, X_train, y_train, cv=10, scoring=\"neg_mean_squared_error\").mean().round(3)))"
   ]
  },
  {
   "cell_type": "markdown",
   "id": "0e93d8dd",
   "metadata": {},
   "source": [
    "## XGBRegressor "
   ]
  },
  {
   "cell_type": "markdown",
   "id": "577d58bd",
   "metadata": {},
   "source": [
    "XGBoost, Gradient Boosting Regressor tekniği çerçevesinde makine öğrenimi algoritmaları uygulayan, bu tekniğe kıyasla daha yüksek verimli ve esnek olacak şekilde tasarlanarak optimize edilmiş bir kitaplıktır. Model üzerinde daha önce gerçekleştirilen çalışmaları geliştirebilmek adına, ek bir test olarak gerçekleştirilmiştir."
   ]
  },
  {
   "cell_type": "code",
   "execution_count": 45,
   "id": "d365558e",
   "metadata": {},
   "outputs": [
    {
     "name": "stdout",
     "output_type": "stream",
     "text": [
      "Training R^2=1.0\n",
      "Test R^2=0.91\n",
      "Test MAE=1414.47\n",
      "Test MSE=2951649.115\n"
     ]
    }
   ],
   "source": [
    "from xgboost import XGBRegressor\n",
    "xgb = XGBRegressor()\n",
    "xgb.fit(X_train,y_train)\n",
    "y_pred = xgb.predict(X_test)\n",
    "\n",
    "print(f\"Training R^2={xgb.score(X_train,y_train).round(3)}\")\n",
    "print(f\"Test R^2={r2_score(y_test,xgb.predict(X_test)).round(3)}\")\n",
    "print(f\"Test MAE={mean_absolute_error(y_test,xgb.predict(X_test)).round(3)}\")\n",
    "print(f\"Test MSE={mean_squared_error(y_test,xgb.predict(X_test)).round(3)}\")"
   ]
  },
  {
   "cell_type": "code",
   "execution_count": 46,
   "id": "a8ecb4c7",
   "metadata": {},
   "outputs": [
    {
     "data": {
      "image/png": "[encoded data removed]",
      "text/plain": [
       "<Figure size 360x360 with 1 Axes>"
      ]
     },
     "metadata": {
      "needs_background": "light"
     },
     "output_type": "display_data"
    }
   ],
   "source": [
    "plt.figure(figsize=(5,5))\n",
    "sns.scatterplot(y_test,xgb.predict(X_test))\n",
    "sns.regplot(y_test,xgb.predict(X_test))\n",
    "plt.title(\"y_test y_pred Karşılaştırma\")\n",
    "plt.show()"
   ]
  },
  {
   "cell_type": "code",
   "execution_count": 47,
   "id": "80034250",
   "metadata": {},
   "outputs": [
    {
     "name": "stdout",
     "output_type": "stream",
     "text": [
      "R^2 = 0.817\n",
      "MAE = 1538.906\n",
      "MSE = 5055920.037\n"
     ]
    }
   ],
   "source": [
    "print(\"R^2 = \"+str(cross_val_score(xgb, X_train, y_train, cv=10, scoring=\"r2\").mean().round(3)))\n",
    "print(\"MAE = \"+str(-cross_val_score(xgb, X_train, y_train, cv=10, scoring=\"neg_mean_absolute_error\").mean().round(3)))\n",
    "print(\"MSE = \"+str(-cross_val_score(xgb, X_train, y_train, cv=10, scoring=\"neg_mean_squared_error\").mean().round(3)))"
   ]
  },
  {
   "cell_type": "markdown",
   "id": "da94e306",
   "metadata": {},
   "source": [
    "- $R^{2}$ = Bir değişkenin varyansının ikinci değişkenin varyansını ne ölçüde açıkladığını belirtir. Daha yüksek bir R-kare değeri, girdi değişkenlerinin daha fazla varyasyonu açıklayabildiği anlamına gelmektedir.\n",
    "- MAE = Ortalama mutlak hata iki sürekli değişken arasındaki farkın ölçüsüdür. MAE, her gerçek değer ile veriye en iyi uyan çizgi arasındaki ortalama dikey mesafedir.\n",
    "- MSE = ortalama kare hata bir regresyon eğrisinin bir dizi noktaya ne kadar yakın olduğunu söyler.MSE değeri sıfıra yakın olan tahminleyicilerin daha iyi bir performans gösterdiği söylenebilir."
   ]
  },
  {
   "cell_type": "markdown",
   "id": "7c9bcfb5",
   "metadata": {},
   "source": [
    "Verilerimizi düzenleyerek dört farklı modelde kullandık.\n",
    "Bu modellerde $R^{2}$, MAE ve MSE değerlerine bakarak en iyiden en kötüye doğru sıralamamızı yaparsak:\n",
    "\n",
    "- XGB Regresyon\n",
    "    - Train $R^{2}$ = (1.0)\n",
    "    - Test $R^{2}$ = (0.91)\n",
    "    - Test MAE = (1414.47)\n",
    "    - Test MSE = (2951649.115)\n",
    "\n",
    "- Gradyan Artırma Regresörü\n",
    "    - Train $R^{2}$ = (0.993)\n",
    "    - Test $R^{2}$ = (0.862)\n",
    "    - Test MAE = (1613.117)\n",
    "    - Test MSE = (4544876.624)\n",
    "    \n",
    "- Rassal Ağaçlar\n",
    "    - Train $R^{2}$ = (0.98)\n",
    "    - Test $R^{2}$ = (0.86)\n",
    "    - Test MAE = (1703.181)\n",
    "    - Test MSE = (4621726.626)\n",
    "    \n",
    "- Çoklu Doğrusal Regresyon\n",
    "    - Train $R^{2}$ = (0.897)\n",
    "    - Test $R^{2}$ = (0.762)\n",
    "    - Test MAE = (2100.807)\n",
    "    - Test MSE = (7850790.057) \n",
    "\n",
    "Bu sonuçlar neticesinde XGB Regresyon modelimizin en iyi model olduğu sonucuna ulaştık."
   ]
  }
 ],
 "metadata": {
  "kernelspec": {
   "display_name": "Python 3",
   "language": "python",
   "name": "python3"
  },
  "language_info": {
   "codemirror_mode": {
    "name": "ipython",
    "version": 3
   },
   "file_extension": ".py",
   "mimetype": "text/x-python",
   "name": "python",
   "nbconvert_exporter": "python",
   "pygments_lexer": "ipython3",
   "version": "3.8.8"
  }
 },
 "nbformat": 4,
 "nbformat_minor": 5
}
