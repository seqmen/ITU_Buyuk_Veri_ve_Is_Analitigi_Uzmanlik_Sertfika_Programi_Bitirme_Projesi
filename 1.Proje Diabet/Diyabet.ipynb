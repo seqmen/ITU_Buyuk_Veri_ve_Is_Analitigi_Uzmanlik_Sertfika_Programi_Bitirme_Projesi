{
 "cells": [
  {
   "cell_type": "markdown",
   "id": "788bce28",
   "metadata": {},
   "source": [
    "# Diyabet Tahminleme Projesi"
   ]
  },
  {
   "cell_type": "markdown",
   "id": "8bc21ece",
   "metadata": {},
   "source": [
    "Bu projede bireylerin sağlık verilerine bakılarak diyabet hastası olup olmadığını tahmin edebilecek modeli kurmak amaçlanmıştır."
   ]
  },
  {
   "cell_type": "markdown",
   "id": "7992bebb",
   "metadata": {},
   "source": [
    "## Değişkenlerin Tanımlanması\n",
    "\n",
    "* Pregnancies: daha önce geçirilen hamilelik sayısı\n",
    "* Glucose: kan şekeri\n",
    "* BloodPressure: kan basıncı\n",
    "* SkinThickness: deri kalınlığı\n",
    "* Insulin: insülin seviyesi\n",
    "* BMI: vücut-kitle endeksi\n",
    "* DiabetesPedigree: soysal yatkınlık\n",
    "* Age: yaş\n",
    "* Outcome: sonuç"
   ]
  },
  {
   "cell_type": "code",
   "execution_count": 1,
   "id": "2e2d1272",
   "metadata": {},
   "outputs": [],
   "source": [
    "#Kütüphaneler\n",
    "import pandas as pd\n",
    "import numpy as np\n",
    "import matplotlib.pyplot as plt\n",
    "import seaborn as sns\n",
    "import statsmodels.api as sm\n",
    "from sklearn.model_selection import train_test_split\n",
    "from sklearn.preprocessing import StandardScaler\n",
    "from sklearn.metrics import confusion_matrix\n",
    "from sklearn.metrics import accuracy_score\n",
    "from sklearn.model_selection import GridSearchCV\n",
    "from sklearn.metrics import classification_report\n",
    "from warnings import filterwarnings\n",
    "filterwarnings('ignore')"
   ]
  },
  {
   "cell_type": "markdown",
   "id": "6b368ad1",
   "metadata": {},
   "source": [
    "## Verilerin Okutulması"
   ]
  },
  {
   "cell_type": "code",
   "execution_count": 2,
   "id": "9903570b",
   "metadata": {
    "scrolled": true
   },
   "outputs": [
    {
     "data": {
      "text/html": [
       "<div>\n",
       "<style scoped>\n",
       "    .dataframe tbody tr th:only-of-type {\n",
       "        vertical-align: middle;\n",
       "    }\n",
       "\n",
       "    .dataframe tbody tr th {\n",
       "        vertical-align: top;\n",
       "    }\n",
       "\n",
       "    .dataframe thead th {\n",
       "        text-align: right;\n",
       "    }\n",
       "</style>\n",
       "<table border=\"1\" class=\"dataframe\">\n",
       "  <thead>\n",
       "    <tr style=\"text-align: right;\">\n",
       "      <th></th>\n",
       "      <th>Pregnancies</th>\n",
       "      <th>Glucose</th>\n",
       "      <th>BloodPressure</th>\n",
       "      <th>SkinThickness</th>\n",
       "      <th>Insulin</th>\n",
       "      <th>BMI</th>\n",
       "      <th>DiabetesPedigreeFunction</th>\n",
       "      <th>Age</th>\n",
       "      <th>Outcome</th>\n",
       "    </tr>\n",
       "  </thead>\n",
       "  <tbody>\n",
       "    <tr>\n",
       "      <th>0</th>\n",
       "      <td>6</td>\n",
       "      <td>148</td>\n",
       "      <td>72</td>\n",
       "      <td>35</td>\n",
       "      <td>0</td>\n",
       "      <td>33.6</td>\n",
       "      <td>0.627</td>\n",
       "      <td>50</td>\n",
       "      <td>1</td>\n",
       "    </tr>\n",
       "    <tr>\n",
       "      <th>1</th>\n",
       "      <td>1</td>\n",
       "      <td>85</td>\n",
       "      <td>66</td>\n",
       "      <td>29</td>\n",
       "      <td>0</td>\n",
       "      <td>26.6</td>\n",
       "      <td>0.351</td>\n",
       "      <td>31</td>\n",
       "      <td>0</td>\n",
       "    </tr>\n",
       "    <tr>\n",
       "      <th>2</th>\n",
       "      <td>8</td>\n",
       "      <td>183</td>\n",
       "      <td>64</td>\n",
       "      <td>0</td>\n",
       "      <td>0</td>\n",
       "      <td>23.3</td>\n",
       "      <td>0.672</td>\n",
       "      <td>32</td>\n",
       "      <td>1</td>\n",
       "    </tr>\n",
       "    <tr>\n",
       "      <th>3</th>\n",
       "      <td>1</td>\n",
       "      <td>89</td>\n",
       "      <td>66</td>\n",
       "      <td>23</td>\n",
       "      <td>94</td>\n",
       "      <td>28.1</td>\n",
       "      <td>0.167</td>\n",
       "      <td>21</td>\n",
       "      <td>0</td>\n",
       "    </tr>\n",
       "    <tr>\n",
       "      <th>4</th>\n",
       "      <td>0</td>\n",
       "      <td>137</td>\n",
       "      <td>40</td>\n",
       "      <td>35</td>\n",
       "      <td>168</td>\n",
       "      <td>43.1</td>\n",
       "      <td>2.288</td>\n",
       "      <td>33</td>\n",
       "      <td>1</td>\n",
       "    </tr>\n",
       "  </tbody>\n",
       "</table>\n",
       "</div>"
      ],
      "text/plain": [
       "   Pregnancies  Glucose  BloodPressure  SkinThickness  Insulin   BMI  \\\n",
       "0            6      148             72             35        0  33.6   \n",
       "1            1       85             66             29        0  26.6   \n",
       "2            8      183             64              0        0  23.3   \n",
       "3            1       89             66             23       94  28.1   \n",
       "4            0      137             40             35      168  43.1   \n",
       "\n",
       "   DiabetesPedigreeFunction  Age  Outcome  \n",
       "0                     0.627   50        1  \n",
       "1                     0.351   31        0  \n",
       "2                     0.672   32        1  \n",
       "3                     0.167   21        0  \n",
       "4                     2.288   33        1  "
      ]
     },
     "execution_count": 2,
     "metadata": {},
     "output_type": "execute_result"
    }
   ],
   "source": [
    "df = pd.read_csv(\"diabetes.csv\",sep=\",\")\n",
    "df.head()"
   ]
  },
  {
   "cell_type": "markdown",
   "id": "a16ce752",
   "metadata": {},
   "source": [
    "Korelasyon derecesi, bağımlı ve bağımsız değişken arasındaki ilişkinin gücünü açıklamaktadır. İncelediğimiz değişken olan sonuç (Outcome) değişkeninin diğer değişkenler ile arasındaki korelasyon incelendi. "
   ]
  },
  {
   "cell_type": "code",
   "execution_count": 3,
   "id": "4b5c10a1",
   "metadata": {},
   "outputs": [
    {
     "data": {
      "text/plain": [
       "Outcome                     1.000000\n",
       "Glucose                     0.466581\n",
       "BMI                         0.292695\n",
       "Age                         0.238356\n",
       "Pregnancies                 0.221898\n",
       "DiabetesPedigreeFunction    0.173844\n",
       "Insulin                     0.130548\n",
       "SkinThickness               0.074752\n",
       "BloodPressure               0.065068\n",
       "Name: Outcome, dtype: float64"
      ]
     },
     "execution_count": 3,
     "metadata": {},
     "output_type": "execute_result"
    }
   ],
   "source": [
    "df.corr()[\"Outcome\"].sort_values(ascending=False)"
   ]
  },
  {
   "cell_type": "markdown",
   "id": "09ffb721",
   "metadata": {},
   "source": [
    "Verideki boş değerler incelendi. Boş veri bulunmadığı görüldü."
   ]
  },
  {
   "cell_type": "code",
   "execution_count": 4,
   "id": "869daf3a",
   "metadata": {},
   "outputs": [
    {
     "data": {
      "text/plain": [
       "Pregnancies                 0\n",
       "Glucose                     0\n",
       "BloodPressure               0\n",
       "SkinThickness               0\n",
       "Insulin                     0\n",
       "BMI                         0\n",
       "DiabetesPedigreeFunction    0\n",
       "Age                         0\n",
       "Outcome                     0\n",
       "dtype: int64"
      ]
     },
     "execution_count": 4,
     "metadata": {},
     "output_type": "execute_result"
    }
   ],
   "source": [
    "df.isna().sum()"
   ]
  },
  {
   "cell_type": "markdown",
   "id": "1ddf88a5",
   "metadata": {},
   "source": [
    "Değişkenlerin istatistiksel özellikleri incelendi."
   ]
  },
  {
   "cell_type": "code",
   "execution_count": 5,
   "id": "ba902adb",
   "metadata": {},
   "outputs": [
    {
     "data": {
      "text/html": [
       "<div>\n",
       "<style scoped>\n",
       "    .dataframe tbody tr th:only-of-type {\n",
       "        vertical-align: middle;\n",
       "    }\n",
       "\n",
       "    .dataframe tbody tr th {\n",
       "        vertical-align: top;\n",
       "    }\n",
       "\n",
       "    .dataframe thead th {\n",
       "        text-align: right;\n",
       "    }\n",
       "</style>\n",
       "<table border=\"1\" class=\"dataframe\">\n",
       "  <thead>\n",
       "    <tr style=\"text-align: right;\">\n",
       "      <th></th>\n",
       "      <th>count</th>\n",
       "      <th>mean</th>\n",
       "      <th>std</th>\n",
       "      <th>min</th>\n",
       "      <th>25%</th>\n",
       "      <th>50%</th>\n",
       "      <th>75%</th>\n",
       "      <th>max</th>\n",
       "    </tr>\n",
       "  </thead>\n",
       "  <tbody>\n",
       "    <tr>\n",
       "      <th>Pregnancies</th>\n",
       "      <td>768.0</td>\n",
       "      <td>3.845052</td>\n",
       "      <td>3.369578</td>\n",
       "      <td>0.000</td>\n",
       "      <td>1.00000</td>\n",
       "      <td>3.0000</td>\n",
       "      <td>6.00000</td>\n",
       "      <td>17.00</td>\n",
       "    </tr>\n",
       "    <tr>\n",
       "      <th>Glucose</th>\n",
       "      <td>768.0</td>\n",
       "      <td>120.894531</td>\n",
       "      <td>31.972618</td>\n",
       "      <td>0.000</td>\n",
       "      <td>99.00000</td>\n",
       "      <td>117.0000</td>\n",
       "      <td>140.25000</td>\n",
       "      <td>199.00</td>\n",
       "    </tr>\n",
       "    <tr>\n",
       "      <th>BloodPressure</th>\n",
       "      <td>768.0</td>\n",
       "      <td>69.105469</td>\n",
       "      <td>19.355807</td>\n",
       "      <td>0.000</td>\n",
       "      <td>62.00000</td>\n",
       "      <td>72.0000</td>\n",
       "      <td>80.00000</td>\n",
       "      <td>122.00</td>\n",
       "    </tr>\n",
       "    <tr>\n",
       "      <th>SkinThickness</th>\n",
       "      <td>768.0</td>\n",
       "      <td>20.536458</td>\n",
       "      <td>15.952218</td>\n",
       "      <td>0.000</td>\n",
       "      <td>0.00000</td>\n",
       "      <td>23.0000</td>\n",
       "      <td>32.00000</td>\n",
       "      <td>99.00</td>\n",
       "    </tr>\n",
       "    <tr>\n",
       "      <th>Insulin</th>\n",
       "      <td>768.0</td>\n",
       "      <td>79.799479</td>\n",
       "      <td>115.244002</td>\n",
       "      <td>0.000</td>\n",
       "      <td>0.00000</td>\n",
       "      <td>30.5000</td>\n",
       "      <td>127.25000</td>\n",
       "      <td>846.00</td>\n",
       "    </tr>\n",
       "    <tr>\n",
       "      <th>BMI</th>\n",
       "      <td>768.0</td>\n",
       "      <td>31.992578</td>\n",
       "      <td>7.884160</td>\n",
       "      <td>0.000</td>\n",
       "      <td>27.30000</td>\n",
       "      <td>32.0000</td>\n",
       "      <td>36.60000</td>\n",
       "      <td>67.10</td>\n",
       "    </tr>\n",
       "    <tr>\n",
       "      <th>DiabetesPedigreeFunction</th>\n",
       "      <td>768.0</td>\n",
       "      <td>0.471876</td>\n",
       "      <td>0.331329</td>\n",
       "      <td>0.078</td>\n",
       "      <td>0.24375</td>\n",
       "      <td>0.3725</td>\n",
       "      <td>0.62625</td>\n",
       "      <td>2.42</td>\n",
       "    </tr>\n",
       "    <tr>\n",
       "      <th>Age</th>\n",
       "      <td>768.0</td>\n",
       "      <td>33.240885</td>\n",
       "      <td>11.760232</td>\n",
       "      <td>21.000</td>\n",
       "      <td>24.00000</td>\n",
       "      <td>29.0000</td>\n",
       "      <td>41.00000</td>\n",
       "      <td>81.00</td>\n",
       "    </tr>\n",
       "    <tr>\n",
       "      <th>Outcome</th>\n",
       "      <td>768.0</td>\n",
       "      <td>0.348958</td>\n",
       "      <td>0.476951</td>\n",
       "      <td>0.000</td>\n",
       "      <td>0.00000</td>\n",
       "      <td>0.0000</td>\n",
       "      <td>1.00000</td>\n",
       "      <td>1.00</td>\n",
       "    </tr>\n",
       "  </tbody>\n",
       "</table>\n",
       "</div>"
      ],
      "text/plain": [
       "                          count        mean         std     min       25%  \\\n",
       "Pregnancies               768.0    3.845052    3.369578   0.000   1.00000   \n",
       "Glucose                   768.0  120.894531   31.972618   0.000  99.00000   \n",
       "BloodPressure             768.0   69.105469   19.355807   0.000  62.00000   \n",
       "SkinThickness             768.0   20.536458   15.952218   0.000   0.00000   \n",
       "Insulin                   768.0   79.799479  115.244002   0.000   0.00000   \n",
       "BMI                       768.0   31.992578    7.884160   0.000  27.30000   \n",
       "DiabetesPedigreeFunction  768.0    0.471876    0.331329   0.078   0.24375   \n",
       "Age                       768.0   33.240885   11.760232  21.000  24.00000   \n",
       "Outcome                   768.0    0.348958    0.476951   0.000   0.00000   \n",
       "\n",
       "                               50%        75%     max  \n",
       "Pregnancies                 3.0000    6.00000   17.00  \n",
       "Glucose                   117.0000  140.25000  199.00  \n",
       "BloodPressure              72.0000   80.00000  122.00  \n",
       "SkinThickness              23.0000   32.00000   99.00  \n",
       "Insulin                    30.5000  127.25000  846.00  \n",
       "BMI                        32.0000   36.60000   67.10  \n",
       "DiabetesPedigreeFunction    0.3725    0.62625    2.42  \n",
       "Age                        29.0000   41.00000   81.00  \n",
       "Outcome                     0.0000    1.00000    1.00  "
      ]
     },
     "execution_count": 5,
     "metadata": {},
     "output_type": "execute_result"
    }
   ],
   "source": [
    "df.describe().T"
   ]
  },
  {
   "cell_type": "markdown",
   "id": "f8e7e211",
   "metadata": {},
   "source": [
    "Değişkenlerin veri tipleri incelendi. Hepsinin sayısal olduğu görüldü."
   ]
  },
  {
   "cell_type": "code",
   "execution_count": 6,
   "id": "f41fb8e6",
   "metadata": {},
   "outputs": [
    {
     "name": "stdout",
     "output_type": "stream",
     "text": [
      "<class 'pandas.core.frame.DataFrame'>\n",
      "RangeIndex: 768 entries, 0 to 767\n",
      "Data columns (total 9 columns):\n",
      " #   Column                    Non-Null Count  Dtype  \n",
      "---  ------                    --------------  -----  \n",
      " 0   Pregnancies               768 non-null    int64  \n",
      " 1   Glucose                   768 non-null    int64  \n",
      " 2   BloodPressure             768 non-null    int64  \n",
      " 3   SkinThickness             768 non-null    int64  \n",
      " 4   Insulin                   768 non-null    int64  \n",
      " 5   BMI                       768 non-null    float64\n",
      " 6   DiabetesPedigreeFunction  768 non-null    float64\n",
      " 7   Age                       768 non-null    int64  \n",
      " 8   Outcome                   768 non-null    int64  \n",
      "dtypes: float64(2), int64(7)\n",
      "memory usage: 54.1 KB\n"
     ]
    }
   ],
   "source": [
    "df.info()"
   ]
  },
  {
   "cell_type": "code",
   "execution_count": 7,
   "id": "41789fd4",
   "metadata": {},
   "outputs": [
    {
     "data": {
      "text/plain": [
       "(768, 9)"
      ]
     },
     "execution_count": 7,
     "metadata": {},
     "output_type": "execute_result"
    }
   ],
   "source": [
    "df.shape"
   ]
  },
  {
   "cell_type": "markdown",
   "id": "92ae4768",
   "metadata": {},
   "source": [
    "Diyabet hastası olan ve olmayan bireylerin histogramı çizildi."
   ]
  },
  {
   "cell_type": "code",
   "execution_count": 8,
   "id": "60a8f8c9",
   "metadata": {},
   "outputs": [
    {
     "name": "stdout",
     "output_type": "stream",
     "text": [
      "0    500\n",
      "1    268\n",
      "Name: Outcome, dtype: int64\n"
     ]
    },
    {
     "data": {
      "image/png": "[encoded data removed]",
      "text/plain": [
       "<Figure size 720x360 with 1 Axes>"
      ]
     },
     "metadata": {
      "needs_background": "light"
     },
     "output_type": "display_data"
    }
   ],
   "source": [
    "print(df.Outcome.value_counts())\n",
    "plt.figure(figsize=(10, 5))\n",
    "sns.histplot(data=df.Outcome, bins = 2)\n",
    "plt.title(\"Diyabet Hastası Ayrımı\")\n",
    "plt.show()"
   ]
  },
  {
   "cell_type": "markdown",
   "id": "4eda83d0",
   "metadata": {},
   "source": [
    "Bağımsız değişkenlerin histogram grafikleri çizildi."
   ]
  },
  {
   "cell_type": "code",
   "execution_count": 9,
   "id": "1d384984",
   "metadata": {},
   "outputs": [
    {
     "data": {
      "image/png": "[encoded data removed]",
      "text/plain": [
       "<Figure size 1080x720 with 8 Axes>"
      ]
     },
     "metadata": {
      "needs_background": "light"
     },
     "output_type": "display_data"
    }
   ],
   "source": [
    "plt.figure(figsize=(15, 10))\n",
    "plt.subplot(3,3,1)\n",
    "sns.histplot(data=df,x=\"Pregnancies\",kde=True)\n",
    "plt.subplot(3,3,2)\n",
    "sns.histplot(data=df,x=\"Glucose\",kde=True)\n",
    "plt.subplot(3,3,3)\n",
    "sns.histplot(data=df,x=\"BloodPressure\",kde=True)\n",
    "plt.subplot(3,3,4)\n",
    "sns.histplot(data=df,x=\"SkinThickness\",kde=True)\n",
    "plt.subplot(3,3,5)\n",
    "sns.histplot(data=df,x=\"Insulin\",kde=True)\n",
    "plt.subplot(3,3,6)\n",
    "sns.histplot(data=df,x=\"BMI\",kde=True)\n",
    "plt.subplot(3,3,7)\n",
    "sns.histplot(data=df,x=\"DiabetesPedigreeFunction\",kde=True)\n",
    "plt.subplot(3,3,8)\n",
    "sns.histplot(data=df,x=\"Age\",kde=True)\n",
    "plt.show()"
   ]
  },
  {
   "cell_type": "markdown",
   "id": "dbddf405",
   "metadata": {},
   "source": [
    "Veri seti diyabet hastası olma ve olmama durumuna göre ikiye ayrıldı. Bu grupların bağımsız değişkenlere göre oranı hesaplandı."
   ]
  },
  {
   "cell_type": "code",
   "execution_count": 10,
   "id": "6e265f06",
   "metadata": {},
   "outputs": [],
   "source": [
    "diabetes = df[df.Outcome>0]\n",
    "nondiabetic = df[df.Outcome<1]"
   ]
  },
  {
   "cell_type": "code",
   "execution_count": 11,
   "id": "3c289a60",
   "metadata": {
    "scrolled": true
   },
   "outputs": [
    {
     "data": {
      "text/html": [
       "<div>\n",
       "<style scoped>\n",
       "    .dataframe tbody tr th:only-of-type {\n",
       "        vertical-align: middle;\n",
       "    }\n",
       "\n",
       "    .dataframe tbody tr th {\n",
       "        vertical-align: top;\n",
       "    }\n",
       "\n",
       "    .dataframe thead th {\n",
       "        text-align: right;\n",
       "    }\n",
       "</style>\n",
       "<table border=\"1\" class=\"dataframe\">\n",
       "  <thead>\n",
       "    <tr style=\"text-align: right;\">\n",
       "      <th></th>\n",
       "      <th>Pregnancies</th>\n",
       "      <th>Glucose</th>\n",
       "      <th>BloodPressure</th>\n",
       "      <th>SkinThickness</th>\n",
       "      <th>Insulin</th>\n",
       "      <th>BMI</th>\n",
       "      <th>DiabetesPedigreeFunction</th>\n",
       "      <th>Age</th>\n",
       "      <th>Outcome</th>\n",
       "    </tr>\n",
       "  </thead>\n",
       "  <tbody>\n",
       "    <tr>\n",
       "      <th>1</th>\n",
       "      <td>4.865672</td>\n",
       "      <td>141.257463</td>\n",
       "      <td>70.824627</td>\n",
       "      <td>22.164179</td>\n",
       "      <td>100.335821</td>\n",
       "      <td>35.142537</td>\n",
       "      <td>0.550500</td>\n",
       "      <td>37.067164</td>\n",
       "      <td>1.0</td>\n",
       "    </tr>\n",
       "    <tr>\n",
       "      <th>0</th>\n",
       "      <td>3.298000</td>\n",
       "      <td>109.980000</td>\n",
       "      <td>68.184000</td>\n",
       "      <td>19.664000</td>\n",
       "      <td>68.792000</td>\n",
       "      <td>30.304200</td>\n",
       "      <td>0.429734</td>\n",
       "      <td>31.190000</td>\n",
       "      <td>0.0</td>\n",
       "    </tr>\n",
       "  </tbody>\n",
       "</table>\n",
       "</div>"
      ],
      "text/plain": [
       "   Pregnancies     Glucose  BloodPressure  SkinThickness     Insulin  \\\n",
       "1     4.865672  141.257463      70.824627      22.164179  100.335821   \n",
       "0     3.298000  109.980000      68.184000      19.664000   68.792000   \n",
       "\n",
       "         BMI  DiabetesPedigreeFunction        Age  Outcome  \n",
       "1  35.142537                  0.550500  37.067164      1.0  \n",
       "0  30.304200                  0.429734  31.190000      0.0  "
      ]
     },
     "execution_count": 11,
     "metadata": {},
     "output_type": "execute_result"
    }
   ],
   "source": [
    "dfdiabetes = pd.DataFrame(diabetes.mean(),columns=[\"1\"])\n",
    "dfnondiabetic = pd.DataFrame(nondiabetic.mean(),columns=[\"0\"])\n",
    "dff = pd.concat([dfdiabetes,dfnondiabetic],axis=1).T\n",
    "dff"
   ]
  },
  {
   "cell_type": "markdown",
   "id": "6010554e",
   "metadata": {},
   "source": [
    "### Aykırı Değişkenlerin Box Plot Yöntemi ile Belirlenmesi"
   ]
  },
  {
   "cell_type": "markdown",
   "id": "a834d9da",
   "metadata": {},
   "source": [
    "Aykırı değerler (outlier), diğer değerlerle karşılaştırıldığında veri setine uygun olmayan değerlerdir. Bu değerlerin fazla olması, veri setinin normal dağılımdan sapmasına, bu nedenle elde edilen istatistiksel sonuçlarda farklılıklara neden olabilmektedir."
   ]
  },
  {
   "cell_type": "code",
   "execution_count": 12,
   "id": "9f1dc839",
   "metadata": {},
   "outputs": [
    {
     "data": {
      "image/png": "[encoded data removed]",
      "text/plain": [
       "<Figure size 1152x720 with 4 Axes>"
      ]
     },
     "metadata": {
      "needs_background": "light"
     },
     "output_type": "display_data"
    }
   ],
   "source": [
    "plt.figure(figsize=(16, 10))\n",
    "plt.subplot(2,4,1)\n",
    "sns.boxplot(data = df.drop([\"Insulin\",\"DiabetesPedigreeFunction\",\"Pregnancies\",\"Outcome\",\"SkinThickness\",\"BMI\",\"Age\"],axis=1), orient = 'v', palette = 'Set2', linewidth = 2.5 )\n",
    "plt.subplot(2,4,2)\n",
    "sns.boxplot(data = df.drop([\"Insulin\",\"DiabetesPedigreeFunction\",\"Pregnancies\",\"Outcome\",\"Glucose\",\"BloodPressure\"],axis=1), orient = 'v', palette = 'Set2', linewidth = 2.5 )\n",
    "plt.subplot(2,4,3)\n",
    "sns.boxplot(data = df.drop([\"Insulin\",\"Pregnancies\",\"Outcome\",\"SkinThickness\",\"BMI\",\"Age\",\"Glucose\",\"BloodPressure\"],axis=1), orient = 'v', palette = 'Set3', linewidth = 2.5 )\n",
    "plt.subplot(2,4,4)\n",
    "sns.boxplot(data = df.drop([\"Insulin\",\"DiabetesPedigreeFunction\",\"Outcome\",\"SkinThickness\",\"BMI\",\"Age\",\"Glucose\",\"BloodPressure\"],axis=1), orient = 'v', palette = 'Set3', linewidth = 2.5 )\n",
    "plt.show()"
   ]
  },
  {
   "cell_type": "markdown",
   "id": "b2e7bfdb",
   "metadata": {},
   "source": [
    "## Bağımlı ve Bağımsız Değişkenlerin Ayrılması"
   ]
  },
  {
   "cell_type": "code",
   "execution_count": 13,
   "id": "0e6a7dfc",
   "metadata": {},
   "outputs": [
    {
     "name": "stdout",
     "output_type": "stream",
     "text": [
      "y veri seti\n",
      "0    1\n",
      "1    0\n",
      "2    1\n",
      "3    0\n",
      "4    1\n",
      "Name: Outcome, dtype: int64\n"
     ]
    },
    {
     "data": {
      "text/html": [
       "<div>\n",
       "<style scoped>\n",
       "    .dataframe tbody tr th:only-of-type {\n",
       "        vertical-align: middle;\n",
       "    }\n",
       "\n",
       "    .dataframe tbody tr th {\n",
       "        vertical-align: top;\n",
       "    }\n",
       "\n",
       "    .dataframe thead th {\n",
       "        text-align: right;\n",
       "    }\n",
       "</style>\n",
       "<table border=\"1\" class=\"dataframe\">\n",
       "  <thead>\n",
       "    <tr style=\"text-align: right;\">\n",
       "      <th></th>\n",
       "      <th>const</th>\n",
       "      <th>Pregnancies</th>\n",
       "      <th>Glucose</th>\n",
       "      <th>BloodPressure</th>\n",
       "      <th>SkinThickness</th>\n",
       "      <th>Insulin</th>\n",
       "      <th>BMI</th>\n",
       "      <th>DiabetesPedigreeFunction</th>\n",
       "      <th>Age</th>\n",
       "    </tr>\n",
       "  </thead>\n",
       "  <tbody>\n",
       "    <tr>\n",
       "      <th>0</th>\n",
       "      <td>1.0</td>\n",
       "      <td>6</td>\n",
       "      <td>148</td>\n",
       "      <td>72</td>\n",
       "      <td>35</td>\n",
       "      <td>0</td>\n",
       "      <td>33.6</td>\n",
       "      <td>0.627</td>\n",
       "      <td>50</td>\n",
       "    </tr>\n",
       "    <tr>\n",
       "      <th>1</th>\n",
       "      <td>1.0</td>\n",
       "      <td>1</td>\n",
       "      <td>85</td>\n",
       "      <td>66</td>\n",
       "      <td>29</td>\n",
       "      <td>0</td>\n",
       "      <td>26.6</td>\n",
       "      <td>0.351</td>\n",
       "      <td>31</td>\n",
       "    </tr>\n",
       "    <tr>\n",
       "      <th>2</th>\n",
       "      <td>1.0</td>\n",
       "      <td>8</td>\n",
       "      <td>183</td>\n",
       "      <td>64</td>\n",
       "      <td>0</td>\n",
       "      <td>0</td>\n",
       "      <td>23.3</td>\n",
       "      <td>0.672</td>\n",
       "      <td>32</td>\n",
       "    </tr>\n",
       "    <tr>\n",
       "      <th>3</th>\n",
       "      <td>1.0</td>\n",
       "      <td>1</td>\n",
       "      <td>89</td>\n",
       "      <td>66</td>\n",
       "      <td>23</td>\n",
       "      <td>94</td>\n",
       "      <td>28.1</td>\n",
       "      <td>0.167</td>\n",
       "      <td>21</td>\n",
       "    </tr>\n",
       "    <tr>\n",
       "      <th>4</th>\n",
       "      <td>1.0</td>\n",
       "      <td>0</td>\n",
       "      <td>137</td>\n",
       "      <td>40</td>\n",
       "      <td>35</td>\n",
       "      <td>168</td>\n",
       "      <td>43.1</td>\n",
       "      <td>2.288</td>\n",
       "      <td>33</td>\n",
       "    </tr>\n",
       "  </tbody>\n",
       "</table>\n",
       "</div>"
      ],
      "text/plain": [
       "   const  Pregnancies  Glucose  BloodPressure  SkinThickness  Insulin   BMI  \\\n",
       "0    1.0            6      148             72             35        0  33.6   \n",
       "1    1.0            1       85             66             29        0  26.6   \n",
       "2    1.0            8      183             64              0        0  23.3   \n",
       "3    1.0            1       89             66             23       94  28.1   \n",
       "4    1.0            0      137             40             35      168  43.1   \n",
       "\n",
       "   DiabetesPedigreeFunction  Age  \n",
       "0                     0.627   50  \n",
       "1                     0.351   31  \n",
       "2                     0.672   32  \n",
       "3                     0.167   21  \n",
       "4                     2.288   33  "
      ]
     },
     "execution_count": 13,
     "metadata": {},
     "output_type": "execute_result"
    }
   ],
   "source": [
    "x = df.drop([\"Outcome\"],axis=1) \n",
    "y = df.Outcome\n",
    "x = sm.add_constant(x)\n",
    "print(\"y veri seti\")\n",
    "print(y.head())\n",
    "x.head()"
   ]
  },
  {
   "cell_type": "markdown",
   "id": "15e3f338",
   "metadata": {},
   "source": [
    "## İstatistiksel Model - 1"
   ]
  },
  {
   "cell_type": "markdown",
   "id": "852a5574",
   "metadata": {},
   "source": [
    "Modelimizi son haline getirirken \"Outcome\" değerine etki etmeyen veya etkisi az olan parametrelerin çıkartılması gerekmektedir. \n",
    "Bütün parametrelerin olduğu bir model oluşturup, bu modelden  \"p\" değeri \"0,05\"in üstünde olanları çıkartacağız.\n",
    "\"p\" değeri \"0,05\"in üstünde herhangi bir değer kalmadığında bu bizim öğrenme modellerimizi için kullanacağımız veri seti olacaktır."
   ]
  },
  {
   "cell_type": "code",
   "execution_count": 14,
   "id": "1a0e237d",
   "metadata": {},
   "outputs": [
    {
     "data": {
      "text/html": [
       "<table class=\"simpletable\">\n",
       "<caption>OLS Regression Results</caption>\n",
       "<tr>\n",
       "  <th>Dep. Variable:</th>         <td>Outcome</td>     <th>  R-squared:         </th> <td>   0.303</td>\n",
       "</tr>\n",
       "<tr>\n",
       "  <th>Model:</th>                   <td>OLS</td>       <th>  Adj. R-squared:    </th> <td>   0.296</td>\n",
       "</tr>\n",
       "<tr>\n",
       "  <th>Method:</th>             <td>Least Squares</td>  <th>  F-statistic:       </th> <td>   41.29</td>\n",
       "</tr>\n",
       "<tr>\n",
       "  <th>Date:</th>             <td>Sun, 31 Oct 2021</td> <th>  Prob (F-statistic):</th> <td>7.36e-55</td>\n",
       "</tr>\n",
       "<tr>\n",
       "  <th>Time:</th>                 <td>21:45:02</td>     <th>  Log-Likelihood:    </th> <td> -381.91</td>\n",
       "</tr>\n",
       "<tr>\n",
       "  <th>No. Observations:</th>      <td>   768</td>      <th>  AIC:               </th> <td>   781.8</td>\n",
       "</tr>\n",
       "<tr>\n",
       "  <th>Df Residuals:</th>          <td>   759</td>      <th>  BIC:               </th> <td>   823.6</td>\n",
       "</tr>\n",
       "<tr>\n",
       "  <th>Df Model:</th>              <td>     8</td>      <th>                     </th>     <td> </td>   \n",
       "</tr>\n",
       "<tr>\n",
       "  <th>Covariance Type:</th>      <td>nonrobust</td>    <th>                     </th>     <td> </td>   \n",
       "</tr>\n",
       "</table>\n",
       "<table class=\"simpletable\">\n",
       "<tr>\n",
       "              <td></td>                <th>coef</th>     <th>std err</th>      <th>t</th>      <th>P>|t|</th>  <th>[0.025</th>    <th>0.975]</th>  \n",
       "</tr>\n",
       "<tr>\n",
       "  <th>const</th>                    <td>   -0.8539</td> <td>    0.085</td> <td>   -9.989</td> <td> 0.000</td> <td>   -1.022</td> <td>   -0.686</td>\n",
       "</tr>\n",
       "<tr>\n",
       "  <th>Pregnancies</th>              <td>    0.0206</td> <td>    0.005</td> <td>    4.014</td> <td> 0.000</td> <td>    0.011</td> <td>    0.031</td>\n",
       "</tr>\n",
       "<tr>\n",
       "  <th>Glucose</th>                  <td>    0.0059</td> <td>    0.001</td> <td>   11.493</td> <td> 0.000</td> <td>    0.005</td> <td>    0.007</td>\n",
       "</tr>\n",
       "<tr>\n",
       "  <th>BloodPressure</th>            <td>   -0.0023</td> <td>    0.001</td> <td>   -2.873</td> <td> 0.004</td> <td>   -0.004</td> <td>   -0.001</td>\n",
       "</tr>\n",
       "<tr>\n",
       "  <th>SkinThickness</th>            <td>    0.0002</td> <td>    0.001</td> <td>    0.139</td> <td> 0.890</td> <td>   -0.002</td> <td>    0.002</td>\n",
       "</tr>\n",
       "<tr>\n",
       "  <th>Insulin</th>                  <td>   -0.0002</td> <td>    0.000</td> <td>   -1.205</td> <td> 0.229</td> <td>   -0.000</td> <td>    0.000</td>\n",
       "</tr>\n",
       "<tr>\n",
       "  <th>BMI</th>                      <td>    0.0132</td> <td>    0.002</td> <td>    6.344</td> <td> 0.000</td> <td>    0.009</td> <td>    0.017</td>\n",
       "</tr>\n",
       "<tr>\n",
       "  <th>DiabetesPedigreeFunction</th> <td>    0.1472</td> <td>    0.045</td> <td>    3.268</td> <td> 0.001</td> <td>    0.059</td> <td>    0.236</td>\n",
       "</tr>\n",
       "<tr>\n",
       "  <th>Age</th>                      <td>    0.0026</td> <td>    0.002</td> <td>    1.693</td> <td> 0.091</td> <td>   -0.000</td> <td>    0.006</td>\n",
       "</tr>\n",
       "</table>\n",
       "<table class=\"simpletable\">\n",
       "<tr>\n",
       "  <th>Omnibus:</th>       <td>41.539</td> <th>  Durbin-Watson:     </th> <td>   1.982</td>\n",
       "</tr>\n",
       "<tr>\n",
       "  <th>Prob(Omnibus):</th> <td> 0.000</td> <th>  Jarque-Bera (JB):  </th> <td>  31.183</td>\n",
       "</tr>\n",
       "<tr>\n",
       "  <th>Skew:</th>          <td> 0.395</td> <th>  Prob(JB):          </th> <td>1.69e-07</td>\n",
       "</tr>\n",
       "<tr>\n",
       "  <th>Kurtosis:</th>      <td> 2.408</td> <th>  Cond. No.          </th> <td>1.10e+03</td>\n",
       "</tr>\n",
       "</table><br/><br/>Notes:<br/>[1] Standard Errors assume that the covariance matrix of the errors is correctly specified.<br/>[2] The condition number is large, 1.1e+03. This might indicate that there are<br/>strong multicollinearity or other numerical problems."
      ],
      "text/plain": [
       "<class 'statsmodels.iolib.summary.Summary'>\n",
       "\"\"\"\n",
       "                            OLS Regression Results                            \n",
       "==============================================================================\n",
       "Dep. Variable:                Outcome   R-squared:                       0.303\n",
       "Model:                            OLS   Adj. R-squared:                  0.296\n",
       "Method:                 Least Squares   F-statistic:                     41.29\n",
       "Date:                Sun, 31 Oct 2021   Prob (F-statistic):           7.36e-55\n",
       "Time:                        21:45:02   Log-Likelihood:                -381.91\n",
       "No. Observations:                 768   AIC:                             781.8\n",
       "Df Residuals:                     759   BIC:                             823.6\n",
       "Df Model:                           8                                         \n",
       "Covariance Type:            nonrobust                                         \n",
       "============================================================================================\n",
       "                               coef    std err          t      P>|t|      [0.025      0.975]\n",
       "--------------------------------------------------------------------------------------------\n",
       "const                       -0.8539      0.085     -9.989      0.000      -1.022      -0.686\n",
       "Pregnancies                  0.0206      0.005      4.014      0.000       0.011       0.031\n",
       "Glucose                      0.0059      0.001     11.493      0.000       0.005       0.007\n",
       "BloodPressure               -0.0023      0.001     -2.873      0.004      -0.004      -0.001\n",
       "SkinThickness                0.0002      0.001      0.139      0.890      -0.002       0.002\n",
       "Insulin                     -0.0002      0.000     -1.205      0.229      -0.000       0.000\n",
       "BMI                          0.0132      0.002      6.344      0.000       0.009       0.017\n",
       "DiabetesPedigreeFunction     0.1472      0.045      3.268      0.001       0.059       0.236\n",
       "Age                          0.0026      0.002      1.693      0.091      -0.000       0.006\n",
       "==============================================================================\n",
       "Omnibus:                       41.539   Durbin-Watson:                   1.982\n",
       "Prob(Omnibus):                  0.000   Jarque-Bera (JB):               31.183\n",
       "Skew:                           0.395   Prob(JB):                     1.69e-07\n",
       "Kurtosis:                       2.408   Cond. No.                     1.10e+03\n",
       "==============================================================================\n",
       "\n",
       "Notes:\n",
       "[1] Standard Errors assume that the covariance matrix of the errors is correctly specified.\n",
       "[2] The condition number is large, 1.1e+03. This might indicate that there are\n",
       "strong multicollinearity or other numerical problems.\n",
       "\"\"\""
      ]
     },
     "execution_count": 14,
     "metadata": {},
     "output_type": "execute_result"
    }
   ],
   "source": [
    "lm = sm.OLS(y,x)\n",
    "model = lm.fit()\n",
    "model.summary()"
   ]
  },
  {
   "cell_type": "markdown",
   "id": "860d3a24",
   "metadata": {},
   "source": [
    "Least Squares (en küçük kareler) yöntemi kullanılarak, değişkenlerin kovaryans dereceleri ölçüldü. Anlamlılık düzeyi 0.05'in üzerinde olan değerler veri setinden çıkarıldı."
   ]
  },
  {
   "cell_type": "code",
   "execution_count": 15,
   "id": "7a28ead4",
   "metadata": {},
   "outputs": [],
   "source": [
    "x = df.drop([\"Outcome\",\"SkinThickness\",\"Insulin\"],axis=1) \n",
    "y = df.Outcome\n",
    "x = sm.add_constant(x)"
   ]
  },
  {
   "cell_type": "markdown",
   "id": "b2a0fe7d",
   "metadata": {},
   "source": [
    "## İstatistiksel Model - 2"
   ]
  },
  {
   "cell_type": "code",
   "execution_count": 16,
   "id": "eb21fc66",
   "metadata": {},
   "outputs": [
    {
     "data": {
      "text/html": [
       "<table class=\"simpletable\">\n",
       "<caption>OLS Regression Results</caption>\n",
       "<tr>\n",
       "  <th>Dep. Variable:</th>         <td>Outcome</td>     <th>  R-squared:         </th> <td>   0.302</td>\n",
       "</tr>\n",
       "<tr>\n",
       "  <th>Model:</th>                   <td>OLS</td>       <th>  Adj. R-squared:    </th> <td>   0.296</td>\n",
       "</tr>\n",
       "<tr>\n",
       "  <th>Method:</th>             <td>Least Squares</td>  <th>  F-statistic:       </th> <td>   54.82</td>\n",
       "</tr>\n",
       "<tr>\n",
       "  <th>Date:</th>             <td>Sun, 31 Oct 2021</td> <th>  Prob (F-statistic):</th> <td>2.92e-56</td>\n",
       "</tr>\n",
       "<tr>\n",
       "  <th>Time:</th>                 <td>21:45:02</td>     <th>  Log-Likelihood:    </th> <td> -382.72</td>\n",
       "</tr>\n",
       "<tr>\n",
       "  <th>No. Observations:</th>      <td>   768</td>      <th>  AIC:               </th> <td>   779.4</td>\n",
       "</tr>\n",
       "<tr>\n",
       "  <th>Df Residuals:</th>          <td>   761</td>      <th>  BIC:               </th> <td>   811.9</td>\n",
       "</tr>\n",
       "<tr>\n",
       "  <th>Df Model:</th>              <td>     6</td>      <th>                     </th>     <td> </td>   \n",
       "</tr>\n",
       "<tr>\n",
       "  <th>Covariance Type:</th>      <td>nonrobust</td>    <th>                     </th>     <td> </td>   \n",
       "</tr>\n",
       "</table>\n",
       "<table class=\"simpletable\">\n",
       "<tr>\n",
       "              <td></td>                <th>coef</th>     <th>std err</th>      <th>t</th>      <th>P>|t|</th>  <th>[0.025</th>    <th>0.975]</th>  \n",
       "</tr>\n",
       "<tr>\n",
       "  <th>const</th>                    <td>   -0.8363</td> <td>    0.084</td> <td>   -9.919</td> <td> 0.000</td> <td>   -1.002</td> <td>   -0.671</td>\n",
       "</tr>\n",
       "<tr>\n",
       "  <th>Pregnancies</th>              <td>    0.0209</td> <td>    0.005</td> <td>    4.086</td> <td> 0.000</td> <td>    0.011</td> <td>    0.031</td>\n",
       "</tr>\n",
       "<tr>\n",
       "  <th>Glucose</th>                  <td>    0.0057</td> <td>    0.000</td> <td>   11.815</td> <td> 0.000</td> <td>    0.005</td> <td>    0.007</td>\n",
       "</tr>\n",
       "<tr>\n",
       "  <th>BloodPressure</th>            <td>   -0.0024</td> <td>    0.001</td> <td>   -2.940</td> <td> 0.003</td> <td>   -0.004</td> <td>   -0.001</td>\n",
       "</tr>\n",
       "<tr>\n",
       "  <th>BMI</th>                      <td>    0.0131</td> <td>    0.002</td> <td>    6.662</td> <td> 0.000</td> <td>    0.009</td> <td>    0.017</td>\n",
       "</tr>\n",
       "<tr>\n",
       "  <th>DiabetesPedigreeFunction</th> <td>    0.1403</td> <td>    0.044</td> <td>    3.160</td> <td> 0.002</td> <td>    0.053</td> <td>    0.227</td>\n",
       "</tr>\n",
       "<tr>\n",
       "  <th>Age</th>                      <td>    0.0028</td> <td>    0.002</td> <td>    1.822</td> <td> 0.069</td> <td>   -0.000</td> <td>    0.006</td>\n",
       "</tr>\n",
       "</table>\n",
       "<table class=\"simpletable\">\n",
       "<tr>\n",
       "  <th>Omnibus:</th>       <td>40.153</td> <th>  Durbin-Watson:     </th> <td>   1.990</td>\n",
       "</tr>\n",
       "<tr>\n",
       "  <th>Prob(Omnibus):</th> <td> 0.000</td> <th>  Jarque-Bera (JB):  </th> <td>  30.102</td>\n",
       "</tr>\n",
       "<tr>\n",
       "  <th>Skew:</th>          <td> 0.386</td> <th>  Prob(JB):          </th> <td>2.91e-07</td>\n",
       "</tr>\n",
       "<tr>\n",
       "  <th>Kurtosis:</th>      <td> 2.413</td> <th>  Cond. No.          </th> <td>    877.</td>\n",
       "</tr>\n",
       "</table><br/><br/>Notes:<br/>[1] Standard Errors assume that the covariance matrix of the errors is correctly specified."
      ],
      "text/plain": [
       "<class 'statsmodels.iolib.summary.Summary'>\n",
       "\"\"\"\n",
       "                            OLS Regression Results                            \n",
       "==============================================================================\n",
       "Dep. Variable:                Outcome   R-squared:                       0.302\n",
       "Model:                            OLS   Adj. R-squared:                  0.296\n",
       "Method:                 Least Squares   F-statistic:                     54.82\n",
       "Date:                Sun, 31 Oct 2021   Prob (F-statistic):           2.92e-56\n",
       "Time:                        21:45:02   Log-Likelihood:                -382.72\n",
       "No. Observations:                 768   AIC:                             779.4\n",
       "Df Residuals:                     761   BIC:                             811.9\n",
       "Df Model:                           6                                         \n",
       "Covariance Type:            nonrobust                                         \n",
       "============================================================================================\n",
       "                               coef    std err          t      P>|t|      [0.025      0.975]\n",
       "--------------------------------------------------------------------------------------------\n",
       "const                       -0.8363      0.084     -9.919      0.000      -1.002      -0.671\n",
       "Pregnancies                  0.0209      0.005      4.086      0.000       0.011       0.031\n",
       "Glucose                      0.0057      0.000     11.815      0.000       0.005       0.007\n",
       "BloodPressure               -0.0024      0.001     -2.940      0.003      -0.004      -0.001\n",
       "BMI                          0.0131      0.002      6.662      0.000       0.009       0.017\n",
       "DiabetesPedigreeFunction     0.1403      0.044      3.160      0.002       0.053       0.227\n",
       "Age                          0.0028      0.002      1.822      0.069      -0.000       0.006\n",
       "==============================================================================\n",
       "Omnibus:                       40.153   Durbin-Watson:                   1.990\n",
       "Prob(Omnibus):                  0.000   Jarque-Bera (JB):               30.102\n",
       "Skew:                           0.386   Prob(JB):                     2.91e-07\n",
       "Kurtosis:                       2.413   Cond. No.                         877.\n",
       "==============================================================================\n",
       "\n",
       "Notes:\n",
       "[1] Standard Errors assume that the covariance matrix of the errors is correctly specified.\n",
       "\"\"\""
      ]
     },
     "execution_count": 16,
     "metadata": {},
     "output_type": "execute_result"
    }
   ],
   "source": [
    "lm = sm.OLS(y,x)\n",
    "model = lm.fit()\n",
    "model.summary()"
   ]
  },
  {
   "cell_type": "raw",
   "id": "5148bc8c",
   "metadata": {},
   "source": [
    "Bağımlı Değişkenler = \"Pregnancies\",\"Glucose\",\"BloodPressure\",\"BMI\",\"DiabetesPedigreeFunction\",\"Age\"\n",
    "Bağımsız Değişken = \"Outcome\""
   ]
  },
  {
   "cell_type": "code",
   "execution_count": 17,
   "id": "bff34b9d",
   "metadata": {},
   "outputs": [],
   "source": [
    "x = df.drop([\"Outcome\",\"SkinThickness\",\"Insulin\"],axis=1) \n",
    "y = df.Outcome"
   ]
  },
  {
   "cell_type": "markdown",
   "id": "4ebc6b32",
   "metadata": {},
   "source": [
    "## Veri Kaynağının Eğitim ve Test Kümelerine Ayrılması"
   ]
  },
  {
   "cell_type": "markdown",
   "id": "c29097a9",
   "metadata": {},
   "source": [
    "Tahminleme aşamasına geçerken, veri setinin %80'i modelin training verisi olarak, %20'si test verisi olarak kullanılmak üzere, veri seti iki gruba ayrıldı."
   ]
  },
  {
   "cell_type": "code",
   "execution_count": 18,
   "id": "1824c566",
   "metadata": {},
   "outputs": [],
   "source": [
    "x_train, x_test, y_train, y_test= train_test_split(x,y,test_size=0.20,random_state=0)"
   ]
  },
  {
   "cell_type": "markdown",
   "id": "ee3da502",
   "metadata": {},
   "source": [
    "## Öznitelik(Değişken) Ölçekleme "
   ]
  },
  {
   "cell_type": "raw",
   "id": "3ece0fd9",
   "metadata": {},
   "source": [
    "Veriler standardize edildi."
   ]
  },
  {
   "cell_type": "code",
   "execution_count": 19,
   "id": "1483f49d",
   "metadata": {},
   "outputs": [],
   "source": [
    "sc = StandardScaler()\n",
    "X_train = sc.fit_transform(x_train)\n",
    "X_test = sc.transform(x_test)\n",
    "\n",
    "#sc.inverse_transform()"
   ]
  },
  {
   "cell_type": "code",
   "execution_count": 20,
   "id": "23847970",
   "metadata": {},
   "outputs": [
    {
     "data": {
      "text/html": [
       "<div>\n",
       "<style scoped>\n",
       "    .dataframe tbody tr th:only-of-type {\n",
       "        vertical-align: middle;\n",
       "    }\n",
       "\n",
       "    .dataframe tbody tr th {\n",
       "        vertical-align: top;\n",
       "    }\n",
       "\n",
       "    .dataframe thead th {\n",
       "        text-align: right;\n",
       "    }\n",
       "</style>\n",
       "<table border=\"1\" class=\"dataframe\">\n",
       "  <thead>\n",
       "    <tr style=\"text-align: right;\">\n",
       "      <th></th>\n",
       "      <th>0</th>\n",
       "      <th>1</th>\n",
       "      <th>2</th>\n",
       "      <th>3</th>\n",
       "      <th>4</th>\n",
       "      <th>5</th>\n",
       "    </tr>\n",
       "  </thead>\n",
       "  <tbody>\n",
       "    <tr>\n",
       "      <th>0</th>\n",
       "      <td>0.908329</td>\n",
       "      <td>0.915694</td>\n",
       "      <td>0.449124</td>\n",
       "      <td>0.378526</td>\n",
       "      <td>0.677404</td>\n",
       "      <td>1.699558</td>\n",
       "    </tr>\n",
       "    <tr>\n",
       "      <th>1</th>\n",
       "      <td>0.036447</td>\n",
       "      <td>-0.751822</td>\n",
       "      <td>-0.472301</td>\n",
       "      <td>-0.506672</td>\n",
       "      <td>-0.070497</td>\n",
       "      <td>-0.965692</td>\n",
       "    </tr>\n",
       "    <tr>\n",
       "      <th>2</th>\n",
       "      <td>-1.126063</td>\n",
       "      <td>1.387632</td>\n",
       "      <td>1.063407</td>\n",
       "      <td>2.540941</td>\n",
       "      <td>-0.118555</td>\n",
       "      <td>-0.882403</td>\n",
       "    </tr>\n",
       "    <tr>\n",
       "      <th>3</th>\n",
       "      <td>-0.835435</td>\n",
       "      <td>-0.374271</td>\n",
       "      <td>-0.677062</td>\n",
       "      <td>-0.886043</td>\n",
       "      <td>1.100914</td>\n",
       "      <td>-0.882403</td>\n",
       "    </tr>\n",
       "    <tr>\n",
       "      <th>4</th>\n",
       "      <td>1.198956</td>\n",
       "      <td>-0.028183</td>\n",
       "      <td>-3.543717</td>\n",
       "      <td>-0.279050</td>\n",
       "      <td>-0.851438</td>\n",
       "      <td>0.366933</td>\n",
       "    </tr>\n",
       "    <tr>\n",
       "      <th>...</th>\n",
       "      <td>...</td>\n",
       "      <td>...</td>\n",
       "      <td>...</td>\n",
       "      <td>...</td>\n",
       "      <td>...</td>\n",
       "      <td>...</td>\n",
       "    </tr>\n",
       "    <tr>\n",
       "      <th>609</th>\n",
       "      <td>1.780211</td>\n",
       "      <td>-0.625972</td>\n",
       "      <td>0.346743</td>\n",
       "      <td>0.087675</td>\n",
       "      <td>-0.887481</td>\n",
       "      <td>2.449160</td>\n",
       "    </tr>\n",
       "    <tr>\n",
       "      <th>610</th>\n",
       "      <td>0.908329</td>\n",
       "      <td>1.198857</td>\n",
       "      <td>-0.165159</td>\n",
       "      <td>-0.228467</td>\n",
       "      <td>-0.250714</td>\n",
       "      <td>0.200355</td>\n",
       "    </tr>\n",
       "    <tr>\n",
       "      <th>611</th>\n",
       "      <td>0.036447</td>\n",
       "      <td>-0.846210</td>\n",
       "      <td>-0.216350</td>\n",
       "      <td>-0.949272</td>\n",
       "      <td>-0.956564</td>\n",
       "      <td>-1.048981</td>\n",
       "    </tr>\n",
       "    <tr>\n",
       "      <th>612</th>\n",
       "      <td>2.070839</td>\n",
       "      <td>-1.129373</td>\n",
       "      <td>0.244363</td>\n",
       "      <td>-0.266404</td>\n",
       "      <td>-0.500014</td>\n",
       "      <td>0.117066</td>\n",
       "    </tr>\n",
       "    <tr>\n",
       "      <th>613</th>\n",
       "      <td>0.327074</td>\n",
       "      <td>0.475218</td>\n",
       "      <td>0.653885</td>\n",
       "      <td>-4.072759</td>\n",
       "      <td>0.521216</td>\n",
       "      <td>2.948894</td>\n",
       "    </tr>\n",
       "  </tbody>\n",
       "</table>\n",
       "<p>614 rows × 6 columns</p>\n",
       "</div>"
      ],
      "text/plain": [
       "            0         1         2         3         4         5\n",
       "0    0.908329  0.915694  0.449124  0.378526  0.677404  1.699558\n",
       "1    0.036447 -0.751822 -0.472301 -0.506672 -0.070497 -0.965692\n",
       "2   -1.126063  1.387632  1.063407  2.540941 -0.118555 -0.882403\n",
       "3   -0.835435 -0.374271 -0.677062 -0.886043  1.100914 -0.882403\n",
       "4    1.198956 -0.028183 -3.543717 -0.279050 -0.851438  0.366933\n",
       "..        ...       ...       ...       ...       ...       ...\n",
       "609  1.780211 -0.625972  0.346743  0.087675 -0.887481  2.449160\n",
       "610  0.908329  1.198857 -0.165159 -0.228467 -0.250714  0.200355\n",
       "611  0.036447 -0.846210 -0.216350 -0.949272 -0.956564 -1.048981\n",
       "612  2.070839 -1.129373  0.244363 -0.266404 -0.500014  0.117066\n",
       "613  0.327074  0.475218  0.653885 -4.072759  0.521216  2.948894\n",
       "\n",
       "[614 rows x 6 columns]"
      ]
     },
     "execution_count": 20,
     "metadata": {},
     "output_type": "execute_result"
    }
   ],
   "source": [
    "pd.DataFrame(X_train)"
   ]
  },
  {
   "cell_type": "markdown",
   "id": "4b78624e",
   "metadata": {},
   "source": [
    "## Nearest Neighbors Classification"
   ]
  },
  {
   "cell_type": "markdown",
   "id": "8128fe90",
   "metadata": {},
   "source": [
    "Nearest Neighbors (en yakın komşular) algoritması, sınıflandırılmak istenen bir veriyi daha önceki verilerle olan yakınlık ilişkisine göre sınıflandıran bir algoritmadır. \n",
    "\n",
    "Eski, basit eğitim verilerine karşı dirençli olması sebebiyle en popüler makine öğrenme algoritmalarından biri olsa da, büyük veriler için kullanıldığında çok sayıda bellek alanına gereksinim duymaktadır.\n",
    "\n",
    "Herhangi bir parametre belirtilmediğinde, default olarak 5 adet komşu belirlemektedir. "
   ]
  },
  {
   "cell_type": "code",
   "execution_count": 21,
   "id": "313814d6",
   "metadata": {},
   "outputs": [
    {
     "name": "stdout",
     "output_type": "stream",
     "text": [
      "Training R^2 = 0.829\n",
      "Test R^2 = 0.7987\n",
      "              precision    recall  f1-score   support\n",
      "\n",
      "           0       0.85      0.86      0.86       107\n",
      "           1       0.67      0.66      0.67        47\n",
      "\n",
      "    accuracy                           0.80       154\n",
      "   macro avg       0.76      0.76      0.76       154\n",
      "weighted avg       0.80      0.80      0.80       154\n",
      "\n"
     ]
    },
    {
     "data": {
      "image/png": "[encoded data removed]",
      "text/plain": [
       "<Figure size 432x288 with 1 Axes>"
      ]
     },
     "metadata": {
      "needs_background": "light"
     },
     "output_type": "display_data"
    }
   ],
   "source": [
    "from sklearn.neighbors import KNeighborsClassifier\n",
    "knn = KNeighborsClassifier()\n",
    "knn.fit(X_train,y_train)\n",
    "y_pred1 = knn.predict(X_test)\n",
    "\n",
    "## Karmaşıklık Matrisi\n",
    "## Başarı Oranı\n",
    "print(f\"Training R^2 = {knn.score(X_train,y_train).round(4)}\")\n",
    "print(f\"Test R^2 = {accuracy_score(y_test, y_pred1).round(4)}\")\n",
    "print(classification_report(y_test, y_pred1))\n",
    "sns.heatmap(confusion_matrix(y_test,y_pred1),annot=True,lw=2,cbar=False)\n",
    "plt.ylabel(\"True Values\")\n",
    "plt.xlabel(\"Predicted Values\")\n",
    "plt.title(\"Confusin Matrix\")\n",
    "plt.show()"
   ]
  },
  {
   "cell_type": "code",
   "execution_count": 22,
   "id": "e39a1d2b",
   "metadata": {},
   "outputs": [
    {
     "data": {
      "image/png": "[encoded data removed]",
      "text/plain": [
       "<Figure size 432x288 with 1 Axes>"
      ]
     },
     "metadata": {
      "needs_background": "light"
     },
     "output_type": "display_data"
    }
   ],
   "source": [
    "import sklearn.metrics as metrics \n",
    "probs = knn.predict_proba(X_test)\n",
    "preds = probs[:,1]\n",
    "fpr,tpr,threshold = metrics.roc_curve(y_test,y_pred1)\n",
    "roc_auc =metrics.auc(fpr,tpr)\n",
    "plt.title(\"Recevier Operating Characteristic\")\n",
    "plt.plot(fpr,tpr,\"b\",label=\"AUC=%0.2f\"%roc_auc)\n",
    "plt.legend(loc = \"lower right\")\n",
    "plt.plot([0,1],[0,1],\"r--\")\n",
    "plt.xlim([0,1])\n",
    "plt.ylim([0,1])\n",
    "plt.ylabel(\"True Positive Rate\")\n",
    "plt.xlabel(\"false Positive Rate\")\n",
    "plt.show()"
   ]
  },
  {
   "cell_type": "markdown",
   "id": "c627ca72",
   "metadata": {},
   "source": [
    "## Classification SVC"
   ]
  },
  {
   "cell_type": "markdown",
   "id": "24804d17",
   "metadata": {},
   "source": [
    "Destek vektör makinesi (SVC), eğitim verilerindeki herhangi bir noktadan en uzak olan iki sınıf arasında bir karar sınırı bulan vektör uzayı tabanlı makine öğrenme yöntemidir.\n",
    "\n",
    "Yüksek boyutlu uzaylarda, boyut sayısının örnem sayısından fazla olduğu durumlarda dahi etkilidir. Destek vektörlerinde eğitim noktalarının bir alt kümesini kullandığından, bellek kullanımı açısından verimlidir."
   ]
  },
  {
   "cell_type": "code",
   "execution_count": 23,
   "id": "ba5332a7",
   "metadata": {},
   "outputs": [
    {
     "name": "stdout",
     "output_type": "stream",
     "text": [
      "Training R^2 = 0.8094\n",
      "Test R^2 = 0.8182\n",
      "              precision    recall  f1-score   support\n",
      "\n",
      "           0       0.85      0.90      0.87       107\n",
      "           1       0.73      0.64      0.68        47\n",
      "\n",
      "    accuracy                           0.82       154\n",
      "   macro avg       0.79      0.77      0.78       154\n",
      "weighted avg       0.81      0.82      0.81       154\n",
      "\n"
     ]
    },
    {
     "data": {
      "image/png": "[encoded data removed]",
      "text/plain": [
       "<Figure size 432x288 with 1 Axes>"
      ]
     },
     "metadata": {
      "needs_background": "light"
     },
     "output_type": "display_data"
    }
   ],
   "source": [
    "#https://scikit-learn.org/stable/modules/generated/sklearn.svm.SVC.html\n",
    "#kernel ={‘linear’, ‘poly’, ‘rbf’, ‘sigmoid’, ‘precomputed’}\n",
    "from sklearn.svm import SVC\n",
    "svc = SVC(probability=True)\n",
    "svc.fit(X_train,y_train)\n",
    "y_pred2 = svc.predict(X_test)\n",
    "\n",
    "## Karmaşıklık Matrisi\n",
    "## Başarı Oranı\n",
    "print(f\"Training R^2 = {svc.score(X_train,y_train).round(4)}\")\n",
    "print(f\"Test R^2 = {accuracy_score(y_test, y_pred2).round(4)}\")\n",
    "print(classification_report(y_test, y_pred2))\n",
    "sns.heatmap(confusion_matrix(y_test,y_pred2),annot=True,lw=2,cbar=False)\n",
    "plt.ylabel(\"True Values\")\n",
    "plt.xlabel(\"Predicted Values\")\n",
    "plt.title(\"Confusin Matrix\")\n",
    "plt.show()"
   ]
  },
  {
   "cell_type": "code",
   "execution_count": 24,
   "id": "83718bad",
   "metadata": {},
   "outputs": [
    {
     "data": {
      "image/png": "[encoded data removed]",
      "text/plain": [
       "<Figure size 432x288 with 1 Axes>"
      ]
     },
     "metadata": {
      "needs_background": "light"
     },
     "output_type": "display_data"
    }
   ],
   "source": [
    "import sklearn.metrics as metrics \n",
    "probs = svc.predict_proba(X_test)\n",
    "preds = probs[:,1]\n",
    "fpr,tpr,threshold = metrics.roc_curve(y_test,y_pred2)\n",
    "roc_auc =metrics.auc(fpr,tpr)\n",
    "plt.title(\"Recevier Operating Characteristic\")\n",
    "plt.plot(fpr,tpr,\"b\",label=\"AUC=%0.2f\"%roc_auc)\n",
    "plt.legend(loc = \"lower right\")\n",
    "plt.plot([0,1],[0,1],\"r--\")\n",
    "plt.xlim([0,1])\n",
    "plt.ylim([0,1])\n",
    "plt.ylabel(\"True Positive Rate\")\n",
    "plt.xlabel(\"false Positive Rate\")\n",
    "plt.show()"
   ]
  },
  {
   "cell_type": "markdown",
   "id": "3fdf0d4d",
   "metadata": {},
   "source": [
    "## Bernoulli Naive Bayes"
   ]
  },
  {
   "cell_type": "markdown",
   "id": "997ec982",
   "metadata": {},
   "source": [
    "Naive Bayes sınıflandırma algoritması, olasılık ilkelerine göre tanımlanmış bir dizi hesaplama ile, sisteme sunulan verilerin sınıfını yani kategorisini tespit etmeyi amaçlayan bir algoritmadır. \n",
    "\n",
    "Çok sınıflı kategorileri sınıflandırılmak için kullanılan Multinominal Naive Bayes yöntemine benzer şekilde işler, ancak ancak yalnızca ikili (boolean) tahminlerde bulunur.\n"
   ]
  },
  {
   "cell_type": "code",
   "execution_count": 25,
   "id": "03bcb4fc",
   "metadata": {},
   "outputs": [
    {
     "name": "stdout",
     "output_type": "stream",
     "text": [
      "Training R^2 = 0.728\n",
      "Test R^2 = 0.7597\n",
      "              precision    recall  f1-score   support\n",
      "\n",
      "           0       0.81      0.86      0.83       107\n",
      "           1       0.62      0.53      0.57        47\n",
      "\n",
      "    accuracy                           0.76       154\n",
      "   macro avg       0.72      0.70      0.70       154\n",
      "weighted avg       0.75      0.76      0.75       154\n",
      "\n"
     ]
    },
    {
     "data": {
      "image/png": "[encoded data removed]",
      "text/plain": [
       "<Figure size 432x288 with 1 Axes>"
      ]
     },
     "metadata": {
      "needs_background": "light"
     },
     "output_type": "display_data"
    }
   ],
   "source": [
    "from sklearn.naive_bayes import BernoulliNB\n",
    "bnb = BernoulliNB()\n",
    "bnb.fit(X_train,y_train)\n",
    "y_pred3= bnb.predict(X_test)\n",
    "\n",
    "## Karmaşıklık Matrisi\n",
    "## Başarı Oranı\n",
    "print(f\"Training R^2 = {bnb.score(X_train,y_train).round(4)}\")\n",
    "print(f\"Test R^2 = {accuracy_score(y_test, y_pred3).round(4)}\")\n",
    "print(classification_report(y_test, y_pred3))\n",
    "sns.heatmap(confusion_matrix(y_test,y_pred3),annot=True,lw=2,cbar=False)\n",
    "plt.ylabel(\"True Values\")\n",
    "plt.xlabel(\"Predicted Values\")\n",
    "plt.title(\"Confusin Matrix\")\n",
    "plt.show()"
   ]
  },
  {
   "cell_type": "code",
   "execution_count": 26,
   "id": "a0a7a434",
   "metadata": {
    "scrolled": true
   },
   "outputs": [
    {
     "data": {
      "image/png": "[encoded data removed]",
      "text/plain": [
       "<Figure size 432x288 with 1 Axes>"
      ]
     },
     "metadata": {
      "needs_background": "light"
     },
     "output_type": "display_data"
    }
   ],
   "source": [
    "import sklearn.metrics as metrics \n",
    "probs = bnb.predict_proba(X_test)\n",
    "preds = probs[:,1]\n",
    "fpr,tpr,threshold = metrics.roc_curve(y_test,y_pred3)\n",
    "roc_auc =metrics.auc(fpr,tpr)\n",
    "plt.title(\"Recevier Operating Characteristic\")\n",
    "plt.plot(fpr,tpr,\"b\",label=\"AUC=%0.2f\"%roc_auc)\n",
    "plt.legend(loc = \"lower right\")\n",
    "plt.plot([0,1],[0,1],\"r--\")\n",
    "plt.xlim([0,1])\n",
    "plt.ylim([0,1])\n",
    "plt.ylabel(\"True Positive Rate\")\n",
    "plt.xlabel(\"false Positive Rate\")\n",
    "plt.show()"
   ]
  },
  {
   "cell_type": "markdown",
   "id": "50ddf2ef",
   "metadata": {},
   "source": [
    "## Hiperparametre Optimizasyonu\n",
    "Hiperparametre optimizasyonu, bir makine öğrenmesi algoritması için belirlenen başarı metriğine göre en uygun hiperparametre kombinasyonunu bulma işlemidir.\n",
    "- Hiperparametre optimizasyonu ile model karmaşıklığı dengelenerek overfitting ve underfitting dengesi sağlanabilir."
   ]
  },
  {
   "cell_type": "markdown",
   "id": "40d53121",
   "metadata": {},
   "source": [
    " Hiperparametre yöntemlerinden GridSearchCV kullanılmıştır.\n",
    "- Modelde denenmesi istenen hiperparametreler ve değerleri için bütün kombinasyonlar ile ayrı ayrı model kurulur ve belirtilen metriğe göre en başarılı hiperparametre seti belirlenir.\n",
    "- (+) Tüm kombinasyonları denendiği için en iyi performans gösteren hiperparametre setini belirlemeyi garanti eder. Küçük veri setlerinde ve sadece birkaç tane hiperparametre denenmek istendiğinde çok iyi çalışır.\n",
    "- (-) Büyük bir veri seti ile çalışıldığında ya da denenecek olan hiperparametre sayısı ve değeri arttırıldığında kombinasyon sayısı da katlanarak artacaktır. Kurulan her modelin cross-validation ile test edildiği de düşünüldüğünde maaliyet korkunç derecede artacaktır bu sebeple alternatif olarak RandomSearchCV yöntemi tercih edilebilir."
   ]
  },
  {
   "cell_type": "markdown",
   "id": "10802d94",
   "metadata": {},
   "source": [
    "## Model Tuning 1 - Nearest Neighbors Classification"
   ]
  },
  {
   "cell_type": "code",
   "execution_count": 27,
   "id": "9e703adb",
   "metadata": {},
   "outputs": [],
   "source": [
    "svr_params1 = { 'n_neighbors' : range(1,30),\n",
    "               'weights' : ['uniform','distance'],\n",
    "               'metric' : ['minkowski','euclidean','manhattan'],\n",
    "                'p': [1,2]}\n",
    "svr_cv_model1 = GridSearchCV(KNeighborsClassifier(), svr_params1, scoring = 'accuracy',cv = 5)"
   ]
  },
  {
   "cell_type": "code",
   "execution_count": 28,
   "id": "9aa4e94c",
   "metadata": {},
   "outputs": [
    {
     "data": {
      "text/plain": [
       "{'metric': 'minkowski', 'n_neighbors': 26, 'p': 1, 'weights': 'uniform'}"
      ]
     },
     "execution_count": 28,
     "metadata": {},
     "output_type": "execute_result"
    }
   ],
   "source": [
    "svr_cv_model1.fit(X_train,y_train)\n",
    "svr_cv_model1.best_params_"
   ]
  },
  {
   "cell_type": "code",
   "execution_count": 29,
   "id": "963a492a",
   "metadata": {},
   "outputs": [
    {
     "name": "stdout",
     "output_type": "stream",
     "text": [
      "0.7769\n",
      "0.8182\n",
      "              precision    recall  f1-score   support\n",
      "\n",
      "           0       0.83      0.93      0.88       107\n",
      "           1       0.77      0.57      0.66        47\n",
      "\n",
      "    accuracy                           0.82       154\n",
      "   macro avg       0.80      0.75      0.77       154\n",
      "weighted avg       0.81      0.82      0.81       154\n",
      "\n"
     ]
    },
    {
     "data": {
      "image/png": "[encoded data removed]",
      "text/plain": [
       "<Figure size 432x288 with 1 Axes>"
      ]
     },
     "metadata": {
      "needs_background": "light"
     },
     "output_type": "display_data"
    }
   ],
   "source": [
    "knn = KNeighborsClassifier(n_neighbors =26, weights=\"uniform\",metric=\"minkowski\",p=1 )\n",
    "knn.fit(X_train,y_train)\n",
    "y_pred1 = knn.predict(X_test)\n",
    "\n",
    "## Karmaşıklık Matrisi\n",
    "## Başarı Oranı\n",
    "print(knn.score(X_train,y_train).round(4))\n",
    "print(accuracy_score(y_test, y_pred1).round(4))\n",
    "print(classification_report(y_test, y_pred1))\n",
    "sns.heatmap(confusion_matrix(y_test,y_pred1),annot=True,lw=2,cbar=False)\n",
    "plt.ylabel(\"True Values\")\n",
    "plt.xlabel(\"Predicted Values\")\n",
    "plt.title(\"Confusin Matrix\")\n",
    "plt.show()"
   ]
  },
  {
   "cell_type": "markdown",
   "id": "77b8382f",
   "metadata": {},
   "source": [
    "## Model Tuning 2 - Classification SVC"
   ]
  },
  {
   "cell_type": "code",
   "execution_count": 30,
   "id": "0c6f7183",
   "metadata": {},
   "outputs": [],
   "source": [
    "svr_params2 = {'C': [0.1, 1, 10, 50, 100], \n",
    "              'kernel': ['linear', 'rbf', 'poly'],\n",
    "              'degree': [0, 1, 2, 3, 4, 5, 6],\n",
    "              'gamma': ['scale', 'auto']}\n",
    "svr_cv_model2 = GridSearchCV(SVC(), svr_params2, scoring = 'accuracy',cv = 5)"
   ]
  },
  {
   "cell_type": "code",
   "execution_count": 31,
   "id": "f0a0b607",
   "metadata": {},
   "outputs": [
    {
     "data": {
      "text/plain": [
       "{'C': 0.1, 'degree': 0, 'gamma': 'scale', 'kernel': 'linear'}"
      ]
     },
     "execution_count": 31,
     "metadata": {},
     "output_type": "execute_result"
    }
   ],
   "source": [
    "svr_cv_model2.fit(X_train,y_train)\n",
    "svr_cv_model2.best_params_"
   ]
  },
  {
   "cell_type": "code",
   "execution_count": 36,
   "id": "a2d22eca",
   "metadata": {},
   "outputs": [
    {
     "name": "stdout",
     "output_type": "stream",
     "text": [
      "0.757328990228013\n",
      "0.8116883116883117\n",
      "              precision    recall  f1-score   support\n",
      "\n",
      "           0       0.84      0.91      0.87       107\n",
      "           1       0.74      0.60      0.66        47\n",
      "\n",
      "    accuracy                           0.81       154\n",
      "   macro avg       0.79      0.75      0.76       154\n",
      "weighted avg       0.81      0.81      0.81       154\n",
      "\n"
     ]
    },
    {
     "data": {
      "image/png": "[encoded data removed]",
      "text/plain": [
       "<Figure size 432x288 with 1 Axes>"
      ]
     },
     "metadata": {
      "needs_background": "light"
     },
     "output_type": "display_data"
    }
   ],
   "source": [
    "svc = SVC(C=0.1 , kernel=\"linear\" , degree=0 , gamma=\"scale\")\n",
    "svc.fit(X_train,y_train)\n",
    "print(svc.score(X_train,y_train))\n",
    "y_pred2 = svc.predict(X_test)\n",
    "\n",
    "## Karmaşıklık Matrisi\n",
    "## Başarı Oranı\n",
    "print(accuracy_score(y_test, y_pred2))\n",
    "print(classification_report(y_test, y_pred2))\n",
    "sns.heatmap(confusion_matrix(y_test,y_pred2),annot=True,lw=2,cbar=False)\n",
    "plt.ylabel(\"True Values\")\n",
    "plt.xlabel(\"Predicted Values\")\n",
    "plt.title(\"Confusin Matrix\")\n",
    "plt.show()"
   ]
  },
  {
   "cell_type": "markdown",
   "id": "338fc6b2",
   "metadata": {},
   "source": [
    "## Model Tuning 3 - Bernoulli Naive Bayes"
   ]
  },
  {
   "cell_type": "code",
   "execution_count": 33,
   "id": "d6106463",
   "metadata": {},
   "outputs": [],
   "source": [
    "svr_params3 = {'alpha': [0.01, 0.1, 0.5, 1.0, 10.0]}\n",
    "\n",
    "svr_cv_model3 = GridSearchCV(BernoulliNB(), svr_params3, scoring = 'accuracy',cv = 5)"
   ]
  },
  {
   "cell_type": "code",
   "execution_count": 34,
   "id": "b31efd5a",
   "metadata": {},
   "outputs": [
    {
     "data": {
      "text/plain": [
       "{'alpha': 0.01}"
      ]
     },
     "execution_count": 34,
     "metadata": {},
     "output_type": "execute_result"
    }
   ],
   "source": [
    "svr_cv_model3.fit(X_train,y_train)\n",
    "svr_cv_model3.best_params_"
   ]
  },
  {
   "cell_type": "code",
   "execution_count": 35,
   "id": "6d208cef",
   "metadata": {},
   "outputs": [
    {
     "name": "stdout",
     "output_type": "stream",
     "text": [
      "Training R^2 = 0.728\n",
      "Test R^2 = 0.7597\n",
      "              precision    recall  f1-score   support\n",
      "\n",
      "           0       0.81      0.86      0.83       107\n",
      "           1       0.62      0.53      0.57        47\n",
      "\n",
      "    accuracy                           0.76       154\n",
      "   macro avg       0.72      0.70      0.70       154\n",
      "weighted avg       0.75      0.76      0.75       154\n",
      "\n"
     ]
    },
    {
     "data": {
      "image/png": "[encoded data removed]",
      "text/plain": [
       "<Figure size 432x288 with 1 Axes>"
      ]
     },
     "metadata": {
      "needs_background": "light"
     },
     "output_type": "display_data"
    }
   ],
   "source": [
    "from sklearn.naive_bayes import BernoulliNB\n",
    "bnb = BernoulliNB(alpha=0.01)\n",
    "bnb.fit(X_train,y_train)\n",
    "y_pred3= bnb.predict(X_test)\n",
    "\n",
    "## Karmaşıklık Matrisi\n",
    "## Başarı Oranı\n",
    "print(f\"Training R^2 = {bnb.score(X_train,y_train).round(4)}\")\n",
    "print(f\"Test R^2 = {accuracy_score(y_test, y_pred3).round(4)}\")\n",
    "print(classification_report(y_test, y_pred3))\n",
    "sns.heatmap(confusion_matrix(y_test,y_pred3),annot=True,lw=2,cbar=False)\n",
    "plt.ylabel(\"True Values\")\n",
    "plt.xlabel(\"Predicted Values\")\n",
    "plt.title(\"Confusin Matrix\")\n",
    "plt.show()"
   ]
  },
  {
   "cell_type": "markdown",
   "id": "65b25d5c",
   "metadata": {},
   "source": [
    "Verilerimizi düzenleyerek üç farklı modelde kullandık.\n",
    "Bu modellerde $R^{2}$ ve AUG değerlerine bakıldı. Model sıralaması aşağıda verilmiştir.\n",
    "\n",
    "- Destek vektör makinesi (SVC)\n",
    "    - Train $R^{2}$ = (0.809)\n",
    "    - Test $R^{2}$ = (0.818)\n",
    "    - AUG = (0.77)\n",
    "\n",
    "- En Yakın Komşular\n",
    "    - Train $R^{2}$ = (0.829)\n",
    "    - Test $R^{2}$ = (0.798)\n",
    "    - AUG = (0.76)\n",
    "    \n",
    "- Bernoulli Naive Bayes\n",
    "    - Train $R^{2}$ = (0.728)\n",
    "    - Test $R^{2}$ = (0.759)\n",
    "    - AUG = (0.70)\n",
    "\n",
    "Bu sonuçlar neticesinde SVC modelimizin en iyi model olduğu sonucuna ulaştık. Lakin her model için model optimizasyonu yaptık. Bunun sonucundaki değerler ise aşağıda verilmiştir.\n",
    "\n",
    "- En Yakın Komşular\n",
    "    - Train $R^{2}$ = (0.776)\n",
    "    - Test $R^{2}$ = (0.818)\n",
    "\n",
    "- Destek vektör makinesi (SVC)\n",
    "    - Train $R^{2}$ = (0.757)\n",
    "    - Test $R^{2}$ = (0.811)\n",
    "    \n",
    "- Bernoulli Naive Bayes\n",
    "    - Train $R^{2}$ = (0.728)\n",
    "    - Test $R^{2}$ = (0.759)\n",
    "    \n",
    "Model optimizasyon sonuçları neticesinde en iyi modelin  En Yakın Komşular modeli olduğuna karar verilmiştir."
   ]
  }
 ],
 "metadata": {
  "kernelspec": {
   "display_name": "Python 3",
   "language": "python",
   "name": "python3"
  },
  "language_info": {
   "codemirror_mode": {
    "name": "ipython",
    "version": 3
   },
   "file_extension": ".py",
   "mimetype": "text/x-python",
   "name": "python",
   "nbconvert_exporter": "python",
   "pygments_lexer": "ipython3",
   "version": "3.8.8"
  }
 },
 "nbformat": 4,
 "nbformat_minor": 5
}
